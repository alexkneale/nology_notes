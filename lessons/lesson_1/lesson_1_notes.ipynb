{
 "cells": [
  {
   "cell_type": "markdown",
   "id": "914cae76",
   "metadata": {},
   "source": [
    "##### Command lines\n",
    "\n",
    "\n",
    "Command Line Interface (CLI) --> terminal where you interact with computer (making commands)\n",
    "Graphic User Interface (GUI) --> graphical equivalent (ie File Explorer)"
   ]
  },
  {
   "cell_type": "markdown",
   "id": "bab1a74e",
   "metadata": {},
   "source": [
    "Useful commands\n",
    "\n",
    "cd (change directory)\n",
    "\n",
    "cd .. (move one level back)\n",
    "\n",
    "cd ../.. (move two levels back)\n",
    "\n",
    "ls (list all items in current directory)\n",
    "\n",
    "ls -l (gives info as to when files created and commits etc)\n",
    "\n",
    "pwd (print working directory)\n",
    "\n",
    "ls -la (list all items, including hidden files)\n",
    "\n",
    "rm <file name> (delete file)\n",
    "\n",
    "rm -r <directory name> (delete directory, recursively (r))\n"
   ]
  },
  {
   "cell_type": "markdown",
   "id": "9d3fadce",
   "metadata": {},
   "source": [
    "gitflow.png analysis\n",
    "\n",
    "There are three elements on your computer (working directory, staging area and local repository)\n",
    "\n",
    "working directory --> where you're working, starting space. Once you've coded everything you want to, add to git (\"git add <filename> \"). This adds the files to the staging area. They are now tracked files. To add all new/updated changes to staging area, just use \"git add .\" \n",
    "\n",
    "staging area --> here, changes area temporarily stored, before being committed to local repository (using \"git commit -m \"your message\"\")\n",
    "\n",
    "local repository --> all changes have been made to this. Now can push changes to remote repo on github (using \"git push\")\n",
    "\n",
    "going from remote to local repository:\n",
    "- git clone --> brings everything from local repository to working directory. only have to do this first time you're copying a repository. \n",
    "- git pull (which is actually a combination of git fetch + git merge) --> brings everything from local repository to local repository. Use this after cloning the first time.\n",
    "\n",
    "#### Linking local repo to remote github repo\n",
    "\n",
    "git remote add origin git@github.com:nology-tech/alan-turing-cohort.git\n",
    "\n",
    "Check to see it exists\n",
    "\n",
    "git remote show origin\n",
    "\n",
    "Now we push to remote repo\n",
    "\n",
    "git push --> causes error as upstream main repo not clear\n",
    "\n",
    "run the following instead:\n",
    "\n",
    "git push"
   ]
  },
  {
   "cell_type": "markdown",
   "id": "397b52cf",
   "metadata": {},
   "source": []
  }
 ],
 "metadata": {
  "language_info": {
   "name": "python"
  }
 },
 "nbformat": 4,
 "nbformat_minor": 5
}
