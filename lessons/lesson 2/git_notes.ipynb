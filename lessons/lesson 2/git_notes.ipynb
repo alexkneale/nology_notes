{
 "cells": [
  {
   "cell_type": "markdown",
   "id": "97c80f25",
   "metadata": {},
   "source": [
    "### Branching\n",
    "\n",
    "\n",
    "To create a git branch from a repo 'main'\n",
    "\n",
    "git branch my_branch main\n",
    "\n",
    "Listing all branches\n",
    "\n",
    "git branch\n",
    "\n",
    "When you try to push a new branch in your local, which doesn't have an equivalent in remote, will get an error. So create equivalent branch on remote and then push\n",
    "\n"
   ]
  }
 ],
 "metadata": {
  "language_info": {
   "name": "python"
  }
 },
 "nbformat": 4,
 "nbformat_minor": 5
}
