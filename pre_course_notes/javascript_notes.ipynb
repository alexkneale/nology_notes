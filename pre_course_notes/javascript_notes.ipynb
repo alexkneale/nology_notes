{
 "cells": [
  {
   "cell_type": "markdown",
   "id": "fd991bcf",
   "metadata": {},
   "source": [
    "Console → panel that displays important messages/errors/print statements\n",
    "\n",
    "Printing → log to console"
   ]
  },
  {
   "cell_type": "code",
   "execution_count": null,
   "id": "98669c13",
   "metadata": {
    "vscode": {
     "languageId": "javascript"
    }
   },
   "outputs": [],
   "source": [
    "console.log(5);"
   ]
  },
  {
   "cell_type": "markdown",
   "id": "398b300b",
   "metadata": {},
   "source": [
    "Commenting"
   ]
  },
  {
   "cell_type": "code",
   "execution_count": null,
   "id": "4cabaddf",
   "metadata": {
    "vscode": {
     "languageId": "javascript"
    }
   },
   "outputs": [],
   "source": [
    "// Single line \n",
    "\n",
    "// Prints 5 to the console\n",
    "console.log(5);\n",
    "\n",
    "\n",
    "\n",
    "// Multi line\n",
    "\n",
    "/*\n",
    "This is all commented \n",
    "console.log(10);\n",
    "None of this is going to run!\n",
    "console.log(99);\n",
    "*/\n",
    "\n",
    "\n",
    "\n",
    "// Multi line in middle of code\n",
    "\n",
    "console.log(/*IGNORED!*/ 5);  // Still just prints 5 \n",
    "\n"
   ]
  },
  {
   "cell_type": "markdown",
   "id": "bd05fc08",
   "metadata": {},
   "source": [
    "### Data types --> primitive data types\n",
    "\n",
    "- Number → including numbers with decimals\n",
    "\n",
    "- BigInt → integers\n",
    "\n",
    "- String → can be both ‘’ or “”\n",
    "\n",
    "- Boolean → true or false (lower case)\n",
    "\n",
    "- null → intentional absence of value\n",
    "\n",
    "- undefined → like null, but means that given value does not exist\n",
    "\n",
    "- Object → collections for related data\n",
    "\n",
    "- Symbol → complicated\n"
   ]
  },
  {
   "cell_type": "markdown",
   "id": "cc8f0785",
   "metadata": {},
   "source": [
    "### Operators, Properties and Methods\n",
    "\n",
    "Arithmetic operators → +,-,*,/ and % (remainder)\n"
   ]
  },
  {
   "cell_type": "markdown",
   "id": "4e8dca4d",
   "metadata": {},
   "source": [
    "String concatenation\n"
   ]
  },
  {
   "cell_type": "code",
   "execution_count": null,
   "id": "6bf10bbd",
   "metadata": {
    "vscode": {
     "languageId": "javascript"
    }
   },
   "outputs": [],
   "source": [
    "console.log('hi' + 'ya'); // Prints 'hiya'"
   ]
  },
  {
   "cell_type": "markdown",
   "id": "378c3a88",
   "metadata": {},
   "source": [
    "Properties → every data type has properties that can be accessed  → e.g. string length"
   ]
  },
  {
   "cell_type": "code",
   "execution_count": null,
   "id": "39b98716",
   "metadata": {
    "vscode": {
     "languageId": "javascript"
    }
   },
   "outputs": [],
   "source": [
    "'hello'.length"
   ]
  },
  {
   "cell_type": "markdown",
   "id": "4c19264e",
   "metadata": {},
   "source": [
    "Methods → accessed with ‘.’ + method name + ()"
   ]
  },
  {
   "cell_type": "code",
   "execution_count": null,
   "id": "52df5111",
   "metadata": {
    "vscode": {
     "languageId": "javascript"
    }
   },
   "outputs": [],
   "source": [
    "console.log('hello'.toUpperCase()); // Prints 'HELLO'\n",
    "console.log('Hey'.startsWith('H')); // Prints true\n"
   ]
  },
  {
   "cell_type": "markdown",
   "id": "e75e8463",
   "metadata": {},
   "source": [
    "#### Built in objects\n",
    "\n",
    "Useful ones → Math\n",
    "\n",
    "\n"
   ]
  },
  {
   "cell_type": "code",
   "execution_count": null,
   "id": "1f0cd535",
   "metadata": {
    "vscode": {
     "languageId": "javascript"
    }
   },
   "outputs": [],
   "source": [
    "console.log(Math.random()); // Prints a random number between 0 and 1\n",
    "console.log(Math.floor(Math.random() * 50)); // Prints a random whole number between 0 and 50\n",
    "Math.ceil() // ceiling\n",
    "Number.isInteger() // Check to see for integer\n"
   ]
  },
  {
   "cell_type": "markdown",
   "id": "128df0ac",
   "metadata": {},
   "source": [
    "### Variables → container for values\n",
    "\n",
    "Way to declare variables → var, let, const\n",
    "\n",
    "var --> functional-scoped\n",
    "\n",
    "let/const --> block-scoped\n"
   ]
  },
  {
   "cell_type": "code",
   "execution_count": null,
   "id": "c52d6392",
   "metadata": {
    "vscode": {
     "languageId": "javascript"
    }
   },
   "outputs": [],
   "source": [
    "// var \n",
    "// NB → variable names cannot start with numbers\n",
    "\n",
    "var myName = 'Arya';\n",
    "console.log(myName);\n",
    "// Output: Arya\n"
   ]
  },
  {
   "cell_type": "markdown",
   "id": "80faaea3",
   "metadata": {},
   "source": [
    "let → variables can be reassigned a different value\n",
    "\n"
   ]
  },
  {
   "cell_type": "code",
   "execution_count": null,
   "id": "0da8da44",
   "metadata": {
    "vscode": {
     "languageId": "javascript"
    }
   },
   "outputs": [],
   "source": [
    "let meal = 'Enchiladas';\n",
    "meal = 'Burrito';\n",
    "\n",
    "let w = 4;\n",
    "w = w + 1;\n",
    "console.log(w); // Output: 5\n",
    "\n",
    "// Can even declare variable without assigning it a value\n",
    "\n",
    "let price;\n",
    "console.log(price); // Output: undefined\n",
    "price = 350;\n",
    "\n"
   ]
  },
  {
   "cell_type": "markdown",
   "id": "db48194a",
   "metadata": {},
   "source": [
    "NB, to reassign value, do not use 'let' again. For example, the following would raise an error\n"
   ]
  },
  {
   "cell_type": "code",
   "execution_count": null,
   "id": "3c297f63",
   "metadata": {
    "vscode": {
     "languageId": "javascript"
    }
   },
   "outputs": [],
   "source": [
    "let meal = 'Enchiladas';\n",
    "let meal = 'Burrito';\n",
    "// ERROR"
   ]
  },
  {
   "cell_type": "markdown",
   "id": "a032ac66",
   "metadata": {},
   "source": [
    "const → When using a const declaration, you are creating a variable that is a read-only reference to its name. This is not to be confused with immutable variables. \n",
    "\n"
   ]
  },
  {
   "cell_type": "code",
   "execution_count": null,
   "id": "c2f88d6f",
   "metadata": {
    "vscode": {
     "languageId": "javascript"
    }
   },
   "outputs": [],
   "source": [
    "const myPet = 'armadillo';\n"
   ]
  },
  {
   "cell_type": "markdown",
   "id": "61106549",
   "metadata": {},
   "source": [
    "However, data of const not necessarily immutable"
   ]
  },
  {
   "cell_type": "code",
   "execution_count": null,
   "id": "4edac368",
   "metadata": {
    "vscode": {
     "languageId": "javascript"
    }
   },
   "outputs": [],
   "source": [
    "const names = [\"Stacy\", \"Ginger\"];\n",
    "names.push(\"James\");\n",
    "console.log(names);\n",
    "// [\"Stacy\", \"Ginger\", \"James\"]\n"
   ]
  },
  {
   "cell_type": "markdown",
   "id": "c68e2164",
   "metadata": {},
   "source": [
    "#### Arithmetic Shortcuts\n",
    "\n"
   ]
  },
  {
   "cell_type": "code",
   "execution_count": null,
   "id": "8953daff",
   "metadata": {
    "vscode": {
     "languageId": "javascript"
    }
   },
   "outputs": [],
   "source": [
    "let x = 20;\n",
    "x -= 5; // Can be written as x = x - 5\n",
    "console.log(x); // Output: 15\n",
    "\n",
    "let y = 50;\n",
    "y *= 2; // Can be written as y = y * 2\n",
    "console.log(y); // Output: 100\n",
    "\n",
    "let z = 8;\n",
    "z /= 2; // Can be written as z = z / 2\n",
    "console.log(z); // Output: 4\n",
    "\n",
    "\n",
    "let a = 10;\n",
    "a++;\n",
    "console.log(a); // Output: 11\n",
    "\n",
    "let b = 20;\n",
    "b--;\n",
    "console.log(b); // Output: 19\n"
   ]
  },
  {
   "cell_type": "markdown",
   "id": "cb85e58a",
   "metadata": {},
   "source": [
    "String interpolation\n",
    "\n",
    "NB → in string, not surrounded by ‘’ but by `` (key left of the 1 key)"
   ]
  },
  {
   "cell_type": "code",
   "execution_count": null,
   "id": "83530d1a",
   "metadata": {
    "vscode": {
     "languageId": "javascript"
    }
   },
   "outputs": [],
   "source": [
    "const myPet = 'armadillo';\n",
    "console.log(`I own a pet ${myPet}.`);\n",
    "// Output: I own a pet armadillo.\n",
    "\n"
   ]
  },
  {
   "cell_type": "markdown",
   "id": "90037777",
   "metadata": {},
   "source": [
    "typeof operator → checks value to its right\n"
   ]
  },
  {
   "cell_type": "code",
   "execution_count": null,
   "id": "1ee2b541",
   "metadata": {
    "vscode": {
     "languageId": "javascript"
    }
   },
   "outputs": [],
   "source": [
    "const unknown1 = 'foo';\n",
    "console.log(typeof unknown1); // Output: string\n",
    "\n",
    "const unknown2 = 10;\n",
    "console.log(typeof unknown2); // Output: number\n",
    "\n",
    "const unknown3 = true; \n",
    "console.log(typeof unknown3); // Output: boolean\n"
   ]
  },
  {
   "cell_type": "markdown",
   "id": "7b3721eb",
   "metadata": {},
   "source": [
    "## Javascript Objects\n",
    "\n",
    "A JavaScript object is a collection data type, and each piece of data that is inside of a object is referred to as a property of that object. And a property is made of two parts: a key which is the property's name, and the value, that is associated with that key. And these properties are known as key value pairs.\n",
    "\n",
    "JavaScript objects can be used to represent real-world objects as data. To demonstrate this, I'm gonna begin by creating a car object. Below, 'make', 'model' etc are the keys, and to the right of them the values\n"
   ]
  },
  {
   "cell_type": "code",
   "execution_count": null,
   "id": "ce508596",
   "metadata": {
    "vscode": {
     "languageId": "javascript"
    }
   },
   "outputs": [],
   "source": [
    "const car = {\n",
    "    make: \"Ford\",\n",
    "    model: \"Bronco\",\n",
    "    awd: true,\n",
    "    color: \"Blue\",\n",
    "    trim: [\"standard\", \"xlt\", \"lariat\"]\n",
    "};\n"
   ]
  },
  {
   "cell_type": "markdown",
   "id": "954b696c",
   "metadata": {},
   "source": [
    "How do we access a specific value from a property that's in an object? There are two ways to access object property values."
   ]
  },
  {
   "cell_type": "code",
   "execution_count": null,
   "id": "7cd6eab8",
   "metadata": {
    "vscode": {
     "languageId": "javascript"
    }
   },
   "outputs": [],
   "source": [
    "const car = {\n",
    "    make: \"Ford\",\n",
    "    model: \"Bronco\",\n",
    "    awd: true,\n",
    "    color: \"Blue\",\n",
    "    trim: [\"standard\", \"xlt\", \"lariat\"]\n",
    "};\n",
    "\n",
    "// first method\n",
    "console.log(car.awd);\n",
    "\n",
    "//second method\n",
    "console.log(car[\"trim\"]);"
   ]
  },
  {
   "cell_type": "markdown",
   "id": "503c79b2",
   "metadata": {},
   "source": [
    "Now, is there any real difference between these two methods? Well, any property name that has a special character or number can only be accessed using square bracket notation.\n",
    "\n",
    "Can also use these two methods to change the values of properties, or add new properties, like below"
   ]
  },
  {
   "cell_type": "code",
   "execution_count": null,
   "id": "148ddfe0",
   "metadata": {
    "vscode": {
     "languageId": "javascript"
    }
   },
   "outputs": [],
   "source": [
    "const car = {\n",
    "    make: \"Ford\",\n",
    "    model: \"Bronco\",\n",
    "    awd: true,\n",
    "    color: \"Blue\",\n",
    "    trim: [\"standard\", \"xlt\", \"lariat\"]\n",
    "};\n",
    "\n",
    "// changing values of properties\n",
    "car.make = \"Toyota\";\n",
    "car.model = \"Corolla\";\n",
    "car[\"awd\"] = false;\n",
    "\n",
    "// adding new property\n",
    "car.doors = 4;\n",
    "car[\"navigation\"] = true;"
   ]
  },
  {
   "cell_type": "markdown",
   "id": "25a850c6",
   "metadata": {},
   "source": [
    "### Conditional statements\n",
    "\n",
    "if statements\n"
   ]
  },
  {
   "cell_type": "code",
   "execution_count": null,
   "id": "ea6c5a8b",
   "metadata": {
    "vscode": {
     "languageId": "javascript"
    }
   },
   "outputs": [],
   "source": [
    "// example\n",
    "if (true) {\n",
    "  console.log('This message will print!'); \n",
    "}\n",
    "\n",
    "let sale = true;\n",
    "if (sale) {\n",
    "    console.log('Time to buy!')\n",
    "}\n"
   ]
  },
  {
   "cell_type": "markdown",
   "id": "405ee22e",
   "metadata": {},
   "source": [
    "if... else statement"
   ]
  },
  {
   "cell_type": "code",
   "execution_count": null,
   "id": "37c6a881",
   "metadata": {
    "vscode": {
     "languageId": "javascript"
    }
   },
   "outputs": [],
   "source": [
    "if (false) {\n",
    "  console.log('The code in this block will not run.');\n",
    "} else {\n",
    "  console.log('But the code in this block will!');\n",
    "}\n",
    "\n",
    "// Prints: But the code in this block will!\n"
   ]
  },
  {
   "cell_type": "markdown",
   "id": "8ec61c0b",
   "metadata": {},
   "source": [
    "##### Comparison operators --> always returns boolean\n"
   ]
  },
  {
   "cell_type": "code",
   "execution_count": null,
   "id": "bd5b7e62",
   "metadata": {
    "vscode": {
     "languageId": "javascript"
    }
   },
   "outputs": [],
   "source": [
    "// Less than: \n",
    "\n",
    "<\n",
    "\n",
    "// Greater than: \n",
    "\n",
    ">\n",
    "\n",
    "// Less than or equal to: \n",
    "\n",
    "<=\n",
    "\n",
    "// Greater than or equal to: \n",
    "\n",
    ">=\n",
    "\n",
    "// loose equality, equal value\n",
    "\n",
    "==\n",
    "\n",
    "// loose inequality, not equal value\n",
    "\n",
    "!=\n",
    "\n",
    "\n",
    "// equal value and equal type: \n",
    "\n",
    "===\n",
    "\n",
    "// not equal value or equal type: \n",
    "\n",
    "!=="
   ]
  },
  {
   "cell_type": "markdown",
   "id": "ca295b20",
   "metadata": {},
   "source": [
    "Looking at '==' vs '==='"
   ]
  },
  {
   "cell_type": "code",
   "execution_count": null,
   "id": "19ce3b97",
   "metadata": {
    "vscode": {
     "languageId": "javascript"
    }
   },
   "outputs": [],
   "source": [
    "console.log(5 =='5');\n",
    "// true\n",
    "\n",
    "console.log(5 === '5');\n",
    "// false"
   ]
  },
  {
   "cell_type": "markdown",
   "id": "fb6a383f",
   "metadata": {},
   "source": [
    "### Logical operators --> always return boolean\n"
   ]
  },
  {
   "cell_type": "code",
   "execution_count": null,
   "id": "1fd1af76",
   "metadata": {
    "vscode": {
     "languageId": "javascript"
    }
   },
   "outputs": [],
   "source": [
    "// and operator, only returns true if ALL statements are true\n",
    "&&\n",
    "\n",
    "\n",
    "// or operator, returns true if at least one statement true\n",
    "||\n",
    "\n",
    "// not operator (otherwise know as the bang operator)\n",
    "!"
   ]
  },
  {
   "cell_type": "markdown",
   "id": "fb2ad15e",
   "metadata": {},
   "source": [
    "##### Truthy and Falsy\n",
    "\n",
    "When non-boolean data types checked inside a condition\n"
   ]
  },
  {
   "cell_type": "code",
   "execution_count": null,
   "id": "35e69945",
   "metadata": {
    "vscode": {
     "languageId": "javascript"
    }
   },
   "outputs": [],
   "source": [
    "Example\n",
    "let myVariable = 'I Exist!';\n",
    "if (myVariable) {\n",
    "   console.log(myVariable)\n",
    "} else {\n",
    "   console.log('The variable does not exist.')\n",
    "}\n"
   ]
  },
  {
   "cell_type": "markdown",
   "id": "2d8189a9",
   "metadata": {},
   "source": [
    "The code block in the if statement will run because myVariable has a truthy value; even though the value of myVariable is not explicitly the value true, when used in a boolean or conditional context, it evaluates to true because it has been assigned a non-falsy value. So which values are falsy— or evaluate to false when checked as a condition? The list of falsy values includes:\n",
    "\n",
    "- 0\n",
    "\n",
    "- Empty strings like \"\" or ''\n",
    "\n",
    "- null which represent when there is no value at all\n",
    "\n",
    "- undefined which represent when a declared variable lacks a value\n",
    "\n",
    "- NaN, or Not a Number\n",
    "\n"
   ]
  },
  {
   "cell_type": "code",
   "execution_count": null,
   "id": "f8cbdc42",
   "metadata": {
    "vscode": {
     "languageId": "javascript"
    }
   },
   "outputs": [],
   "source": [
    "// Another example\n",
    "\n",
    "let username = '';\n",
    "let defaultName = username || 'Stranger';\n",
    "console.log(defaultName); // Prints: Stranger\n"
   ]
  },
  {
   "cell_type": "markdown",
   "id": "aca88753",
   "metadata": {},
   "source": [
    "Explanation: because || or statements check the left-hand condition first, the variable defaultName will be assigned the actual value of username if it is truthy, and it will be assigned the value of 'Stranger' if username is falsy. This concept is also referred to as short-circuit evaluation."
   ]
  },
  {
   "cell_type": "markdown",
   "id": "fb4c5007",
   "metadata": {},
   "source": [
    "##### Ternary Operator\n",
    "\n",
    "Can use ternary operator to simplify if… else statement. For example:\n",
    "\n"
   ]
  },
  {
   "cell_type": "code",
   "execution_count": null,
   "id": "9d926b1e",
   "metadata": {
    "vscode": {
     "languageId": "javascript"
    }
   },
   "outputs": [],
   "source": [
    "let isNightTime = true;\n",
    "\n",
    "// this long statement can be shortened\n",
    "if (isNightTime) {\n",
    "  console.log('Turn on the lights!');\n",
    "} else {\n",
    "  console.log('Turn off the lights!'); }\n",
    "\n",
    "// shortened version using ternary operator\n",
    "isNightTime ? console.log('Turn on the lights!') : console.log('Turn off the lights!');\n",
    "\n",
    "\n"
   ]
  },
  {
   "cell_type": "markdown",
   "id": "c1b3c5ab",
   "metadata": {},
   "source": [
    "##### Else if\n"
   ]
  },
  {
   "cell_type": "code",
   "execution_count": null,
   "id": "9a38182d",
   "metadata": {
    "vscode": {
     "languageId": "javascript"
    }
   },
   "outputs": [],
   "source": [
    "let stopLight = 'yellow';\n",
    "\n",
    "if (stopLight === 'red') {\n",
    "  console.log('Stop!');\n",
    "} else if (stopLight === 'yellow') {\n",
    "  console.log('Slow down.');\n",
    "} else if (stopLight === 'green') {\n",
    "  console.log('Go!');\n",
    "} else {\n",
    "  console.log('Caution, unknown!');\n",
    "}\n"
   ]
  },
  {
   "cell_type": "markdown",
   "id": "708505a3",
   "metadata": {},
   "source": [
    "##### The switch keyword\n",
    "\n",
    "Used to avoid writing million if else if statements\n"
   ]
  },
  {
   "cell_type": "code",
   "execution_count": null,
   "id": "9f07cbb6",
   "metadata": {
    "vscode": {
     "languageId": "javascript"
    }
   },
   "outputs": [],
   "source": [
    "\n",
    "let groceryItem = 'papaya';\n",
    "\n",
    "// Instead of writing millions of if, else if, else statements, such as below:\n",
    "\n",
    "if (groceryItem === 'tomato') {\n",
    "  console.log('Tomatoes are $0.49');\n",
    "} else if (groceryItem === 'papaya'){\n",
    "  console.log('Papayas are $1.29');\n",
    "} else {\n",
    "  console.log('Invalid item');\n",
    "}\n",
    "\n",
    "// Use switch statements instead\n",
    "\n",
    "switch (groceryItem) {\n",
    "  case 'tomato':\n",
    "    console.log('Tomatoes are $0.49');\n",
    "    break;\n",
    "  case 'lime':\n",
    "    console.log('Limes are $1.49');\n",
    "    break;\n",
    "  case 'papaya':\n",
    "    console.log('Papayas are $1.29');\n",
    "    break;\n",
    "  default:\n",
    "    console.log('Invalid item');\n",
    "    break;\n",
    "}\n",
    "// Prints 'Papayas are $1.29'\n",
    "\n"
   ]
  },
  {
   "cell_type": "markdown",
   "id": "654ca7e0",
   "metadata": {},
   "source": [
    "#### Functions \n",
    "\n",
    "keyword = ‘function’\n",
    "\n",
    "\n"
   ]
  },
  {
   "cell_type": "code",
   "execution_count": null,
   "id": "fafab591",
   "metadata": {
    "vscode": {
     "languageId": "javascript"
    }
   },
   "outputs": [],
   "source": [
    "function greetWorld(){ console.log('Hello world');}\n",
    "\n"
   ]
  },
  {
   "cell_type": "code",
   "execution_count": null,
   "id": "945fd727",
   "metadata": {
    "vscode": {
     "languageId": "javascript"
    }
   },
   "outputs": [],
   "source": [
    "// Hoisting → can access function before it’s defined\n",
    "\n",
    "greetWorld(); // Output: Hello, World!\n",
    "\n",
    "function greetWorld() {\n",
    "  console.log('Hello, World!');\n",
    "}\n",
    "\n",
    "// note you cannot do this with ES6 arrow functions\n",
    "// this is really main difference between ES6 and ES5\n",
    "\n",
    "greetWorld(); // Output: Hello, World!\n",
    "\n",
    "const greetWorld = () => {\n",
    "  console.log(\"Hello, World!\");\n",
    "} \n"
   ]
  },
  {
   "cell_type": "markdown",
   "id": "2c9b04a3",
   "metadata": {},
   "source": [
    "Default parameters in functions → allow parameters to have predetermined value in case no argument is passed to function\n"
   ]
  },
  {
   "cell_type": "code",
   "execution_count": null,
   "id": "69ba17a3",
   "metadata": {
    "vscode": {
     "languageId": "javascript"
    }
   },
   "outputs": [],
   "source": [
    "function greeting(name = 'stranger') {\n",
    "  console.log(`Hello, ${name}!`)\n",
    "}\n",
    "greeting('Nick') // Output: Hello, Nick!\n",
    "greeting() // Output: Hello, stranger!\n"
   ]
  },
  {
   "cell_type": "markdown",
   "id": "64ad9f77",
   "metadata": {},
   "source": [
    "return → used at end of function to return value\n",
    "\n",
    "Can call functions within functions\n",
    "\n",
    "Function expression --> functions that are stored in a variable, and can be accessed using variables names\n",
    "\n",
    "If you want a function that's available throughout your whole program, use a function declaration. If you want to take a function and maybe use it as arguments to other functions, use function expression."
   ]
  },
  {
   "cell_type": "code",
   "execution_count": null,
   "id": "45545bc2",
   "metadata": {
    "vscode": {
     "languageId": "javascript"
    }
   },
   "outputs": [],
   "source": [
    "// below we have a function declaration\n",
    "function calculateArea(width, height) {\n",
    "    const area = width * height;\n",
    "    return area;\n",
    "}\n",
    "\n",
    "// now we have function expression\n",
    "const calculateArea = function(width, height) {\n",
    "    const area = width * height;\n",
    "    return area;\n",
    "}"
   ]
  },
  {
   "cell_type": "code",
   "execution_count": null,
   "id": "7400bccf",
   "metadata": {
    "vscode": {
     "languageId": "javascript"
    }
   },
   "outputs": [],
   "source": [
    "function add(numberOne, numberTwo){\n",
    "  return numberOne + numberTwo;\n",
    "}\n",
    "function subtract(numberOne, numberTwo){\n",
    "  return numberOne - numberTwo;\n",
    "}\n",
    "function multiply(numberOne, numberTwo){\n",
    "  return numberOne*numberTwo;\n",
    "}\n",
    "function divide(numberOne, numberTwo){\n",
    "  return numberOne/numberTwo;\n",
    "}\n",
    "\n",
    "function runCalculator(operator, numberOne, numberTwo) {\n",
    "  let result;\n",
    "  if(operator === \"+\"){\n",
    "    result = add(numberOne, numberTwo);\n",
    "  } else if(operator === \"-\"){\n",
    "    result = subtract(numberOne, numberTwo);\n",
    "  } else if(operator === \"*\"){\n",
    "    result = multiply(numberOne, numberTwo);\n",
    "  } else if(operator === \"/\"){\n",
    "    result = divide(numberOne, numberTwo);\n",
    "  } else {\n",
    "    result = \"Please use a valid operator!\";\n",
    "  }\n",
    "\n",
    "  // Return the result\n",
    "  return result;\n",
    "}\n",
    "\n",
    "\n",
    "console.log(runCalculator(\"+\", 4, 6))\n",
    "// Write additional runCalculator calls below this line\n",
    "console.log(runCalculator(\"-\", 40, 10));\n",
    "console.log(runCalculator(\"*\", 15, 11));\n",
    "console.log(runCalculator(\"/\", 30, 5));\n",
    "console.log(runCalculator(\"car\", 7, 15));"
   ]
  },
  {
   "cell_type": "markdown",
   "id": "9653e9fe",
   "metadata": {},
   "source": [
    "Arrow functions → remove need to type out ‘function’ everytime you create a function expression.\n"
   ]
  },
  {
   "cell_type": "code",
   "execution_count": null,
   "id": "ce4d2653",
   "metadata": {
    "vscode": {
     "languageId": "javascript"
    }
   },
   "outputs": [],
   "source": [
    "const rectangleArea = (width, height) => {\n",
    "  let area = width * height;\n",
    "  return area;\n",
    "};\n"
   ]
  },
  {
   "cell_type": "markdown",
   "id": "3a658fb3",
   "metadata": {},
   "source": [
    "Concise body arrow functions → way to make functions more concise \n",
    "\n",
    "- For functions with single parameter → dont need ()\n",
    "\n",
    "- For functions with single block of code inside → dont need {} → NB, without {} can’t include ‘return’ either\n"
   ]
  },
  {
   "cell_type": "code",
   "execution_count": null,
   "id": "706cfe3f",
   "metadata": {
    "vscode": {
     "languageId": "javascript"
    }
   },
   "outputs": [],
   "source": [
    "// So if we have a function:\n",
    "\n",
    "const squareNum = (num) => {\n",
    "  return num * num;\n",
    "};\n",
    "\n",
    "// can rewrite as\n",
    "\n",
    "const squareNum = num => num * num;\n",
    "\n"
   ]
  },
  {
   "cell_type": "markdown",
   "id": "fb2a9166",
   "metadata": {},
   "source": [
    "#### Scope → defines where variables can be accessed or referenced\n",
    "\n",
    "Blocks → code inside {}\n",
    "\n"
   ]
  },
  {
   "cell_type": "code",
   "execution_count": null,
   "id": "bb32cb2b",
   "metadata": {
    "vscode": {
     "languageId": "javascript"
    }
   },
   "outputs": [],
   "source": [
    "// In following example, function can access variable outside of block of code inside function\n",
    "\n",
    "const city = 'New York City';\n",
    "\n",
    "function logCitySkyline() {\n",
    "\n",
    "    let skyscraper = 'Empire State Building'\n",
    "\n",
    "    return 'The stars over the ' + skyscraper + ' in ' + city;\n",
    "}\n",
    "\n",
    "console.log(logCitySkyline())\n"
   ]
  },
  {
   "cell_type": "markdown",
   "id": "4692cb92",
   "metadata": {},
   "source": [
    "When variable declared inside block, or {}, it is only accessible to lines of code within block\n",
    "\n",
    "Bad to have too many global variables / to reuse variables in global and local namespace → ‘scope pollution’. \n",
    "\n",
    "Look at example below, where we forget ‘let’ in second time we define num\n"
   ]
  },
  {
   "cell_type": "code",
   "execution_count": null,
   "id": "e52a3dd5",
   "metadata": {
    "vscode": {
     "languageId": "javascript"
    }
   },
   "outputs": [],
   "source": [
    "let num = 50;\n",
    "\n",
    "const logNum = () => {\n",
    "  num = 100; // Take note of this line of code\n",
    "  console.log(num);\n",
    "};\n",
    "\n",
    "logNum(); // Prints 100\n",
    "console.log(num); // Prints 100\n"
   ]
  },
  {
   "cell_type": "markdown",
   "id": "28161fc0",
   "metadata": {},
   "source": [
    "However, below, we don’t forget ‘let’, and all works as expected.\n"
   ]
  },
  {
   "cell_type": "code",
   "execution_count": null,
   "id": "81854de8",
   "metadata": {
    "vscode": {
     "languageId": "javascript"
    }
   },
   "outputs": [],
   "source": [
    "const logVisibleLightWaves = () => {\n",
    "\n",
    "    let lightWaves = 'Moonlight';\n",
    "\n",
    "    let region = 'The Arctic';\n",
    "\n",
    "    if (region === 'The Arctic') {\n",
    "        \n",
    "        let lightWaves = 'Northern Lights'\n",
    "\n",
    "        console.log(lightWaves) //Northern Lights\n",
    "    }\n",
    "    console.log(lightWaves); // Moonlight\n",
    "};\n",
    "\n",
    "\n",
    "logVisibleLightWaves();\n"
   ]
  },
  {
   "cell_type": "markdown",
   "id": "e732c087",
   "metadata": {},
   "source": [
    "### Arrays --> collection data types\n",
    "\n",
    "[] --> ordered, can store any data type\n",
    "\n",
    "\n",
    "Indexing → starts from 0 → if you access something out of list (e.g. 3 in an array of only 2 elements) then will return ‘undefined’\n",
    "\n",
    "String indexing → can access individual characters in string\n"
   ]
  },
  {
   "cell_type": "code",
   "execution_count": null,
   "id": "9f38e3fd",
   "metadata": {
    "vscode": {
     "languageId": "javascript"
    }
   },
   "outputs": [],
   "source": [
    "const hello = 'Hello World';\n",
    "console.log(hello[6]);\n",
    "// Output: W\n"
   ]
  },
  {
   "cell_type": "markdown",
   "id": "c5568457",
   "metadata": {},
   "source": [
    "Can change value of element of array with indexing → \n"
   ]
  },
  {
   "cell_type": "code",
   "execution_count": null,
   "id": "5b21aa5c",
   "metadata": {
    "vscode": {
     "languageId": "javascript"
    }
   },
   "outputs": [],
   "source": [
    "let seasons = ['Winter', 'Spring', 'Summer', 'Fall'];\n",
    "seasons[3] = 'Autumn';\n",
    "console.log(seasons); \n",
    "\n",
    "//Output: ['Winter', 'Spring', 'Summer', 'Autumn']\n"
   ]
  },
  {
   "cell_type": "markdown",
   "id": "1697f883",
   "metadata": {},
   "source": [
    "For arrays declared with ‘const’ → individual elements can also be changed,  but array as whole cannot be reassigned\n",
    "\n",
    "Accessing length of array → .length\n"
   ]
  },
  {
   "cell_type": "code",
   "execution_count": null,
   "id": "6e9561aa",
   "metadata": {
    "vscode": {
     "languageId": "javascript"
    }
   },
   "outputs": [],
   "source": [
    "const newYearsResolutions = ['Keep a journal', 'Take a falconry class']\n",
    "console.log(newYearsResolutions.length);\n",
    "// Output: 2\n"
   ]
  },
  {
   "cell_type": "markdown",
   "id": "26e46be3",
   "metadata": {},
   "source": [
    ".push() Method → to add elements to an array\n"
   ]
  },
  {
   "cell_type": "code",
   "execution_count": null,
   "id": "de4554cb",
   "metadata": {
    "vscode": {
     "languageId": "javascript"
    }
   },
   "outputs": [],
   "source": [
    "const itemTracker = ['item 0', 'item 1', 'item 2'];\n",
    "itemTracker.push('item 3', 'item 4');\n",
    "console.log(itemTracker); \n",
    "// Output: ['item 0', 'item 1', 'item 2', 'item 3', 'item 4'];\n"
   ]
  },
  {
   "cell_type": "markdown",
   "id": "cf48020b",
   "metadata": {},
   "source": [
    ".pop() Method → removes last item of array → item that’s removed has to be declared to \n"
   ]
  },
  {
   "cell_type": "code",
   "execution_count": null,
   "id": "28813422",
   "metadata": {
    "vscode": {
     "languageId": "javascript"
    }
   },
   "outputs": [],
   "source": [
    "const newItemTracker = ['item 0', 'item 1', 'item 2'];\n",
    "const removed = newItemTracker.pop();\n",
    "console.log(newItemTracker); \n",
    "// Output: [ 'item 0', 'item 1' ]\n",
    "console.log(removed);\n",
    "// Output: item 2\n"
   ]
  },
  {
   "cell_type": "markdown",
   "id": "a145fb35",
   "metadata": {},
   "source": [
    "shift() Method → removes and returns first element of array\n",
    "\n",
    ".unshift() Method → adds one or more elements to beginning of array\n",
    "\n",
    ".slice() Method → returns shallow copy of part of an array. Accesses elements of array with beginning and end indices.\n"
   ]
  },
  {
   "cell_type": "code",
   "execution_count": null,
   "id": "93d33bd6",
   "metadata": {
    "vscode": {
     "languageId": "javascript"
    }
   },
   "outputs": [],
   "source": [
    "const weekDays = [ 'Monday', 'Tuesday', 'Wednesday', 'Thursday', 'Friday', 'Saturday', 'Sunday',];\n",
    "\n",
    "const outOutOffice = weekDays.slice(1, 4);\n",
    "// ['Tuesday', 'Wednesday', 'Thursday']\n"
   ]
  },
  {
   "cell_type": "markdown",
   "id": "eac5fcc9",
   "metadata": {},
   "source": [
    ".splice() --> modifies the original array directly by adding, removing, or replacing elements. \n",
    "\n",
    ".splice(starting index, number of elements to replace, what to replace elements with)\n",
    "\n"
   ]
  },
  {
   "cell_type": "code",
   "execution_count": null,
   "id": "f56a7cc5",
   "metadata": {
    "vscode": {
     "languageId": "javascript"
    }
   },
   "outputs": [],
   "source": [
    "\n",
    "const originalArray = [1, 2, 3, 4, 5];\n",
    "\n",
    "originalArray.splice(2, 1, 9); // Removes element at index 2, replaces it with 9\n",
    "console.log(originalArray); // Output: [1, 2, 9, 4, 5] (original array modified)\n",
    "\n"
   ]
  },
  {
   "cell_type": "code",
   "execution_count": null,
   "id": "e30dd9ff",
   "metadata": {
    "vscode": {
     "languageId": "javascript"
    }
   },
   "outputs": [],
   "source": [
    "const originalArray = [1, 2, 3, 4, 5];\n",
    "originalArray.splice(2, 2, 9,9); // Removes element at index 2 and 3, replaces it with 9,9 (for each)\n",
    "console.log(originalArray); // Output: [1, 2, 9,9,9,9 , 4, 5] (original array modified)\n",
    "\n"
   ]
  },
  {
   "cell_type": "markdown",
   "id": "c5b0898a",
   "metadata": {},
   "source": [
    "Can also use splice to insert element, without deleting any elements"
   ]
  },
  {
   "cell_type": "code",
   "execution_count": null,
   "id": "13467e43",
   "metadata": {
    "vscode": {
     "languageId": "javascript"
    }
   },
   "outputs": [],
   "source": [
    "const animals = ['lions', 'tigers', 'bears', 'pandas'];\n",
    "\n",
    "animals.splice(2,0,'sloths');\n",
    "console.log(animals)\n",
    "// [\"lions\", \"tigers\", \"sloths\", \"bears\", \"pandas\"]\n"
   ]
  },
  {
   "cell_type": "markdown",
   "id": "f0cfc5ab",
   "metadata": {},
   "source": [
    ".indexOf() Method → returns first index at which an element can be found. Returns -1 if element cannot be found.\n"
   ]
  },
  {
   "cell_type": "code",
   "execution_count": null,
   "id": "0a78f7ab",
   "metadata": {
    "vscode": {
     "languageId": "javascript"
    }
   },
   "outputs": [],
   "source": [
    "const pastaIndex = groceryList.indexOf('pasta');\n",
    "\n",
    "console.log(pastaIndex);"
   ]
  },
  {
   "cell_type": "markdown",
   "id": "7d89540d",
   "metadata": {},
   "source": [
    "Nested array → when array contains other array. Indexing like in python\n"
   ]
  },
  {
   "cell_type": "code",
   "execution_count": null,
   "id": "7a717dbd",
   "metadata": {
    "vscode": {
     "languageId": "javascript"
    }
   },
   "outputs": [],
   "source": [
    "const nestedArr = [[1], [2, 3]];\n"
   ]
  },
  {
   "cell_type": "markdown",
   "id": "6931c2a0",
   "metadata": {},
   "source": [
    "### Loops\n",
    "\n",
    "##### For loop\n",
    "\n",
    "Consists of three parts:\n",
    "\n",
    "- Initialization → e.g. counter\n",
    "\n",
    "- Stopping condition\n",
    "\n",
    "- Iteration statement → how iterator is updated every iteration\n",
    "\n"
   ]
  },
  {
   "cell_type": "code",
   "execution_count": null,
   "id": "f8d870d6",
   "metadata": {
    "vscode": {
     "languageId": "javascript"
    }
   },
   "outputs": [],
   "source": [
    "for (let counter = 0; counter < 4; counter++) {\n",
    "  console.log(counter);}\n"
   ]
  },
  {
   "cell_type": "markdown",
   "id": "bc42cb58",
   "metadata": {},
   "source": [
    "Backwards for loop\n"
   ]
  },
  {
   "cell_type": "code",
   "execution_count": null,
   "id": "778e8583",
   "metadata": {
    "vscode": {
     "languageId": "javascript"
    }
   },
   "outputs": [],
   "source": [
    "for (let counter = 3; counter >=0; counter--){\n",
    " console.log(counter);}\n"
   ]
  },
  {
   "cell_type": "markdown",
   "id": "9782ba76",
   "metadata": {},
   "source": [
    "Looping through array\n"
   ]
  },
  {
   "cell_type": "code",
   "execution_count": null,
   "id": "34c8f982",
   "metadata": {
    "vscode": {
     "languageId": "javascript"
    }
   },
   "outputs": [],
   "source": [
    "const animals = ['Grizzly Bear', 'Sloth', 'Sea Lion'];\n",
    "for (let i = 0; i < animals.length; i++){\n",
    "  console.log(animals[i]);}\n"
   ]
  },
  {
   "cell_type": "markdown",
   "id": "bba54682",
   "metadata": {},
   "source": [
    "While loop\n"
   ]
  },
  {
   "cell_type": "code",
   "execution_count": null,
   "id": "b67e5a99",
   "metadata": {
    "vscode": {
     "languageId": "javascript"
    }
   },
   "outputs": [],
   "source": [
    "let counterTwo = 1;\n",
    "while (counterTwo < 4) {\n",
    "  console.log(counterTwo);\n",
    "  counterTwo++;}\n"
   ]
  },
  {
   "cell_type": "markdown",
   "id": "d4f72ab9",
   "metadata": {},
   "source": [
    "Do… while loop → When you want a piece of code to run at least once and then loop based on a specific condition after its initial run.\n",
    "\n",
    "Unlike the while loop, do...while will run at least once whether or not the condition evaluates to true.\n"
   ]
  },
  {
   "cell_type": "code",
   "execution_count": null,
   "id": "36ccfa7d",
   "metadata": {
    "vscode": {
     "languageId": "javascript"
    }
   },
   "outputs": [],
   "source": [
    "let countString = '';\n",
    "let i = 0;\n",
    "do {\n",
    "  countString = countString + i;\n",
    "  i++;\n",
    "} while (i < 5);\n",
    "console.log(countString);\n"
   ]
  },
  {
   "cell_type": "markdown",
   "id": "41871713",
   "metadata": {},
   "source": [
    "Break \n"
   ]
  },
  {
   "cell_type": "code",
   "execution_count": null,
   "id": "7cc851de",
   "metadata": {
    "vscode": {
     "languageId": "javascript"
    }
   },
   "outputs": [],
   "source": [
    "for (let i = 0; i < 99; i++) {\n",
    "  if (i > 2 ) {\n",
    "     break;\n",
    "  }\n",
    "  console.log('Banana.');\n",
    "}\n",
    "console.log('Orange you glad I broke out the loop!');\n",
    "// Output:\n",
    "// Banana.\n",
    "// Banana.\n",
    "// Banana.\n",
    "// Orange you glad I broke out the loop!\n"
   ]
  },
  {
   "cell_type": "markdown",
   "id": "3ee2ef8a",
   "metadata": {},
   "source": [
    "Can assign function to variables, and then reassign them to new variables\n",
    "\n",
    "Renaming functions → NB lack of parentheses when assigning it to ‘busy’\n"
   ]
  },
  {
   "cell_type": "code",
   "execution_count": null,
   "id": "f7095b7c",
   "metadata": {
    "vscode": {
     "languageId": "javascript"
    }
   },
   "outputs": [],
   "source": [
    "const announceThatIAmDoingImportantWork = () => {\n",
    "    console.log(\"I’m doing very important work!\");\n",
    "};\n",
    "\n",
    "const busy = announceThatIAmDoingImportantWork; \n",
    "\n",
    "busy(); // This function call barely takes any space!\n"
   ]
  },
  {
   "cell_type": "markdown",
   "id": "260cf89b",
   "metadata": {},
   "source": [
    "Functions have properties and methods as well\n",
    "\n",
    "Functions can accept other functions as parameters → NB don’t use parentheses function() when passed as parameter\n"
   ]
  },
  {
   "cell_type": "code",
   "execution_count": null,
   "id": "1feeaa26",
   "metadata": {
    "vscode": {
     "languageId": "javascript"
    }
   },
   "outputs": [],
   "source": [
    "const higherOrderFunc = param => {\n",
    "  param();\n",
    "  return `I just invoked ${param.name} as a callback function!`}\n",
    "const anotherFunc = () => {\n",
    "  return 'I\\'m being invoked by the higher-order function!';}\n",
    "higherOrderFunc(anotherFunc);\n"
   ]
  },
  {
   "cell_type": "markdown",
   "id": "cbb7181f",
   "metadata": {},
   "source": [
    "In example below, we invoke higherOrderFunc with anonymous function (function without name)\n"
   ]
  },
  {
   "cell_type": "code",
   "execution_count": null,
   "id": "18789bc7",
   "metadata": {
    "vscode": {
     "languageId": "javascript"
    }
   },
   "outputs": [],
   "source": [
    "higherOrderFunc(() => {\n",
    "  for (let i = 0; i <= 10; i++){\n",
    "    console.log(i);  }});"
   ]
  },
  {
   "cell_type": "markdown",
   "id": "19bf9c6f",
   "metadata": {},
   "source": [
    "#### For, of loops\n",
    "\n",
    "Way to loop through elements of arrays directly, without indexing"
   ]
  },
  {
   "cell_type": "code",
   "execution_count": null,
   "id": "10c66e8d",
   "metadata": {
    "vscode": {
     "languageId": "javascript"
    }
   },
   "outputs": [],
   "source": [
    "const letters = [\"A\", \"B\", \"C\", \"D\"];\n",
    "\n",
    "for(const letter of letters){\n",
    "    console.log(letter);\n",
    "}"
   ]
  },
  {
   "cell_type": "markdown",
   "id": "d440ebc4",
   "metadata": {},
   "source": [
    "#### For in loops"
   ]
  },
  {
   "cell_type": "code",
   "execution_count": null,
   "id": "63870a7c",
   "metadata": {
    "vscode": {
     "languageId": "javascript"
    }
   },
   "outputs": [],
   "source": [
    "const printCarDetails = (carObject) => {\n",
    "    for (const detail in carObject) {\n",
    "        console.log(detail);\n",
    "    }\n",
    "    // Write a for...in loop below this line\n",
    "};\n",
    "\n",
    "printCarDetails(car);\n"
   ]
  },
  {
   "cell_type": "markdown",
   "id": "0c14030a",
   "metadata": {},
   "source": [
    "#### Iterators → methods which make looping through arrays easier.\n"
   ]
  },
  {
   "cell_type": "code",
   "execution_count": null,
   "id": "cd344725",
   "metadata": {
    "vscode": {
     "languageId": "javascript"
    }
   },
   "outputs": [],
   "source": [
    "const artists = ['Picasso', 'Kahlo', 'Matisse', 'Utamaro'];\n",
    "// forEach executes same code on each element of array\n",
    "artists.forEach(artist => {\n",
    " console.log(artist + ' is one of my favorite artists.');\n",
    "});\n",
    "\n",
    "\n",
    "const numbers = [1, 2, 3, 4, 5];\n",
    "// NB .map returns new array \n",
    "const squareNumbers = numbers.map(number => {\n",
    " return number * number;\n",
    "});\n",
    "\n",
    "\n",
    "console.log(squareNumbers);\n",
    "\n",
    "\n",
    "const things = ['desk', 'chair', 5, 'backpack', 3.14, 100];\n",
    "// .filter creates new array with only elements for each true/false statement returned true\n",
    "const onlyNumbers = things.filter(thing => {\n",
    " return typeof thing === 'number';\n",
    "});\n",
    "\n",
    "\n",
    "console.log(onlyNumbers);\n",
    "\n",
    "// Output\n",
    "\n",
    "// Picasso is one of my favorite artists.\n",
    "// Kahlo is one of my favorite artists.\n",
    "// Matisse is one of my favorite artists.\n",
    "// Utamaro is one of my favorite artists.\n",
    "// [ 1, 4, 9, 16, 25 ]\n",
    "// [ 5, 3.14, 100 ]\n",
    "\n"
   ]
  },
  {
   "cell_type": "markdown",
   "id": "1771bbf9",
   "metadata": {},
   "source": [
    "#### About Map and filter functions\n",
    "\n",
    "Above we used map and filter functions, which are examples of higher order functions\n"
   ]
  },
  {
   "cell_type": "markdown",
   "id": "efe78fd9",
   "metadata": {},
   "source": [
    ".forEach\n",
    "\n",
    "We can also define a function beforehand to be used as the callback function\n"
   ]
  },
  {
   "cell_type": "code",
   "execution_count": null,
   "id": "9d3d567c",
   "metadata": {
    "vscode": {
     "languageId": "javascript"
    }
   },
   "outputs": [],
   "source": [
    "function printGrocery(element){\n",
    "  console.log(element);}\n",
    "groceries.forEach(printGrocery);\n"
   ]
  },
  {
   "cell_type": "markdown",
   "id": "72cadd6b",
   "metadata": {},
   "source": [
    ".map→ main difference between .forEach is that .map returns NEW ARRAY\n",
    "\n",
    ".findIndex Method → returns first index of what evaluates to true in truth statement. If no element satisfies condition, returns -1\n"
   ]
  },
  {
   "cell_type": "code",
   "execution_count": null,
   "id": "c8aab469",
   "metadata": {
    "vscode": {
     "languageId": "javascript"
    }
   },
   "outputs": [],
   "source": [
    "const jumbledNums = [123, 25, 78, 5, 9];\n",
    "\n",
    "const lessThanTen = jumbledNums.findIndex(num => {\n",
    "  return num < 10;});\n"
   ]
  },
  {
   "cell_type": "markdown",
   "id": "03ff71ef",
   "metadata": {},
   "source": [
    ".reduce() → method combines each element of an array, using a specified reducer function, and returns a single value.\n",
    "\n",
    "Arguments:\n",
    "\n",
    "- accumulator is the returned value from the function\n",
    "\n",
    "- currentValue is the element being iterated over\n",
    "\n",
    "- initialValue (optional) → initial value of accumulator\n"
   ]
  },
  {
   "cell_type": "code",
   "execution_count": null,
   "id": "3e945a3c",
   "metadata": {
    "vscode": {
     "languageId": "javascript"
    }
   },
   "outputs": [],
   "source": [
    "const numbers = [1, 2, 4, 10];\n",
    "const summedNums = numbers.reduce((accumulator, currentValue) => {\n",
    "  return accumulator + currentValue\n",
    "})\n",
    "console.log(summedNums) // Output: 17\n"
   ]
  },
  {
   "cell_type": "markdown",
   "id": "1db37a08",
   "metadata": {},
   "source": [
    "Here are the values of accumulator and currentValue as we iterate through the numbers array:\n",
    "\n",
    "Iteration       accumulator         currentValue        return value\n",
    "First           1                   2                   3\n",
    "Second          3                   4                   7\n",
    "Third           7                   10                  17\n",
    "\n"
   ]
  },
  {
   "cell_type": "code",
   "execution_count": null,
   "id": "5781380b",
   "metadata": {
    "vscode": {
     "languageId": "javascript"
    }
   },
   "outputs": [],
   "source": [
    "\n",
    "// Using optional initial value parameter\n",
    "\n",
    "const numbers = [1, 2, 4, 10];\n",
    "const summedNums = numbers.reduce((accumulator, currentValue) => {\n",
    "  return accumulator + currentValue\n",
    "}, 100)  // <- Second argument for .reduce()\n",
    "console.log(summedNums); // Output: 117\n"
   ]
  }
 ],
 "metadata": {
  "kernelspec": {
   "display_name": "towel_rails",
   "language": "python",
   "name": "python3"
  },
  "language_info": {
   "codemirror_mode": {
    "name": "ipython",
    "version": 3
   },
   "file_extension": ".py",
   "mimetype": "text/x-python",
   "name": "python",
   "nbconvert_exporter": "python",
   "pygments_lexer": "ipython3",
   "version": "3.11.9"
  }
 },
 "nbformat": 4,
 "nbformat_minor": 5
}
