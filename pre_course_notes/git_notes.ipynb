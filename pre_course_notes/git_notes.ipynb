{
 "cells": [
  {
   "cell_type": "markdown",
   "id": "4420ac64",
   "metadata": {},
   "source": [
    "#### Lesson 1"
   ]
  },
  {
   "cell_type": "markdown",
   "id": "2891e390",
   "metadata": {},
   "source": [
    "Branches are a version control used by git to safely make changes to files. Every git repository has a default branch, usually master or main. When changes are made to files in a git branch, those changes aren't reflected in the same files on master until that new branch has been merged.\n",
    "\n"
   ]
  },
  {
   "cell_type": "markdown",
   "id": "3ff3cf4f",
   "metadata": {},
   "source": [
    "Cloning repo\n"
   ]
  },
  {
   "cell_type": "code",
   "execution_count": null,
   "id": "3971c16a",
   "metadata": {
    "vscode": {
     "languageId": "shellscript"
    }
   },
   "outputs": [],
   "source": [
    "git clone https://github.com/cloudacademy/example-git-repo.git"
   ]
  },
  {
   "cell_type": "markdown",
   "id": "e5655f98",
   "metadata": {},
   "source": [
    "One of the advantages of working with Git is the ability to track changes to your files and roll back to any change needed at any point. Git does this by using tools called commits, which are snapshots of a code repository at a single point in time. When you make a commit to a git repository, you're creating another snapshot of that repository, which can be referred to or even rolled back to in the future. Rolling back simply means reverting the contents of a code repository to a specific commit, regardless of any changes that have been made since that commit was created. This allows for a large level of safety in a codebase.\n",
    "\n"
   ]
  },
  {
   "cell_type": "code",
   "execution_count": null,
   "id": "a2c97da4",
   "metadata": {
    "vscode": {
     "languageId": "shellscript"
    }
   },
   "outputs": [],
   "source": [
    "git status"
   ]
  },
  {
   "cell_type": "markdown",
   "id": "7b240221",
   "metadata": {},
   "source": [
    "The git status command will show you any differences there are in files between the last commit (or snapshot) and now. Since you only recently checked out the repository and haven't made any changes, there are no differences to show. If there were changes to any files they would be displayed here. How they're displayed and handled, however, depends on whether the file is tracked.\n",
    "\n"
   ]
  },
  {
   "cell_type": "markdown",
   "id": "7dc6d80c",
   "metadata": {},
   "source": [
    "Files in Git can be two types: tracked or untracked. Tracked files are those that were present in the last snapshot, or commit, made to the repository. Tracked files can be unmodified, modified or staged. If a tracked file is unmodified, then it hasn't been edited since the last commit. If it's been edited, it'll be a modified file. Modified files won't be included in a commit until they become staged files, which happens with a git command you will use later in the Lab Step. Staged files are modified files that have been added to the staging area. A staging area is a group of files that will be included in the next commit. Files in Git can be modified but not staged, meaning you have a lot of flexibility in what you want to include in any commit.\n",
    "\n"
   ]
  },
  {
   "cell_type": "markdown",
   "id": "73298d23",
   "metadata": {},
   "source": [
    "Untracked files are all other files in the directory. They're files that weren't present in the last commit or have been designated as ignored files, which you will learn about later in this Lab Step.\n",
    "\n"
   ]
  },
  {
   "cell_type": "code",
   "execution_count": null,
   "id": "4fbf4139",
   "metadata": {
    "vscode": {
     "languageId": "shellscript"
    }
   },
   "outputs": [],
   "source": [
    "touch about.html\n"
   ]
  },
  {
   "cell_type": "markdown",
   "id": "e05ed87f",
   "metadata": {},
   "source": [
    "This will create a file in your repository called about.html.\n",
    "\n",
    "Now when you run git status command, Notice the untracked files section. The new file, about.html, appears here. This is because the file has been created, but not added to Git. Git won't include this file until it's been added to the staging area and then committed.\n",
    "\n"
   ]
  },
  {
   "cell_type": "code",
   "execution_count": null,
   "id": "6336d6ab",
   "metadata": {
    "vscode": {
     "languageId": "shellscript"
    }
   },
   "outputs": [],
   "source": [
    "git add about.html\n",
    "\n",
    "git status"
   ]
  },
  {
   "cell_type": "markdown",
   "id": "6147a828",
   "metadata": {},
   "source": [
    "The git add command adds a file to the staging area. To reiterate, any files in the staging area will be included in the next commit made, meaning the next time you make a commit it will include (and therefore start tracking) the about.html file. Before you can make a commit, however, you'll need to tell Git who you are, so it knows to whom the file changes should be attributed.\n"
   ]
  },
  {
   "cell_type": "code",
   "execution_count": null,
   "id": "a0683eb8",
   "metadata": {
    "vscode": {
     "languageId": "shellscript"
    }
   },
   "outputs": [],
   "source": [
    "git config user.name \"Cloud Academy Student\"\n",
    "\n",
    "git config user.email \"student@cloudacademy.com\"\n"
   ]
  },
  {
   "cell_type": "markdown",
   "id": "243e7140",
   "metadata": {},
   "source": [
    "This will set the name and email fields of Git's configuration. Commits made in this repository moving forward will be attributed to the name and email you set.\n",
    "\n",
    "6. Commit your changes with the following command:\n"
   ]
  },
  {
   "cell_type": "code",
   "execution_count": null,
   "id": "deab8164",
   "metadata": {
    "vscode": {
     "languageId": "shellscript"
    }
   },
   "outputs": [],
   "source": [
    "git commit -m \"Add an about file\""
   ]
  },
  {
   "cell_type": "markdown",
   "id": "e93b12d1",
   "metadata": {},
   "source": [
    "The -m flag allows to you pass a commit message when making the commit.\n",
    "\n",
    "7. Running git status once more shows that as expected, there are no longer untracked, modified or staged files:\n",
    "\n",
    "Also, notice the phrase Your branch is ahead of 'origin/master by 1 commit\". This means that the \"origin\" remote (in this case, the Github repository you cloned this codebase from) doesn't know about this commit yet. You can let the \"origin\" remote know about this by using a git push command, which is beyond the scope of this Lab but is covered in another Git Lab.\n",
    "\n",
    "You just created an untracked file and added it to Git. Next, you will work with a tracked file.\n",
    "\n",
    "8. Edit and view a tracked file with this command:\n",
    "\n"
   ]
  },
  {
   "cell_type": "code",
   "execution_count": null,
   "id": "46910b95",
   "metadata": {
    "vscode": {
     "languageId": "shellscript"
    }
   },
   "outputs": [],
   "source": [
    "echo \"This is my about page\" > about.html\n",
    "\n",
    "git status"
   ]
  },
  {
   "cell_type": "markdown",
   "id": "133a0cc1",
   "metadata": {},
   "source": [
    "##### Note on echo command\n",
    "\n",
    "The echo command simply prints text to the terminal.\n",
    "\n",
    "So what does echo \"Hello, World\" > index.html do?\n",
    "\n",
    "This writes the text \"Hello, World\" into a file named index.html.\n",
    "\n",
    "🧠 How?\n",
    "The > symbol is a redirect operator.\n",
    "\n",
    "It tells the shell:\n",
    "\n",
    "\"Take the output of the command on the left (echo \"Hello, World\") and send it into the file on the right (index.html).\"\n",
    "\n",
    "So it creates or overwrites the file index.html with the text \"Hello, World\"\n",
    "\n",
    "Note, to append instead of overwrite, use >>.\n",
    "\n",
    "##### Back to lesson\n",
    "\n",
    "Notice that now, instead of an Untracked files section, you have a Changes not staged for commit section, with one modified file in it. Because about.html was present in the last commit, it's a tracked file now. Any changes to the contents of the file will switch the file from unmodified to modified.\n",
    "\n",
    "\n",
    "9. Stage the about.html file and make a new commit with the newest changes:\n",
    "\n"
   ]
  },
  {
   "cell_type": "code",
   "execution_count": null,
   "id": "80b6471e",
   "metadata": {
    "vscode": {
     "languageId": "shellscript"
    }
   },
   "outputs": [],
   "source": [
    "git add about.html\n",
    "\n",
    "git commit -m \"Add a message to the about file\"\n"
   ]
  },
  {
   "cell_type": "markdown",
   "id": "e3a3eaea",
   "metadata": {},
   "source": [
    "10. View all commits made so far:"
   ]
  },
  {
   "cell_type": "code",
   "execution_count": null,
   "id": "7e524179",
   "metadata": {
    "vscode": {
     "languageId": "shellscript"
    }
   },
   "outputs": [],
   "source": [
    "git log\n"
   ]
  },
  {
   "cell_type": "markdown",
   "id": "70dc32b1",
   "metadata": {},
   "source": [
    "The git log command displays all commits made, with the newest commits on top. As expected, the two commits you made are the first and second commits in the output."
   ]
  },
  {
   "cell_type": "markdown",
   "id": "d12281ae",
   "metadata": {},
   "source": [
    "### Lesson 2: Branching\n",
    "\n",
    "\n",
    "#### Note on Difference between a repository and a branch\n",
    "\n",
    "##### 🧩 Simple Analogy\n",
    "\n",
    "Repository : A whole project folder with everything inside\n",
    "\n",
    "Branch : A version of that folder you're working in\n",
    "\n",
    "\n",
    "##### 📦 What is a Repository?\n",
    "A repository (or repo for short) is the entire project being tracked by Git. It contains:\n",
    "\n",
    "All of your project files and folders (e.g., .js, .html, images, etc.)\n",
    "\n",
    "A hidden .git folder that tracks all changes (commits, branches, etc.)\n",
    "\n",
    "The full history of your project\n",
    "\n",
    "Metadata like remotes, branches, tags, and more\n",
    "\n",
    "There are two types of repositories:\n",
    "\n",
    "Local repo: On your computer\n",
    "\n",
    "Remote repo: On a platform like GitHub or GitLab\n",
    "\n",
    "🧠 Think of a repository as a container for your code and its complete version history.\n",
    "\n",
    "##### 🌿 What is a Branch?\n",
    "A branch is a movable pointer to a snapshot of your project’s history.\n",
    "\n",
    "It lets you work on new features, fixes, or experiments separately from the main code.\n",
    "\n",
    "The default branch is usually called main (or sometimes master).\n",
    "\n",
    "You can create as many branches as you like (e.g., feature/login, bugfix/header, etc.)\n",
    "\n",
    "You can later merge them back into the main branch when you're done.\n",
    "\n",
    "🧠 Think of a branch as a parallel timeline or workspace inside the same repo.\n",
    "\n"
   ]
  },
  {
   "cell_type": "markdown",
   "id": "bee0f258",
   "metadata": {},
   "source": [
    "##### Lesson \n",
    "\n",
    "github repo with two branches: https://github.com/cloudacademy/example-git-repo/branches/all\n",
    "\n",
    "Notice the branch, feature/update-title. To the far right of the branch name is the status, Merged. A merged branch means that the changes to the files in that branch are now reflected in the default branch.\n",
    "\n",
    "you can use Git commits to create snapshots of a codebase at different points in time, to refer back to as needed. Another tool you can use in Git is branching. Branches are widely considered one of the most useful things about Git because they allow you to safely edit files and only have them affect the codebase once you want them to. In this Lab Step, you'll learn about branches in Git and how to use them to safely work with a codebase.\n",
    "\n",
    "The git branch command will output a list of branches. Notice that right now, because you haven't created any other branches, there is only one branch in the output of your command. The default branch for any Git repository is usually master, though you can change which branch is the default if needed.\n",
    "\n",
    "Note the * next to master. An asterisk in a git branch command tells you which branch you're currently checked out under. Think of the idea of checking out a branch as declaring which branch you'd like your code changes to take effect on. You're currently checked out to the master branch, so any changes you make will take effect on that branch until you check out another.\n",
    "\n",
    "To checkout another branch, for example, other_branch, use 'checkout'\n"
   ]
  },
  {
   "cell_type": "code",
   "execution_count": null,
   "id": "0acdef9d",
   "metadata": {
    "vscode": {
     "languageId": "shellscript"
    }
   },
   "outputs": [],
   "source": [
    "git checkout other_branch\n"
   ]
  },
  {
   "cell_type": "markdown",
   "id": "42868a33",
   "metadata": {},
   "source": [
    "2. Run the following command:\n"
   ]
  },
  {
   "cell_type": "code",
   "execution_count": null,
   "id": "50b3e3a8",
   "metadata": {
    "vscode": {
     "languageId": "shellscript"
    }
   },
   "outputs": [],
   "source": [
    "git log --oneline\n"
   ]
  },
  {
   "cell_type": "code",
   "execution_count": null,
   "id": "9f47eda0",
   "metadata": {
    "vscode": {
     "languageId": "shellscript"
    }
   },
   "outputs": [],
   "source": [
    "# output\n",
    "\n",
    "2dca417 (HEAD -> master, origin/master, origin/HEAD) Merge pull request #1 from cloudacademy/feature/update-title\n",
    "\n",
    "f2d9c95 (origin/feature/update-title) update title\n",
    "\n",
    "ae05432 Initial commit\n"
   ]
  },
  {
   "cell_type": "markdown",
   "id": "71547971",
   "metadata": {},
   "source": [
    "Understanding the meaning of the text \n",
    "\n",
    "The git log command shows you a few different useful things and the --oneline flag will display the output in a summarized, easy-to-read format. Start by noticing that there are several commits listed in the output. A Git log shows you a list of commits made to the repository. Also, notice that next to some commits is a parenthesized list containing one or more branches, such as master, origin/master, and origin/feature/update-title. That shows you the latest commit that any particular branch is associated with. This is one of the most important things about Git to learn: Branches can be considered moveable pointers to a commit.\n",
    "\n",
    "The part in parentheses shows the references (also called refs) pointing to each commit — things like:\n",
    "\n",
    "- Branches (local and remote)\n",
    "\n",
    "- HEAD (your current checked-out position)\n",
    "\n",
    "- Remote-tracking branches\n",
    "\n",
    "\n",
    "Finally, to the right of any branch names is a commit message, which is a message you can pass when making a commit for others to see later.\n",
    "\n",
    "\n",
    "\n",
    "Going line by line\n"
   ]
  },
  {
   "cell_type": "code",
   "execution_count": null,
   "id": "1163f2c4",
   "metadata": {
    "vscode": {
     "languageId": "shellscript"
    }
   },
   "outputs": [],
   "source": [
    "2dca417 (HEAD -> master, origin/master, origin/HEAD) Merge pull request #1 from cloudacademy/feature/update-title\n"
   ]
  },
  {
   "cell_type": "markdown",
   "id": "09bb7be1",
   "metadata": {},
   "source": [
    "\n",
    "🔢 2dca417\n",
    "\n",
    "This is the short commit hash — a unique ID for the commit.\n",
    "\n",
    "🏷️ (HEAD -> master, origin/master, origin/HEAD)\n",
    "\n",
    "These are the Git references that currently point to this commit:\n",
    "\n",
    "HEAD -> master:\n",
    "\n",
    "→ You're currently on the local master branch (HEAD is pointing to master).\n",
    "\n",
    "→ And master is pointing to this commit.\n",
    "\n",
    "origin/master:\n",
    "\n",
    "→ The master branch on the remote repo (origin) also points here.\n",
    "\n",
    "origin/HEAD:\n",
    "\n",
    "→ The default branch on the remote repo is master, and it also points here.\n",
    "\n",
    "✅ So:\n",
    "\n",
    "Your local master, the remote master, and the remote's default branch all point to this same commit.\n",
    "\n",
    "📝 Merge pull request #1 from cloudacademy/feature/update-title\n",
    "\n",
    "This is the commit message.\n",
    "\n",
    "It’s a merge commit — it means someone merged the feature/update-title branch into master, probably using a pull request (on GitHub or similar).\n",
    "\n"
   ]
  },
  {
   "cell_type": "code",
   "execution_count": null,
   "id": "da2a310f",
   "metadata": {
    "vscode": {
     "languageId": "shellscript"
    }
   },
   "outputs": [],
   "source": [
    "f2d9c95 (origin/feature/update-title) update title\n"
   ]
  },
  {
   "cell_type": "markdown",
   "id": "8fd058e1",
   "metadata": {},
   "source": [
    "f2d9c95\n",
    "Another unique commit ID.\n",
    "\n",
    "🏷️ (origin/feature/update-title)\n",
    "\n",
    "This commit is pointed to by the remote branch feature/update-title.\n",
    "\n",
    "🧠 You do not have a local branch named feature/update-title, but Git knows that origin (the remote) does.\n",
    "\n",
    "📝 update title\n",
    "\n",
    "The commit message: likely the actual change made in the feature branch (e.g. editing a title tag or heading).\n",
    "\n"
   ]
  },
  {
   "cell_type": "code",
   "execution_count": null,
   "id": "23881e23",
   "metadata": {
    "vscode": {
     "languageId": "shellscript"
    }
   },
   "outputs": [],
   "source": [
    "ae05432 Initial commit\n"
   ]
  },
  {
   "cell_type": "markdown",
   "id": "daedf03a",
   "metadata": {},
   "source": [
    "\n",
    "🔢 ae05432\n",
    "\n",
    "The first commit ever made in this repo.\n",
    "\n",
    "🏷️ (no labels)\n",
    "\n",
    "No branch currently points directly to this commit. It's just part of history.\n",
    "\n",
    "📝 Initial commit\n",
    "\n",
    "The message of the first commit. Usually the starting point of the project.\n",
    "\n",
    "Execute the following:"
   ]
  },
  {
   "cell_type": "code",
   "execution_count": null,
   "id": "4a2c8606",
   "metadata": {
    "vscode": {
     "languageId": "shellscript"
    }
   },
   "outputs": [],
   "source": [
    "git log --oneline --graph\n",
    "\n",
    "ca-labs:~/example-git-repo$ git log --oneline --graph\n",
    "\n",
    "*   2dca417 (HEAD -> master, origin/master, origin/HEAD) Merge pull request #1 from cloudacademy/feature/update-title\n",
    "|\\  \n",
    "| * f2d9c95 (origin/feature/update-title) update title\n",
    "|/  \n",
    "* ae05432 Initial commit"
   ]
  },
  {
   "cell_type": "markdown",
   "id": "61e5072a",
   "metadata": {},
   "source": [
    "\n",
    "Note how the commit that branch points to is split from the main branch on the far left (the master branch). This is where a commit was made that differentiated the origin/feature/update-title branch from the master branch. At this point, any changes made to this branch have not taken effect on the master branch.\n",
    "\n",
    "Notice that in the next commit, the origin/feature/update-title branch rejoins the master branch. The description in that commit says Merge pull request #1 from cloudacademy/feature/update-title:\n",
    "\n",
    "\n",
    "From this you can tell that the origin/feature/update-title branch was merged back into the master branch, meaning that the changes made in the origin/feature/update-title branch were incorporated into the master branch.\n",
    "\n",
    "In this Lab Step, you will apply your new knowledge of Git branches by creating a new branch, making a commit to that branch, and merging your changes back into the master branch.\n",
    "\n",
    "Instructions\n",
    "\n",
    "1. Enter the following commands:\n",
    "\n"
   ]
  },
  {
   "cell_type": "code",
   "execution_count": null,
   "id": "47020dc9",
   "metadata": {
    "vscode": {
     "languageId": "shellscript"
    }
   },
   "outputs": [],
   "source": [
    "git checkout -b add-about-page\n",
    "\n",
    "git branch"
   ]
  },
  {
   "cell_type": "markdown",
   "id": "4aa3ca30",
   "metadata": {},
   "source": [
    "The git branch command with a string argument will create a new branch with a name matching that string. Also, recall that this command without any arguments lists all of your local branches and displays which branch you're currently connected to.\n",
    "\n",
    "Check your git log again:\n",
    "\n"
   ]
  },
  {
   "cell_type": "code",
   "execution_count": null,
   "id": "361e0f46",
   "metadata": {
    "vscode": {
     "languageId": "shellscript"
    }
   },
   "outputs": [],
   "source": [
    "ca-labs:~/example-git-repo$ git log --oneline\n",
    "\n",
    "2dca417 (HEAD -> add-about-page, origin/master, origin/HEAD, master) Merge pull request #1 from cloudacademy/feature/update-title\n",
    "f2d9c95 (origin/feature/update-title) update title\n",
    "ae05432 Initial commit"
   ]
  },
  {
   "cell_type": "markdown",
   "id": "3a8f52a8",
   "metadata": {},
   "source": [
    "Note how both the add-about-page and the master branches point to the same commit still. That's because you haven't made any commits yet.\n",
    "\n",
    "3. Make a change inside the new branch and commit it:\n",
    "\n"
   ]
  },
  {
   "cell_type": "code",
   "execution_count": null,
   "id": "4d2ca7fe",
   "metadata": {
    "vscode": {
     "languageId": "shellscript"
    }
   },
   "outputs": [],
   "source": [
    "touch about.html\n",
    "\n",
    "git add about.html\n",
    "\n",
    "git commit -m \"add an about page\"\n",
    "\n",
    "git log --oneline\n",
    "\n",
    "### output \n",
    "\n",
    "854cf58 (HEAD -> add-about-page) add an about page\n",
    "\n",
    "2dca417 (origin/master, origin/HEAD, master) Merge pull request #1 from cloudacademy/feature/update-title\n",
    "\n",
    "f2d9c95 (origin/feature/update-title) update title\n",
    "\n",
    "ae05432 Initial commit"
   ]
  },
  {
   "cell_type": "markdown",
   "id": "f2b4a14d",
   "metadata": {},
   "source": [
    "The git log command also shows you a new commit with only your new branch pointed at it. Here, 'HEAD' This is where you currently are (what you're checked out on). What is happening: You're currently on the branch add-about-page, and that branch is pointing to this commit.\n",
    "\n",
    "Your recent file addition has only taken effect on your new branch and will stay that way until you declare otherwise.\n",
    "\n",
    "4. To merge your branch into the master branch, execute the following commands:\n"
   ]
  },
  {
   "cell_type": "code",
   "execution_count": null,
   "id": "87952564",
   "metadata": {
    "vscode": {
     "languageId": "shellscript"
    }
   },
   "outputs": [],
   "source": [
    "git checkout master\n",
    "\n",
    "git merge add-about-page\n",
    "\n",
    "git log --oneline\n",
    "\n",
    "# output\n",
    "\n",
    "854cf58 (HEAD -> master, add-about-page) add an about page\n",
    "\n",
    "2dca417 (origin/master, origin/HEAD) Merge pull request #1 from cloudacademy/feature/update-title\n",
    "\n",
    "f2d9c95 (origin/feature/update-title) update title\n",
    "\n",
    "ae05432 Initial commit\n"
   ]
  },
  {
   "cell_type": "markdown",
   "id": "9f1dded6",
   "metadata": {},
   "source": [
    "Notice that you ran the git merge command from inside the master branch. The branch you run a merge command from is the branch that will accept the changes from another branch. In other words, in Git you always merge into the branch you're currently on. \n",
    "\n",
    "##### What exactly is merging\n",
    "\n",
    "Think of it like this:\n",
    "\n",
    "Imagine your branches are two timelines:\n",
    "\n",
    "- You’re standing on the master timeline.\n",
    "\n",
    "- You’re saying: “Hey master, pull in what’s new from add-about-page.”\n",
    "\n",
    "Git does the following:\n",
    "\n",
    "1. Compares commits:\n",
    "\n",
    "Git finds the last common commit between master and add-about-page (called the merge base).\n",
    "\n",
    "Then it compares what changed in each branch since that point.\n",
    "\n",
    "2. Applies the changes:\n",
    "\n",
    "Git tries to automatically combine those changes into a new commit on master.\n",
    "\n",
    "3. Creates a merge commit (if needed):\n",
    "\n",
    "If both branches have new commits, Git usually creates a merge commit to record that the histories were combined.\n",
    "\n",
    "If both branches changed the same lines in a file, Git will pause and ask you to resolve the conflict manually before continuing.\n",
    "\n",
    "You’d fix the file, then do:"
   ]
  },
  {
   "cell_type": "code",
   "execution_count": null,
   "id": "666ddfde",
   "metadata": {
    "vscode": {
     "languageId": "shellscript"
    }
   },
   "outputs": [],
   "source": [
    "git add .\n",
    "\n",
    "git commit\n"
   ]
  },
  {
   "cell_type": "markdown",
   "id": "18d76337",
   "metadata": {},
   "source": [
    "#### Lesson 3 : Managing Workflows\n",
    "\n",
    "##### Remote vs Local Repos\n",
    "\n",
    "Local Repository --> This is the Git repository on your own computer\n",
    "\n",
    "Remote Repository --> This is a copy of your Git repository hosted on a server, like:\n",
    "\n",
    "- GitHub\n",
    "\n",
    "- GitLab\n",
    "\n",
    "- Bitbucket\n",
    "\n",
    "You interact with it over the internet using commands like:\n",
    "\n",
    "git push: send your commits from local → remote\n",
    "\n",
    "git pull or git fetch: get updates from remote → local\n",
    "\n",
    "✅ A remote repo is often used for collaboration — it's the shared version of your code.\n",
    "\n",
    "##### git cloning a repository\n",
    "\n",
    "cloning can be done with the following command\n",
    "\n"
   ]
  },
  {
   "cell_type": "code",
   "execution_count": null,
   "id": "60546dc6",
   "metadata": {
    "vscode": {
     "languageId": "shellscript"
    }
   },
   "outputs": [],
   "source": [
    "\n",
    "git clone $repo_url your-directory-name\n"
   ]
  },
  {
   "cell_type": "markdown",
   "id": "839acd47",
   "metadata": {},
   "source": [
    "✅ 1. Copies the full remote repository to your computer\n",
    "\n",
    "- Creates a full local repo (with all files and history)\n",
    "\n",
    "- Initializes Git automatically (you don’t need git init)\n",
    "\n",
    "- Sets up the .git directory behind the scenes\n",
    "\n",
    "✅ 2. Sets up a remote named origin\n",
    "\n",
    "Git remembers where you cloned from by creating a remote called origin\n",
    "\n",
    "This lets you run:"
   ]
  },
  {
   "cell_type": "code",
   "execution_count": null,
   "id": "01c10c2b",
   "metadata": {
    "vscode": {
     "languageId": "shellscript"
    }
   },
   "outputs": [],
   "source": [
    "git push origin main\n",
    "\n",
    "git pull origin main\n"
   ]
  },
  {
   "cell_type": "markdown",
   "id": "f240a0c2",
   "metadata": {},
   "source": [
    "➡️ So — when you clone from GitHub, you automatically get a remote repo set up (named origin), and a fully working local repo too."
   ]
  },
  {
   "cell_type": "code",
   "execution_count": null,
   "id": "9d7949bc",
   "metadata": {
    "vscode": {
     "languageId": "shellscript"
    }
   },
   "outputs": [],
   "source": [
    "# To clone a repository from another server in AWS, execute the following commands:\n",
    "\n",
    "origin_url=git://ec2-54-185-12-119.us-west-2.compute.amazonaws.com/lab.git\n",
    "\n",
    "git clone $origin_url example-git-repo\n",
    "\n"
   ]
  },
  {
   "cell_type": "markdown",
   "id": "7845fddf",
   "metadata": {},
   "source": [
    "The first command will set the origin_url variable to the Git DNS of a server in your Lab's AWS account named Origin, which has been configured to host an empty git repository. The second command clones the variable to a directory called 'example-git-repo'. Notice that you receive a message saying you've cloned an empty repository. This is alright and is expected.\n",
    "\n",
    "4. List your remotes for the newly-cloned repository:\n",
    "\n"
   ]
  },
  {
   "cell_type": "code",
   "execution_count": null,
   "id": "e54c43f3",
   "metadata": {
    "vscode": {
     "languageId": "shellscript"
    }
   },
   "outputs": [],
   "source": [
    "cd example-git-repo\n",
    "\n",
    "git remote\n",
    "\n",
    "# outpot\n",
    "\n",
    "origin"
   ]
  },
  {
   "cell_type": "markdown",
   "id": "f5241e2e",
   "metadata": {},
   "source": [
    "The git remote command shows a current list of your remotes, which are other repositories hosting the same codebase. You're able to push and pull code to and from any repository that allows access, which is the distributed nature of Git When you initially clone a repository, the repository's location becomes your first remote and is always named origin.\n",
    "\n",
    "\n",
    "One of the advantages of working with Git is the ability to track changes to your files and roll back to any change needed at any point. Git does this by using tools called commits, which are snapshots of a code repository at a single point in time. When you make a commit to a git repository, you're creating another snapshot of that repository, which can be referred to or even rolled back to in the future. Rolling back simply means reverting the contents of a code repository to a specific commit, regardless of any changes that have been made since that commit was created. This allows for a large level of safety in a codebase.\n",
    "\n",
    "In this Lab Step, you will learn more about how Git tracks files by making changes to a Git repository.\n",
    "\n",
    "Instructions\n",
    "\n",
    "1. Execute the following command:\n"
   ]
  },
  {
   "cell_type": "code",
   "execution_count": null,
   "id": "f7548161",
   "metadata": {
    "vscode": {
     "languageId": "shellscript"
    }
   },
   "outputs": [],
   "source": [
    "ca-labs:~/example-git-repo$ \n",
    "\n",
    "ca-labs:~/example-git-repo$ git add index.html\n",
    "\n",
    "ca-labs:~/example-git-repo$ git commit -m \"add index page\"\n",
    "\n",
    "[master (root-commit) 0419dfd] add index page\n",
    "\n",
    " 1 file changed, 1 insertion(+)\n",
    "\n",
    " create mode 100644 index.html\n",
    "\n",
    "ca-labs:~/example-git-repo$ git log --oneline\n",
    "\n",
    "0419dfd (HEAD -> master) add index page"
   ]
  },
  {
   "cell_type": "markdown",
   "id": "ed50e9a9",
   "metadata": {},
   "source": [
    "As you've learned from previous Labs, these commands will create an untracked file named index.html, add it to Git's staging area, and commit it with the commit message, \"add index page\". Also notice that like you've learned in a previous Lab, you've started off in the default master branch.\n",
    "\n",
    "2. To push the new commit to your origin remote, run this command:\n",
    "\n"
   ]
  },
  {
   "cell_type": "code",
   "execution_count": null,
   "id": "685986f1",
   "metadata": {
    "vscode": {
     "languageId": "shellscript"
    }
   },
   "outputs": [],
   "source": [
    "ca-labs:~/example-git-repo$ git push origin master\n",
    "\n",
    "Enumerating objects: 3, done.\n",
    "\n",
    "Counting objects: 100% (3/3), done.\n",
    "\n",
    "Writing objects: 100% (3/3), 242 bytes | 242.00 KiB/s, done.\n",
    "\n",
    "Total 3 (delta 0), reused 0 (delta 0), pack-reused 0\n",
    "\n",
    "To git://ec2-54-185-12-119.us-west-2.compute.amazonaws.com/lab.git\n",
    "\n",
    " * [new branch]      master -> master"
   ]
  },
  {
   "cell_type": "markdown",
   "id": "e92483df",
   "metadata": {},
   "source": [
    "Notice that after the git push command are the names of both your remote and a branch. Those two flags tell the git push command which remote to push to, as well as the contents of which branch to push. When you execute this command, it'll push any commits that the master branch of the designated remote doesn't currently have, making the remote's master branch resemble your local master branch.\n",
    "\n",
    "3. Confirm that your changes were pushed:\n",
    "\n",
    "\n"
   ]
  },
  {
   "cell_type": "code",
   "execution_count": null,
   "id": "6c8f9e8c",
   "metadata": {
    "vscode": {
     "languageId": "shellscript"
    }
   },
   "outputs": [],
   "source": [
    "ca-labs:~/example-git-repo$ git log --oneline\n",
    "\n",
    "0419dfd (HEAD -> master, origin/master) add index page"
   ]
  },
  {
   "cell_type": "markdown",
   "id": "5d279720",
   "metadata": {},
   "source": [
    "Notice that now both the master branch of the origin remote and your local master branch are pointed to the same commit.\n",
    "\n",
    "Another strength of Git is the ability to control both branching and commits on a modular level, by pushing / pulling selectively from multiple remotes. Next, you'll interact with a second remote.\n",
    "\n",
    "4. To grab the Git URL of the second Git remote provisioned for this Lab and add it as a second remote, run the following commands:\n"
   ]
  },
  {
   "cell_type": "code",
   "execution_count": null,
   "id": "f3b25627",
   "metadata": {
    "vscode": {
     "languageId": "shellscript"
    }
   },
   "outputs": [],
   "source": [
    "ca-labs:~/example-git-repo$ additional_remote_url=git://ec2-34-215-39-163.us-west-2.compute.amazonaws.com/lab.git\n",
    "\n",
    "ca-labs:~/example-git-repo$ git remote add second_remote $additional_remote_url\n",
    "\n",
    "ca-labs:~/example-git-repo$ git remote\n",
    "\n",
    "# output\n",
    "\n",
    "origin\n",
    "\n",
    "second_remote\n"
   ]
  },
  {
   "cell_type": "markdown",
   "id": "205d0b77",
   "metadata": {},
   "source": [
    "These commands will grab and parse the Git URL of the second repository configured for this Lab and use it to add a new remote named second_remote. The git remote command will confirm that the new remote has been added.\n",
    "\n",
    "5. Make a new commit on your local master branch: \n"
   ]
  },
  {
   "cell_type": "code",
   "execution_count": null,
   "id": "fe107cdd",
   "metadata": {
    "vscode": {
     "languageId": "shellscript"
    }
   },
   "outputs": [],
   "source": [
    "ca-labs:~/example-git-repo$ echo \"About us\" > about.html\n",
    "\n",
    "ca-labs:~/example-git-repo$ git add about.html\n",
    "\n",
    "ca-labs:~/example-git-repo$ git commit -m \"add about page\"\n",
    "\n",
    "[master c16b497] add about page\n",
    "\n",
    " 1 file changed, 1 insertion(+)\n",
    "\n",
    " create mode 100644 about.html\n",
    "\n",
    "ca-labs:~/example-git-repo$ git log --oneline\n",
    "\n",
    "c16b497 (HEAD -> master) add about page\n",
    "\n",
    "0419dfd (origin/master) add index page"
   ]
  },
  {
   "cell_type": "markdown",
   "id": "18c52d02",
   "metadata": {},
   "source": [
    "The output shows that as expected, your local master branch and origin's master branch once again point to different commits.\n",
    "\n",
    "6. Push the new commit only to second_remote: \n",
    "\n"
   ]
  },
  {
   "cell_type": "code",
   "execution_count": null,
   "id": "26a13ce3",
   "metadata": {
    "vscode": {
     "languageId": "shellscript"
    }
   },
   "outputs": [],
   "source": [
    "git push second_remote master\n",
    "\n",
    "git log --oneline\n",
    "\n",
    "c16b497 (HEAD -> master, second_remote/master) add about page\n",
    "\n",
    "0419dfd (origin/master) add index page\n"
   ]
  },
  {
   "cell_type": "markdown",
   "id": "7242a3f3",
   "metadata": {},
   "source": [
    "One great advantage in Git is the ability to undo things. You might find that you need to undo all kinds of things in Git, such as commits made, files modified or added to the staging area, and more. Git offers a way to undo many different actions. In this Lab Step, you'll practice undoing several different actions using Git.\n",
    "\n",
    "Instructions\n",
    "\n",
    "1. Add some files and then make a commit:\n",
    "\n"
   ]
  },
  {
   "cell_type": "code",
   "execution_count": null,
   "id": "f604f0dd",
   "metadata": {
    "vscode": {
     "languageId": "shellscript"
    }
   },
   "outputs": [],
   "source": [
    "touch info.html\n",
    "\n",
    "touch products.html\n",
    "\n",
    "git add info.html\n",
    "\n",
    "git commit -m \"add new pages\"\n",
    "\n",
    "git log --oneline\n",
    "\n",
    "# output\n",
    "\n",
    "8ade235 (HEAD -> master) add new pages\n",
    "\n",
    "c16b497 (second_remote/master) add about page\n",
    "\n",
    "0419dfd (origin/master) add index page\n"
   ]
  },
  {
   "cell_type": "markdown",
   "id": "431e6502",
   "metadata": {},
   "source": [
    "\n",
    "\n",
    "As you might have noticed, the products.html file wasn't added to this commit. Assume this was a mistake. Rather than make a new commit that adds the overlooked file, which creates erroneous commits and clogs up your Git logs, you have the ability to edit, or amend, your commits.\n",
    "\n",
    "2. To add the other file and amend your commit, run the following commands:\n"
   ]
  },
  {
   "cell_type": "code",
   "execution_count": null,
   "id": "060a7eed",
   "metadata": {
    "vscode": {
     "languageId": "shellscript"
    }
   },
   "outputs": [],
   "source": [
    "git add products.html\n",
    "\n",
    "git commit --amend -m \"add new pages\"\n",
    "\n",
    "git log --oneline\n",
    "\n",
    "# output\n",
    "\n",
    "b8a8e2c (HEAD -> master) add new pages\n",
    "\n",
    "c16b497 (second_remote/master) add about page\n",
    "\n",
    "0419dfd (origin/master) add index page\n"
   ]
  },
  {
   "cell_type": "markdown",
   "id": "db108c02",
   "metadata": {},
   "source": [
    "Notice that the same commit is still the most current one. It just includes the products.html file now.\n",
    "\n",
    "Another scenario you might find yourself in is needing to unmodify a modified file. Next, you'll do that.\n",
    "\n",
    "3. \"Accidentally\" overwrite your index.html file with unwanted content:\n"
   ]
  },
  {
   "cell_type": "code",
   "execution_count": null,
   "id": "65c55617",
   "metadata": {
    "vscode": {
     "languageId": "shellscript"
    }
   },
   "outputs": [],
   "source": [
    "echo \"This is nonsense content, whoops\" > index.html\n",
    "\n",
    "git status\n",
    "\n",
    "# output\n",
    "\n",
    "On branch master\n",
    "Your branch is ahead of 'origin/master' by 2 commits.\n",
    "  (use \"git push\" to publish your local commits)\n",
    "\n",
    "Changes not staged for commit:\n",
    "  (use \"git add <file>...\" to update what will be committed)\n",
    "  (use \"git restore <file>...\" to discard changes in working directory)\n",
    "        modified:   index.html\n",
    "\n",
    "no changes added to commit (use \"git add\" and/or \"git commit -a\")"
   ]
  },
  {
   "cell_type": "markdown",
   "id": "3e885f65",
   "metadata": {},
   "source": [
    "Now your index page will display the new unwanted changes unless undone. Assuming you don't have the ability to undo your changes in a file editor, you still have the option in Git. Notice the message, use \"git restore -- <file>...\" to discard changes in working directory, in the output of the git status command. You'll try using this command to undo your changes in the next step.\n",
    "\n",
    "4. Undo the unwanted change to your index file:\n",
    "\n"
   ]
  },
  {
   "cell_type": "code",
   "execution_count": null,
   "id": "6868a5eb",
   "metadata": {
    "vscode": {
     "languageId": "shellscript"
    }
   },
   "outputs": [],
   "source": [
    "git restore -- index.html\n",
    "\n",
    "cat index.html\n",
    "\n",
    "# output\n",
    "\n",
    "Hello, World"
   ]
  },
  {
   "cell_type": "markdown",
   "id": "3efad5c8",
   "metadata": {},
   "source": [
    "Notice that your file now contains its original content. A git status command will also show you that your index file is also unmodified once more.\n",
    "\n",
    "Finally, you may find that you need to undo a commit entirely. The git reset command enables you to do this.\n",
    "\n",
    "5. To undo your last commit, run the following command:\n"
   ]
  },
  {
   "cell_type": "code",
   "execution_count": null,
   "id": "34280dfd",
   "metadata": {
    "vscode": {
     "languageId": "shellscript"
    }
   },
   "outputs": [],
   "source": [
    "git reset --soft HEAD~1\n",
    "\n",
    "git log --oneline\n",
    "\n",
    "# output\n",
    "\n",
    "c16b497 (HEAD -> master, second_remote/master) add about page\n",
    "\n",
    "0419dfd (origin/master) add index page"
   ]
  },
  {
   "cell_type": "markdown",
   "id": "0d91fe65",
   "metadata": {},
   "source": [
    "\n",
    "Notice that the commit labeled \"add new pages\" has been removed from your log. A git status command will show that the files you added with the now-removed commit are once again in a staging area like they were before the commit:\n",
    "\n",
    "\n",
    "The reset command you ran did a couple of things. HEAD~1 flag told the command to reset your current branch to 1 commit before its current one, effectively removing the last 1 commit.\n",
    "\n",
    "The --soft flag told Git to perform a soft reset, meaning any file changes made between HEAD~1 and now are preserved. That's why you see your newly-created files still in a staging area. Alternatively, you can pass a --hard flag, which would discard all changes made between commits rather than keep them. In this case, this would delete the two new files. Keep in mind that hard resets are one of the few things in Git that you can't easily undo, so you should use it only with caution."
   ]
  },
  {
   "cell_type": "markdown",
   "id": "0d755392",
   "metadata": {},
   "source": [
    "## Lecture 4: top 10 Git commands\n",
    "\n",
    "#### Git Stash, Pop and Blame \n",
    "\n",
    "Git stash is a tool for temporarily stashing any changes to modified files. Stash allows you to hide the changes in a codebase for as long as needed. It's similar to commit in that once you stash you'll be in a clean Git directory, meaning there won't be any modified files. However, it differs from commits in that stashes are only temporary. Git stash pop does the reverse, restoring your changes.\n",
    "\n",
    "Git blame is a diagnostic tool that helps with investigation inside your codebase. In this lab step, you'll use these three commands inside your example codebase.\n",
    "\n",
    "##### Git Stash\n",
    "\n",
    "5. Make a change to one of your tracked files:\n",
    "\n",
    "\n",
    "\n"
   ]
  },
  {
   "cell_type": "code",
   "execution_count": null,
   "id": "f31d5af1",
   "metadata": {
    "vscode": {
     "languageId": "shellscript"
    }
   },
   "outputs": [],
   "source": [
    "echo \"new line\" >> index.html\n",
    "\n",
    "git status\n"
   ]
  },
  {
   "cell_type": "markdown",
   "id": "3a8e81bc",
   "metadata": {},
   "source": [
    "6. Now, stash those changes:\n"
   ]
  },
  {
   "cell_type": "code",
   "execution_count": null,
   "id": "4b05b02f",
   "metadata": {
    "vscode": {
     "languageId": "shellscript"
    }
   },
   "outputs": [],
   "source": [
    "git stash\n",
    "\n",
    "# output\n",
    "\n",
    "Saved working directory and index state WIP on master: 2dca417 Merge pull request #1 from cloudacademy/feature/update-title\n"
   ]
  },
  {
   "cell_type": "markdown",
   "id": "25ee223b",
   "metadata": {},
   "source": [
    "Similarly, the git stash list command will show any stashed changes:\n"
   ]
  },
  {
   "cell_type": "code",
   "execution_count": null,
   "id": "dd5e80fd",
   "metadata": {
    "vscode": {
     "languageId": "shellscript"
    }
   },
   "outputs": [],
   "source": [
    "ca-labs:~/example-git-repo$ git stash list\n",
    "\n",
    "stash@{0}: WIP on master: 2dca417 Merge pull request #1 from cloudacademy/feature/update-title\n"
   ]
  },
  {
   "cell_type": "markdown",
   "id": "cf88173c",
   "metadata": {},
   "source": [
    "7. Restore your stashed changes:"
   ]
  },
  {
   "cell_type": "code",
   "execution_count": null,
   "id": "eb301610",
   "metadata": {
    "vscode": {
     "languageId": "shellscript"
    }
   },
   "outputs": [],
   "source": [
    "git stash pop\n",
    "\n",
    "# output\n",
    "\n",
    "On branch master\n",
    "Your branch is up to date with 'origin/master'.\n",
    "\n",
    "Changes not staged for commit:\n",
    "  (use \"git add <file>...\" to update what will be committed)\n",
    "  (use \"git restore <file>...\" to discard changes in working directory)\n",
    "        modified:   index.html\n",
    "\n",
    "no changes added to commit (use \"git add\" and/or \"git commit -a\")\n",
    "Dropped refs/stash@{0} (5b44f58fe50f1c4d12cca6880e4d3f19cfbf7f47)"
   ]
  },
  {
   "cell_type": "markdown",
   "id": "5d8bd786",
   "metadata": {},
   "source": [
    "\n",
    "As you can see, your index.html file has been restored to its modified state. Among other reasons, stash and pop are useful tools if you want the ability to make sweeping changes to a codebase while preserving the state of some of your changes.\n",
    "\n",
    "Next, you'll work with git blame.\n",
    "\n",
    "8. Try the git blame command for the README.MD file:\n",
    "\n"
   ]
  },
  {
   "cell_type": "code",
   "execution_count": null,
   "id": "fa254230",
   "metadata": {
    "vscode": {
     "languageId": "shellscript"
    }
   },
   "outputs": [],
   "source": [
    "ca-labs:~/example-git-repo$ git blame README.MD\n",
    "^ae05432 (Logan Rakai 2019-11-19 15:31:36 -0700  1) Static Website Example\n",
    "^ae05432 (Logan Rakai 2019-11-19 15:31:36 -0700  2) ----------------------\n",
    "^ae05432 (Logan Rakai 2019-11-19 15:31:36 -0700  3) \n",
    "^ae05432 (Logan Rakai 2019-11-19 15:31:36 -0700  4) To be used with Cloud Academy labs.\n",
    "^ae05432 (Logan Rakai 2019-11-19 15:31:36 -0700  5) \n",
    "^ae05432 (Logan Rakai 2019-11-19 15:31:36 -0700  6) \n",
    "^ae05432 (Logan Rakai 2019-11-19 15:31:36 -0700  7) License\n",
    "^ae05432 (Logan Rakai 2019-11-19 15:31:36 -0700  8) ----------------------\n",
    "^ae05432 (Logan Rakai 2019-11-19 15:31:36 -0700  9) \n",
    "^ae05432 (Logan Rakai 2019-11-19 15:31:36 -0700 10) This static website is based on the Dimension template by [HTML5 UP](https://html5up.net/)\n",
    "^ae05432 (Logan Rakai 2019-11-19 15:31:36 -0700 11) \n",
    "^ae05432 (Logan Rakai 2019-11-19 15:31:36 -0700 12) Creative Commons License\n",
    "^ae05432 (Logan Rakai 2019-11-19 15:31:36 -0700 13) All of the site templates I create for [HTML5 UP](https://html5up.net/) are licensed under the Creative Commons Attribution 3.0 License, which means you can:\n",
    "^ae05432 (Logan Rakai 2019-11-19 15:31:36 -0700 14)  - Use them for personal stuff\n",
    "^ae05432 (Logan Rakai 2019-11-19 15:31:36 -0700 15)  - Use them for commercial stuff\n",
    "^ae05432 (Logan Rakai 2019-11-19 15:31:36 -0700 16)  - Change them however you like\n",
    "^ae05432 (Logan Rakai 2019-11-19 15:31:36 -0700 17) \n",
    "^ae05432 (Logan Rakai 2019-11-19 15:31:36 -0700 18) \n",
    "^ae05432 (Logan Rakai 2019-11-19 15:31:36 -0700 19) ... all for free, yo. In exchange, just give HTML5 UP credit for the design and tell your friends about it :)\n",
    "^ae05432 (Logan Rakai 2019-11-19 15:31:36 -0700 20) \n",
    "^ae05432 (Logan Rakai 2019-11-19 15:31:36 -0700 21) More info [here](https://html5up.net/license)."
   ]
  },
  {
   "cell_type": "markdown",
   "id": "5bc8ef64",
   "metadata": {},
   "source": [
    "The output from a git blame command will show each line of a file as a row. From left to right, each row will include:\n",
    "\n",
    "A commit ID\n",
    "\n",
    "The name of the committer\n",
    "\n",
    "The timestamp of the change made\n",
    "\n",
    "The content of the line\n",
    "\n",
    "Developers use this command, among other reasons, if they need to know who made a certain change or how long ago the change was made.\n",
    "\n",
    "##### Git Diff, Reset, Checkout and Branch\n",
    "\n",
    "As you've learned in previous labs, the branch command allows you to view, create and manage Git branches. You've also learned about the checkout command, which allows you to perform several functions including checking out branches and reverting modified files to unmodified ones.\n",
    "\n",
    "Similarly, the reset command is useful when you need to revert a branch to a previous commit. All of these commands are useful and common enough to make it to the top 10 list for this Lab. One more command that qualifies is the diff command, which in its most basic form allows you to view the differences in tracked files between commits. In this lab step, you'll practice all of these commands.\n",
    "\n",
    "1. View the difference between your current state and your last commit:\n"
   ]
  },
  {
   "cell_type": "code",
   "execution_count": null,
   "id": "a72c4bec",
   "metadata": {
    "vscode": {
     "languageId": "shellscript"
    }
   },
   "outputs": [],
   "source": [
    "git diff\n",
    "\n",
    "# output\n",
    "\n",
    "diff --git a/index.html b/index.html\n",
    "index 69ab9f0..256eea0 100644\n",
    "--- a/index.html\n",
    "+++ b/index.html\n",
    "@@ -358,3 +358,4 @@ print 'It took ' + i + ' iterations to sort the deck.';</code></pre>\n",
    " \n",
    "        </body>\n",
    " </html>\n",
    "+new line"
   ]
  },
  {
   "cell_type": "markdown",
   "id": "b2703696",
   "metadata": {},
   "source": [
    "As you can see, the diff command outputs a per-file log of any tracked changes since your last commit. Notice the green \"new line\" text matching the change you made in the last Lab Step.\n",
    "\n",
    "2. One use of the checkout command is restoring modified files to a previous state. Restore the modified index.html file:\n"
   ]
  },
  {
   "cell_type": "code",
   "execution_count": null,
   "id": "0b8d1cc6",
   "metadata": {
    "vscode": {
     "languageId": "shellscript"
    }
   },
   "outputs": [],
   "source": [
    "git checkout -- index.html\n",
    "\n",
    "git status\n",
    "\n",
    "# output\n",
    "\n",
    "On branch master\n",
    "\n",
    "Your branch is up to date with 'origin/master'.\n",
    "\n",
    "nothing to commit, working tree clean"
   ]
  },
  {
   "cell_type": "markdown",
   "id": "b397dab3",
   "metadata": {},
   "source": [
    "As you can see, the modification you made in the last step has been reverted, because the command you ran reverted index.html to its state during the last commit. This is only one of several uses for the command, however. As with any git command, you can run git checkout --helpfor a complete guide on how to use this command.\n",
    "\n",
    "3. Recall that you can also use checkout to switch branches:\n"
   ]
  },
  {
   "cell_type": "code",
   "execution_count": null,
   "id": "c6bddb5e",
   "metadata": {
    "vscode": {
     "languageId": "shellscript"
    }
   },
   "outputs": [],
   "source": [
    "git branch new_branch\n",
    "\n",
    "git checkout new_branch\n",
    "\n",
    "# output\n",
    "\n",
    "Switched to branch 'new_branch'"
   ]
  },
  {
   "cell_type": "markdown",
   "id": "4c4d3eb3",
   "metadata": {},
   "source": [
    "Similarly, you could use the git checkout -b {some_branch} command to both create a new branch and switch to it.\n",
    "\n",
    "4. Finally, make a bad commit to your current branch:\n",
    "\n",
    "\n"
   ]
  },
  {
   "cell_type": "code",
   "execution_count": null,
   "id": "c0643dad",
   "metadata": {
    "vscode": {
     "languageId": "shellscript"
    }
   },
   "outputs": [],
   "source": [
    "rm -rf ./*\n",
    "\n",
    "git add --all\n",
    "\n",
    "git commit -m \"No worries, I totally meant to do this\"\n",
    "\n",
    " 44 files changed, 6134 deletions(-)\n"
   ]
  },
  {
   "cell_type": "markdown",
   "id": "eb55634f",
   "metadata": {},
   "source": [
    "\n",
    " The first command removes everything in your directory. As you've learned from previous labs, the second and third commands add your changes to a staging area and commit them. An ls command will confirm your project is now empty.\n",
    "\n",
    "5. Since you probably didn't mean to wipe your project out, use the reset command to remove the last commit:\n",
    "\n"
   ]
  },
  {
   "cell_type": "code",
   "execution_count": null,
   "id": "45f89300",
   "metadata": {
    "vscode": {
     "languageId": "shellscript"
    }
   },
   "outputs": [],
   "source": [
    "git reset --hard HEAD~1"
   ]
  },
  {
   "cell_type": "markdown",
   "id": "2893cde8",
   "metadata": {},
   "source": [
    "\n",
    "##### Git Log, Show and Tag\n",
    "\n",
    "In past labs, you've used the git log command heavily. it's one of the most invaluable commands in your repertoire. Two more you may not be familiar with are show and tag.\n",
    "\n",
    "The show command can show various types of objects in Git, the default being the details for the last commit. When you use the show command for a specific commit you can see its commit details similar to the log command in addition to its changed content similar to a diff command, making git show an excellent option for quickly gathering information about a commit.\n",
    "\n",
    "The tag command allows you to create a tag, which is a Git object that points to a commit. Tags are useful for easy tracking of versions of your codebase and are usually used for marked version releases (like v1.0.0).\n",
    "\n",
    "In this lab step, you'll work with these three commands.\n",
    "\n",
    "Instructions\n",
    "\n",
    "1. Execute the log command:\n",
    "\n",
    "git log\n",
    "\n",
    "As you know from previous Labs, the log command outputs a list of commits, including the author and time of the commit plus any branches that are currently pointed at it.\n",
    "\n",
    "\n",
    "2. Execute the show command:\n"
   ]
  },
  {
   "cell_type": "code",
   "execution_count": null,
   "id": "2ef661b8",
   "metadata": {
    "vscode": {
     "languageId": "shellscript"
    }
   },
   "outputs": [],
   "source": [
    "git show\n",
    "\n",
    "# output\n",
    "\n",
    "commit 2dca4178576c12ea60c6a8417ea15763b964f3d6 (HEAD -> new_branch, origin/master, origin/HEAD, master)\n",
    "Merge: ae05432 f2d9c95\n",
    "Author: Matt Martinez <matthewmartinez1003@gmail.com>\n",
    "Date:   Wed Nov 20 16:50:24 2019 -0600\n",
    "\n",
    "    Merge pull request #1 from cloudacademy/feature/update-title\n",
    "    \n",
    "    update title"
   ]
  },
  {
   "cell_type": "markdown",
   "id": "299c3d9b",
   "metadata": {},
   "source": [
    "By default, the show command shows output similar to git log, but with only the most recent commit included. It also shows any content changes included in that commit, similar to the diff function. You can also include a commit ID as part of the command to see details about a specific commit.\n",
    "\n",
    "For example, the command git show ae05432ea07eaf8e2d5232b6a40345f1bb33c9ac will show commit details and content changes for the commit with the id ae05432ea07eaf8e2d5232b6a40345f1bb33c9ac.\n",
    "\n",
    "3. Add a tag to your commit:\n"
   ]
  },
  {
   "cell_type": "code",
   "execution_count": null,
   "id": "6c39db6f",
   "metadata": {
    "vscode": {
     "languageId": "shellscript"
    }
   },
   "outputs": [],
   "source": [
    "git tag 0.1.0\n",
    "\n",
    "git log --oneline\n",
    "\n",
    "# output\n",
    "\n",
    "\n",
    "2dca417 (HEAD -> new_branch, tag: 0.1.0, origin/master, origin/HEAD, master) Merge pull request #1 from cloudacademy/feature/update-title\n",
    "\n",
    "f2d9c95 (origin/feature/update-title) update title\n",
    "\n",
    "ae05432 Initial commit\n"
   ]
  },
  {
   "cell_type": "markdown",
   "id": "acdde6cc",
   "metadata": {},
   "source": [
    "As you can see, git tag will apply a tag to your current commit. Similar to how branches are objects that point to specific commits, tags also point to a commit. However, tags can be thought of as branches that never change.\n",
    "\n",
    "Unlike branches, which will point to a new commit any time a commit is made while checked out to that branch, a tag will always point to the same commit unless intentionally modified, making tags excellent at tracking codebase versions.\n",
    "\n",
    "4. To reinforce how tags work, make a new commit:\n"
   ]
  },
  {
   "cell_type": "code",
   "execution_count": null,
   "id": "f78d35e1",
   "metadata": {
    "vscode": {
     "languageId": "shellscript"
    }
   },
   "outputs": [],
   "source": [
    "touch new_file\n",
    "\n",
    "git add new_file\n",
    "\n",
    "git commit -m \"add new file\"\n",
    "\n",
    "git log --oneline"
   ]
  },
  {
   "cell_type": "markdown",
   "id": "c35e0f0d",
   "metadata": {},
   "source": [
    "Notice that while new_branch points to the new commit as expected, the tag 0.1.0 still points to the previous commit, meaning version 0.1.0 of your application will always be the same version.\n",
    "\n",
    "One more note about tags is that similar to branches, you can specify tags when doing things like checking out, pushing and pulling. The benefit to doing so is that you know you're managing a specific version of the codebase."
   ]
  },
  {
   "cell_type": "markdown",
   "id": "c23577de",
   "metadata": {},
   "source": [
    "#### Git challenge\n",
    "\n",
    "##### Initializing git repository\n",
    "\n",
    "\n",
    "\n"
   ]
  },
  {
   "cell_type": "code",
   "execution_count": null,
   "id": "d39d14d0",
   "metadata": {
    "vscode": {
     "languageId": "shellscript"
    }
   },
   "outputs": [],
   "source": [
    "git init -b main\n"
   ]
  },
  {
   "cell_type": "markdown",
   "id": "72127b0a",
   "metadata": {},
   "source": [
    "Explanation:\n",
    "\n",
    "git init initializes a new empty Git repository in your current directory.\n",
    "\n",
    "The -b main part tells Git:\n",
    "\n",
    "\"Make the initial branch name main instead of the default master.\"\n",
    "\n",
    "✅ When you DO need git init -b main:\n",
    "\n",
    "You’re creating a brand new project locally.\n",
    "\n",
    "You want to push it to a remote (like GitHub).\n",
    "\n",
    "You want the first branch to be called main.\n",
    "\n",
    "❌ When you DON’T need it:\n",
    "\n",
    "You’re cloning an existing repository with git clone, because that already:\n",
    "\n",
    "Initializes the repo,\n",
    "\n",
    "Sets up origin,\n",
    "\n",
    "Checks out the default branch.\n",
    "\n",
    "So if you are cloning an existing repo, you do NOT need git init — Git does it for you.\n",
    "\n",
    "\n",
    "##### Setting up a remote named 'origin'\n",
    "\n",
    "Step 1: Add the remote named 'origin'\n",
    "git remote add origin $origin_url\n",
    "\n",
    "Step 2: Push the 'main' branch to the remote\n",
    "git push -u origin main\n",
    "\n"
   ]
  },
  {
   "cell_type": "code",
   "execution_count": null,
   "id": "b6762209",
   "metadata": {
    "vscode": {
     "languageId": "shellscript"
    }
   },
   "outputs": [],
   "source": [
    "# Step 1: Add the remote named 'origin'\n",
    "git remote add origin $origin_url\n",
    "\n",
    "# Step 2: Push the 'main' branch to the remote\n",
    "git push -u origin main\n"
   ]
  },
  {
   "cell_type": "markdown",
   "id": "f13f18e3",
   "metadata": {},
   "source": [
    "##### Further analysis of 'git push'\n",
    "\n",
    "What does -u do?\n",
    "\n",
    "It links your local branch to a remote branch. So when you run the command above, Git:\n",
    "\n",
    "- Pushes your local main branch to origin/main (on the remote).\n",
    "\n",
    "- Remembers that from now on, main on your local machine should track main on the remote.\n",
    "\n",
    "- This allows you to run simpler commands later like:\n",
    "\n"
   ]
  },
  {
   "cell_type": "code",
   "execution_count": null,
   "id": "13c3d118",
   "metadata": {
    "vscode": {
     "languageId": "shellscript"
    }
   },
   "outputs": [],
   "source": [
    "git push      # Instead of git push origin main\n",
    "\n",
    "git pull      # Instead of git pull origin main\n"
   ]
  },
  {
   "cell_type": "markdown",
   "id": "c975f6f7",
   "metadata": {},
   "source": [
    "Think of -u as saying: \"Git, remember where I’m pushing this branch so I don’t have to keep typing it every time.\"\n",
    "\n"
   ]
  },
  {
   "cell_type": "markdown",
   "id": "191217e5",
   "metadata": {},
   "source": [
    "2. Is git push always from a local repo to a remote repo?\n",
    "\n",
    "✅ Yes — that’s the core idea.\n",
    "\n",
    "git push is about sending your commits and branches from your local machine (your working copy) to a remote repository (like GitHub).\n",
    "\n",
    "It’s how you share your work with others (or back it up online).\n",
    "\n",
    "The remote is usually called origin, but could have any name.\n",
    "\n",
    "Example:\n",
    "\n",
    "If you're on a local branch feature1, and run:\n",
    "\n"
   ]
  },
  {
   "cell_type": "code",
   "execution_count": null,
   "id": "2845599f",
   "metadata": {
    "vscode": {
     "languageId": "shellscript"
    }
   },
   "outputs": [],
   "source": [
    "git push origin feature1\n"
   ]
  },
  {
   "cell_type": "markdown",
   "id": "5926836d",
   "metadata": {},
   "source": [
    "Bonus Tip: The reverse of push is pull:\n",
    "\n",
    "- git push: local → remote\n",
    "\n",
    "- git pull: remote → local (downloads and merges changes)\n",
    "\n"
   ]
  },
  {
   "cell_type": "markdown",
   "id": "f872818c",
   "metadata": {},
   "source": [
    "##### Inspecting files with cat and nano\n",
    "\n",
    "inspecting a file --> use cat\n",
    "\n",
    "editing --> using nano\n"
   ]
  },
  {
   "cell_type": "markdown",
   "id": "1e3ef3df",
   "metadata": {},
   "source": [
    "#### Last lab: Git and Version Control System (VCS)\n",
    "\n",
    "Three common types of version control are: local, centralized, and distributed.\n",
    "\n",
    "Local\n",
    "\n",
    "Local version control can consist of something as simple as a naming convention. Examples: report_version_1.pdf, report_final.pdf report_final_final.pdf. It can also be achieved using specific tools to track file changes.\n",
    "\n",
    "Centralized\n",
    "\n",
    "Centralized systems allow client software to access and interact with the version control system. The server contains the history of the tracked files. Clients can check out specific files and versions. Changes made can be saved back to the server. While effective, these systems create a single point of failure.\n",
    "\n",
    "Distributed\n",
    "\n",
    "Distributed version control systems consist of each client containing all tracked files along with their history. They mitigate the risk of a single failure resulting in a system outage. With all of the file versions available locally, the project can be worked on without network connectivity.\n",
    "\n",
    "Introduction to Git\n",
    "\n",
    "Effective Git use requires an understanding of Git's internal design. Git is essentially a distributed database used to create \"save points\" for files in a specific directory. Git calls these save points commit snapshots. Git uses the concept of snapshots as a mechanism for tracking file changes. Each snapshot represents the files inside a tracked directory as they were when the snapshot was created. Git allows users to go back to previous snapshots at any time. Snapshots chain together to produce a commit history by referencing the previous snapshot as their parent. Tracking parent commits enables one of Git's more powerful features: branches.\n",
    "\n",
    "Git stores commit snapshots inside its own object database. The database of snapshots and its supporting files is referred to as a Git repository. The contents of a Git repository reside inside a hidden directory named .git. The directory containing the .git directory is tracked by Git. All changes made to a Git repository are made locally until shared with a remote repository. Git commands check the current directory for the .git directory. If found, the repository is the target for Git commands.\n",
    "\n",
    "The Work Tree\n",
    "The work tree — also known as the working directory or working tree — refers to the directory on a local system where users interact with and make changes to files. This is where files and directories are created, edited, organized, and deleted. It contains the files for the currently active snapshot, while the Git repository stores the complete history of changes. The work tree is a regular file-system directory that is controlled by Git.\n",
    "\n",
    "The Index (Staging Area)\n",
    "The Git index — also called the staging area — is an intermediate area between the work tree and the object database. It serves as a holding area for changes that will be included in the next commit. The index provides control over which changes are converted into snapshots. It tracks modifications made to files in the work tree. Git creates commit snapshots based on the state of the files in the index.\n",
    "\n",
    "Tracking changes in the index enables Git to determine which files need to be included in a commit without scanning the entire work tree. This speeds up operations such as switching branches and snapshot creation. The index acts as a bridge between the work tree and the object database.\n",
    "\n",
    "The Object Database\n",
    "The object database serves as content-addressable storage for snapshots. Content-addressable storage means that objects are identified and accessed based on their content rather than their location. Git objects are identified by a unique 40-character \n",
    "SHA-1 hash\n",
    ", opens in a new tab in hexadecimal format.\n",
    "\n",
    "NOTE: Git interfaces such as the CLI often accept and display the first several unique characters.\n",
    "\n",
    "Hashes are calculated based on the contents of objects. Once objects are created and hashed, they cannot be modified. Calculating identifiers based on the contents ensures that content changes result in new objects.\n",
    "\n",
    "The object database enables Git to store and retrieve commit snapshots, track changes, and maintain a detailed project history. Content-addressable storage and parent references ensure integrity, efficiency, and scalability.\n",
    "\n",
    "Git combines smaller objects into a representation of a directory. This enables Git to reuse individual objects. Git uses the following objects to store snapshots of a directory at a point in time.\n",
    "\n",
    "Git Objects\n",
    "Blob (Binary-Large-OBject)\n",
    "Represents the contents of a file and does not include metadata such as the name of the file.\n",
    "Tree\n",
    "Represents the contents of a directory and includes metadata about the contained blobs, such as file names and permissions.\n",
    "Commit\n",
    "Represents a snapshot of the files under version control and references a root tree and zero or more trees and blobs.\n",
    "Tags\n",
    "Represents a specific commit snapshot and indicates noteworthy commits such as a release milestone. Example: v1.0.0\n",
    "Git models the directory structure using tree objects. Trees contain a listing of file names and permissions. Files are modeled using blobs. Blobs contain the contents of a file. Combined these two objects model directories, sub-directories, and files.\n",
    "\n",
    "The following diagram demonstrates the structure of a commit. Notice the directory structure closely mirrors the tree structure.\n",
    "\n",
    "\n",
    "\n",
    "The Refs\n",
    "All Git objects — including commits — are identified with hashes generated based on the contents of the object. Using hashes to reference specific snapshots is not particularly user-friendly. Git allows users to create named references (refs) that point to specific commits — and other objects.\n",
    "\n",
    "Refs are used to keep track of objects such as branches, tags, remote branches, etc. They provide an easier way to navigate specific commits.\n",
    "\n",
    "Ref types\n",
    "\n",
    "Branches are simply pointers to specific commits. The creation of a new branch creates a ref pointing to the currently active commit.\n",
    "\n",
    "Tags are used to label specific commits as being important. Tags are commonly used for marking specific points in history as stable and unchanging.\n",
    "\n",
    "Git includes several special references, such as the ref named HEAD. HEAD is essentially a symbolic reference to the current commit or branch.\n",
    "\n",
    "Remote branches are refs that track branches for a remote repository. They enable users to synchronize local branches with the corresponding branch of a remote repository.\n",
    "\n",
    "Git logs changes to refs inside the reflog. This includes branch creations and deletions, commits, etc. Log entries can be useful for recovering lost commits or undoing changes.\n",
    "\n",
    "Refs provide a convenient way to reference specific commits or objects within a Git repository. They make it easy to switch between branches, tag important commits, and track changes.\n",
    "\n",
    "Creating Snapshots\n",
    "Creating snapshots requires a multi-step process. Git does not automatically produce snapshots for file changes. Git requires changed files in the work tree to be added to the index — or staged — before committing.\n",
    "\n",
    "The process of creating a snapshot is roughly as follows:\n",
    "\n",
    "Make a change to one or more files in the work tree.\n",
    "Add to the index all changes desired in the commit snapshot.\n",
    "Commit the changes to the object database.\n",
    "Optionally push changes to a remote repository.\n",
    "\n",
    "#### Commands\n",
    "\n",
    "The Git commands line interface includes two categories of commands: porcelain commands and plumbing commands.\n",
    "\n",
    "Git has evolved over time to become the widely used software it is today. Git existed for several years as a collection of low-level (plumbing) commands before the introduction of the higher-level (porcelain) commands.\n",
    "\n",
    "Here, we mostly cover porecelain commands\n",
    "\n",
    "##### cd --> change directory\n",
    "\n",
    "cd content\n",
    "\n",
    "\n",
    "##### git init --> initializes empty git repo\n",
    "\n",
    "The git init command created a new empty repository placing the content directory under version control. The content directory is now the work tree. Changes made to files inside this directory can now be recognized by Git.\n",
    "\n",
    "Git CLI commands check the current directory for the existence of a .git directory. Switching between repositories is accomplished by simply changing directories into another version controlled directory.\n",
    "\n",
    "##### rm --> remove\n",
    "\n",
    "rm 1.txt (removes file 1.txt)\n",
    "\n",
    "##### git checkout --> can be used to checkout branch, but also to recover deleted file\n",
    "\n",
    "after running \n",
    "\n",
    "rm 1.txt\n",
    "\n",
    "can recover file by running (before you commit)\n",
    "\n",
    "git checkout 1.txt\n",
    "\n",
    "##### git diff\n",
    "\n",
    "The ability to compare changes enables users to observe the exact nature of the changes. The git diff command is used to make different types of comparisons. This enables users to inspect changes.\n",
    "\n",
    "The official documentation describes the git diff command as follows:\n",
    "\n",
    "\"Show changes between the working tree and the index or a tree, changes between the index and a tree, changes between two trees, changes resulting from a merge, changes between two blob objects, or changes between two files on disk.\"\n",
    "\n",
    "The git diff command is overloaded to be able to make multiple types of comparisons.\n",
    "\n",
    "Learning to compare differences can improve the overall Git user experience. The following section explores how to use git diff to compare changes in different states.\n",
    "\n",
    "2. Open the content/1.txt file.\n",
    "\n",
    "3. Append the following to the 1.txt file using the text editor.\n",
    "\n",
    "Suspendisse faucibus interdum posuere lorem ipsum. In hac habitasse platea dictumst vestibulum rhoncus. Ac placerat vestibulum lectus mauris ultrices eros in cursus.\n",
    "\n",
    "\n",
    "The 1.txt file has now been changed in the work tree. The index still points to the original version of the 1.txt file. The git diff command can compare the version in the work tree with the currently indexed version.\n",
    "\n",
    "Running the git diff without additional flags compares the work tree to the index.\n",
    "\n",
    "root@cloudacademylabs:/home/project/content$ git diff\n",
    "diff --git a/1.txt b/1.txt\n",
    "index dc860b9..561216f 100644\n",
    "--- a/1.txt\n",
    "+++ b/1.txt\n",
    "@@ -1 +1,2 @@\n",
    " Lorem ipsum dolor sit amet, consectetur adipiscing elit, sed do eiusmod tempor incididunt ut labore et dolore magna aliqua. Ut enim ad minim veniam, quis nostrud exercitation ullamco laboris nisi ut aliquip ex ea commodo consequat.\n",
    "+Suspendisse faucibus interdum posuere lorem ipsum. In hac habitasse platea dictumst vestibulum rhoncus. Ac placerat vestibulum lectus mauris ultrices eros in cursus.\n",
    "\\ No newline at end of file\n",
    "\n",
    "Now if we add 1.txt to git, and compare using git diff, we get nothing\n",
    "\n",
    "root@cloudacademylabs:/home/project/content$ git add 1.txt\n",
    "\n",
    "root@cloudacademylabs:/home/project/content$ git diff\n",
    "\n",
    "The command doesn't display anything in the console because the work tree and index now match. However, the index and database don't yet match because the staged change has not been committed. The git diff --staged command compares the staged changes against the most recent snapshot. The --cached flag is a synonym for the --staged flag.\n",
    "\n",
    "root@cloudacademylabs:/home/project/content$ git diff --staged\n",
    "\n",
    "diff --git a/1.txt b/1.txt\n",
    "index dc860b9..561216f 100644\n",
    "--- a/1.txt\n",
    "+++ b/1.txt\n",
    "@@ -1 +1,2 @@\n",
    " Lorem ipsum dolor sit amet, consectetur adipiscing elit, sed do eiusmod tempor incididunt ut labore et dolore magna aliqua. Ut enim ad minim veniam, quis nostrud exercitation ullamco laboris nisi ut aliquip ex ea commodo consequat.\n",
    "+Suspendisse faucibus interdum posuere lorem ipsum. In hac habitasse platea dictumst vestibulum rhoncus. Ac placerat vestibulum lectus mauris ultrices eros in cursus.\n",
    "\\ No newline at end of file\n",
    "\n",
    "The output demonstrates the same differences observed between the work tree and index.\n",
    "\n",
    "So now we commit:\n",
    "\n",
    "git commit -m \"change 2\"\n",
    "\n",
    "The work tree, index, and database now match, so the git diff command won't display any differences between them. The git diff command can also compare specific snapshots. This is accomplished by specifying the commit hashes to compare.\n",
    "\n",
    "Example: git diff d621d..5f46f\n",
    "\n",
    "Use the commit log to view the commit hashes for the current two commits.\n",
    "\n",
    "10. Compare the first commit to the second.\n",
    "\n",
    "Replace the HASH1 placeholder with the first several (~5-10) characters of the initial commit hash.\n",
    "\n",
    "Replace the HASH2 placeholder with the first several (~5-10) characters of the current commit hash.\n",
    "\n",
    "\n"
   ]
  },
  {
   "cell_type": "markdown",
   "id": "ce43d718",
   "metadata": {},
   "source": [
    "### The index\n",
    "\n",
    "Understanding The Index\n",
    "\n",
    "The index — also known as the staging area — can be a common source of confusion for new users. The index is a data structure that sits between the working directory and the object database. It tracks changes made to files in the working directory before they're committed.\n",
    "\n",
    "The index contains a list of all tracked files along with details about the current state of each file. It tracks file metadata such as file paths, permissions, and timestamps. The index resides in a single binary file optimized for speed and efficiency.\n",
    "\n",
    "The index allows users to selectively choose which changes to include in the next commit. Users can stage specific changes or files instead of committing all changes made in the work tree. This enables control over which changes are added to snapshots.\n",
    "\n",
    "The index enables an efficient workflow by separating the preparation of changes from the actual commit operation. Users can incrementally stage changes as they work on different aspects of a project. This promotes atomic commits and makes it easier to track changes, revert specific modifications, and collaborate effectively with others.\n",
    "\n",
    "The index helps to optimize the performance of Git operations. Staging changes in the index before committing enables Git to quickly determine the differences between the index and the current commit. This reduces the time and resources required for creating commits. This efficiency is noticed more when dealing with large projects or repositories with a significant number of changes.\n",
    "\n",
    "Add a new file to the work tree.\n",
    "\n",
    "\n",
    "echo \"Nulla rutrum orci ac enim lobortis, ac tincidunt tellus semper. Curabitur pulvinar auctor velit, non condimentum urna aliquet sed. In hac habitasse platea dictumst.\" > 2.txt\n",
    "\n",
    "Add the 2.txt file to the index.\n",
    "\n",
    "git add 2.txt\n",
    "\n",
    "The index is now tracking this file and has staged this change to be added to the next commit.\n",
    "\n",
    "Question\n",
    "\n",
    "What will happen if 2.txt is changed in the work tree prior to running git commit?\n",
    "\n",
    "a. The commit will reflect the staged change.\n",
    "\n",
    "b. The commit will reflect the work tree change.\n",
    "\n",
    "c. None of the above.\n",
    "\n",
    "Take note of your answer before observing for yourself.\n",
    "\n",
    "Edit the 2.txt file by appending the following.\n",
    "\n",
    "Mauris interdum faucibus semper. Nullam id eros et nisi tincidunt malesuada ac eu tortor.\n",
    "\n",
    "Now commit the staged changes\n",
    "\n",
    "root@cloudacademylabs:/home/project/content$ git commit -m \"change 4\"\n",
    "[main 6bea651] change 4\n",
    " 1 file changed, 1 insertion(+)\n",
    " create mode 100644 2.txt\n",
    "root@cloudacademylabs:/home/project/content$ git status\n",
    "On branch main\n",
    "Changes not staged for commit:\n",
    "  (use \"git add <file>...\" to update what will be committed)\n",
    "  (use \"git restore <file>...\" to discard changes in working directory)\n",
    "        modified:   2.txt\n",
    "\n",
    "no changes added to commit (use \"git add\" and/or \"git commit -a\")\n",
    "\n",
    "Notice the change made to the work tree remains unstaged. Commits reflect the state of the staged change. Not the state of the work tree at the time the commit was created.\n",
    "\n",
    "During development, the index serves as a sort of mini-checkpoint mechanism. Users can progressively stage file changes without committing. The same file can even be staged multiple times. However, only the last change for each file will be committed. This enables users to stage working changes while continuing development. Once the index contains the desired changes, they can be committed into a single snapshot.\n",
    "\n",
    "The change currently made to the 2.txt file in the work tree is no longer required and can be undone using the git restore command.\n",
    "\n",
    "The git restore command restores specific files in the work tree with versions found in other sources, such as the object database. The command below restores the 2.txt file with the most recent version from the current branch.\n",
    "\n",
    "Undo the changes to the work tree.\n",
    "\n",
    "git restore 2.txt\n",
    "\n",
    "The work tree now matches the index and the database.\n",
    "\n"
   ]
  },
  {
   "cell_type": "markdown",
   "id": "b4c777c8",
   "metadata": {},
   "source": [
    "#### Branches\n",
    "\n",
    "Branching creates isolated environments for making file changes. Branches start at a specific commit snapshot and create a divergent commit history. This enables users to simultaneously make file changes without interfering with the work of other users. This is commonly used for feature development and experimentation. Branching is a fundamental part of the Git workflow and is essential for effective user collaboration.\n",
    "\n",
    "All commit snapshots exist inside the context of a branch. Git repositories include at least one branch. Running the git init command created an empty repository with a single branch. This default branch is the same as any other branch except that it was automatically created by Git. Git used the name main in this lab because it was specified as a global setting. However, historically the Git-created initial branch has been named master.\n",
    "\n",
    "A Brief Aside\n",
    "Historically the initial branch created by Git has been named master. In this context, the word master is thought to refer to the branch, which is considered to be the master-copy for the repository; as in the canonical or primary branch.\n",
    "\n",
    "There’s a common theme in tech to use terms such as master and slave to refer to a primary and secondary system. The less descriptive terms master and slave are deeply rooted in humankind’s shameful history of human subjugation. In recognition of this fact, the industry has shifted in recent years to use the more descriptive name of main for the primary branch.\n",
    "\n",
    "The following links can serve as a starting point to learn more.\n",
    "\n",
    "##### Switching between branches\n",
    "\n",
    "Switching to another branch is accomplished with one of two commands: git checkout or git switch.\n",
    "\n",
    "The git checkout command is a general-purpose command for checking out commits. Since branches are just named pointers to specific commits (the branch head), the git checkout command is able to switch to another branch.\n",
    "\n",
    "Recently the git switch command was introduced as a more user-friendly command for switching branches. The git switch command is considered experimental as of Git 2.40. This means the interface may change and evolve more quickly than other commands.\n",
    "\n",
    "The git checkout command remains widely used for switching branches. However, this lab will use the newer git switch command for switching branches.\n",
    "\n",
    "Git uses the special reference named HEAD to identify the currently active branch or commit. Switching to a new branch — using either git checkout or git switch — instructs Git to change where HEAD is pointing.\n",
    "\n",
    "When we run git log --oneline when on main branch vs feature_1 branch, we see the following:\n",
    "\n",
    "main\n",
    "\n",
    "6bea651 (HEAD -> main, feature_1) change 4\n",
    "bf66771 change 3\n",
    "03bc196 change 2\n",
    "8edbe18 change 1\n",
    "\n",
    "feature_1\n",
    "\n",
    "6bea651 (HEAD -> feature_1, main) change 4\n",
    "bf66771 change 3\n",
    "03bc196 change 2\n",
    "8edbe18 change 1\n",
    "root@cloudacademylab\n",
    "\n",
    "Below, i made two changes to the 1.txt file (in the feature_1 branch), in two separate commits --> \"feature_1 - change 1\" and \"feature_1 - change 2\"\n",
    "\n",
    "When we run git log:\n",
    "\n",
    "root@cloudacademylabs:/home/project/content$ git log --oneline\n",
    "\n",
    "0d3e488 (HEAD -> feature_1) feature_1 - change 2\n",
    "74864d3 feature_1 - change 1\n",
    "6bea651 (main) change 4\n",
    "bf66771 change 3\n",
    "03bc196 change 2\n",
    "8edbe18 change 1\n",
    "\n",
    "Switching between branches changes the work tree to reflect the branch head of the active branch. Notice the 1.txt file changes after switching back to the main branch.\n",
    "\n",
    "Switch back to the main branch. Notice the 1.txt file no longer includes the changes added to the feature_1 branch.\n",
    "\n",
    "\n",
    "##### Deleting Branches\n",
    "\n",
    "Branches are commonly deleted after they have been successfully merged into the primary branch or to remove failed experiments.\n",
    "\n",
    "Branches are deleted using the git branch command with either the -d or -D flags. The distinction between the two depends on if the branch being deleted has been merged into another branch. The lowercase version is used to delete a merged branch. The uppercase version allows unmerged branches to be deleted. This is a basic safeguard by Git to prevent unwanted deletion.\n",
    "\n",
    "After a branch is deleted deleted, The commit history no longer displays the commits made to the refactor branch. Deleting branches that are no longer required is considered good repository hygiene. However, be mindful not to delete branches that are currently required.\n",
    "\n",
    " "
   ]
  },
  {
   "cell_type": "markdown",
   "id": "8d0ea1f3",
   "metadata": {},
   "source": [
    "#### Integrating changes\n",
    "\n",
    "Working in branches enables changes to be isolated from other branches. Eventually, branches will need to be combined to integrate changes. Git provides multiple ways to combine changes between branches. This step covers two options: merging and rebasing.\n",
    "\n",
    "Merging and rebasing are two options for integrating changes from one branch into another. Merging is likely the most common option between the two because it doesn't rewrite the commit history. Rather it adds a new snapshot containing the combined changes. Rebasing is considered a bit more advanced due to the fact that it rewrites the commit history.\n",
    "\n",
    "Merging\n",
    "\n",
    "Git includes multiple merges strategies depending on the given scenario. The complexity of merging ranges from simple to complex. The simplest form of merge is a basic fast-forward.\n",
    "\n",
    "Instructions\n",
    "To demonstrate a fast-forward merge, some setup is required. The following steps set up a fast-forward scenario.\n",
    "\n",
    "Ensure the main branch is active.\n",
    "\n",
    "The -c flag of the git switch command creates and switches to a new branch in a single action.\n",
    "\n",
    "Create and switch to a new branch named feature_2.\n",
    "\n",
    "##### Merge conflicts\n",
    "\n",
    "Observe the merge conflict in the 1.txt file.\n",
    "\n",
    "\n",
    "Git uses the markers: <<<<<<<, =======, and >>>>>>> to indicate merge conflicts. The marker starting with <<<<<<< HEAD indicates that the following section — down to the ======= marker — is from the current branch. The next section down to the >>>>>>> experiment marker indicates that change from the merged branch.\n",
    "\n",
    "In this example, the order of the text is arbitrary; however, this would be more impactful with source code. Merge resolution may result in accepting the change from one or both branches. Resolve this conflict by manually removing the markers allowing the text to remain in its current position.\n",
    "\n",
    "Resolve the conflict.\n",
    "\n",
    "The merged text should look similar to the following.\n",
    "\n",
    "\n",
    "Git includes a command line option used as an entry point for different merge conflict resolution tools. The git mergetool command serves as an entrypoint for one of the following tools: emerge, gvimdiff, kdiff3, meld, vimdiff, and tortoisemerge. These represent a mix of command line and GUI-based tools used for resolving merge conflicts. These can be useful when resolving multiple conflicts by paging through the conflicts.\n",
    "\n",
    "See the \n",
    "official documentation\n",
    ", opens in a new tab to learn more.\n",
    "\n",
    "There are several best practices to ensure a smooth and successful merging process.\n",
    "\n",
    "Keep your branches updated with remote branches (covered later in this lab).\n",
    "\n",
    "Test your changes in the branch you want to merge before performing merging. This helps to identify potential conflicts or issues that need to be addressed before merging.\n",
    "\n",
    "Review conflicts carefully to ensure the resolution is accurate.\n",
    "\n",
    "Keep merges small and focused to help minimize conflicts and ease the resolution process.\n",
    "\n",
    "Provide clear and descriptive merge commit messages that explain the purpose and context of the merge.\n",
    "\n",
    "Test merged code thoroughly to ensure changes are successfully integrated.\n",
    "\n",
    "Push the merged branch to a shared repository for team member review once complete.\n",
    "\n",
    "These are general best practices. Specific project/team requirements may vary.\n",
    "\n",
    "Recall that snapshots are based on parent snapshots. This produces the commit history and enables branches. Git provides users with the ability to rewrite the commit history using the git rebase command.\n",
    "\n",
    "The git rebase command is a powerful utility used to modify the commit history of a branch. It's commonly used to incorporate changes from one branch to another branch or to clean up and organize the commit history. The rebase operation is able to move, combine, and alter commits.\n",
    "\n",
    "The concept of rebasing is to take changes from a source branch and apply them on top of another branch. This creates a linear history by making it appear that the changes were made directly on the other branch.\n",
    "\n",
    "WARNING! Any mechanism that rewrites the commit history should be used with caution. See further details at the end of this step.\n",
    "\n",
    "Currently, the feature_1 branch is behind the main branch by several commits. The command below compares the changes in the main branch with the feature_1 branch. Recall that the HEAD reference points to the currently active branch, which is currently main.\n",
    "\n",
    "\n"
   ]
  },
  {
   "cell_type": "markdown",
   "id": "89837d4e",
   "metadata": {},
   "source": [
    "#### remote\n",
    "\n",
    "Exploring Remotes\n",
    "Git remotes enable local repositories to connect with remote repositories. Remotes facilitate code sharing and synchronization between users. Remotes are repository copies that are hosted on a different server or directory. They commonly serve as a project's central repository allowing users to send and receive updates. Often managed services such as GitHub, GitLab, and BitBucket are used as remotes.\n",
    "\n",
    "Git enables users to configure zero or more remotes. Remotes can be tracked locally, allowing users to keep track of changes being made to the remote repository. Tracking occurs using remote-tracking branches. Remote-tracking branches reflect the state of the remote branches as of the last time they were fetched. They enable users to see new commits and synchronize the local and remote repositories.\n",
    "\n",
    "Remote-tracking branches are Git-managed read-only copies of upstream branches. They're similar to regular branches, except they're prefixed with the name of the remote repository (e.g., origin/main, origin/feature) to differentiate them from local branches. The git branch command with the -r flag displays remote-tracking branches alongside local branches.\n",
    "\n",
    "The git remote command is used to manage remotes. Remotes consist of a name and a URL for the remote repository.\n",
    "\n",
    "Git includes several commands that facilitate interactions with remotes, such as:\n",
    "\n",
    "git push\n",
    "\n",
    "Upload local commits to a remote repository.\n",
    "\n",
    "git fetch\n",
    "\n",
    "Retrieve changes from a remote repository without merging them into local branches.\n",
    "\n",
    "git pull\n",
    "\n",
    "Fetch and merge changes from a remote repository into the current local branch in a single operation.\n",
    "\n",
    "git clone\n",
    "\n",
    "Create a local copy of a remote Git repository.\n",
    "This lab environment provides a remote repository using the open source Git server \n",
    "Gitea\n",
    ", opens in a new tab. Gitea is a lightweight version of modern social coding platforms such as GitHub.\n",
    "\n",
    "\n",
    "\n",
    "The git branch command can display remote-tracking branches using the -a flag. The -v flag enables verbose mode, which displays the hash representing the branch head and its corresponding commit message.\n",
    "\n",
    "\n",
    "This has made a change to the remote repository that doesn't exist in the local repository. The git fetch command is used to retrieve changes from a remote repository without merging them into local branches. It updates a local repository with any new commits and branches present in the remote repository.\n",
    "\n",
    "The basic syntax of the git fetch command is as follows:\n",
    "\n",
    "git fetch [remote_name]\n",
    "\n",
    "The remote_name is an optional parameter specifying the name of the remote repository from which to fetch. The name origin is used if this argument is omitted.\n",
    "\n",
    "The git fetch command downloads new commits and branch references from the remote repository and updates the corresponding remote-tracking branches in the local repository.\n",
    "\n",
    "Fetch the upstream changes.\n",
    "\n",
    "root@cloudacademylabs:/home/project/content$ git fetch\n",
    "\n",
    "remote: Enumerating objects: 5, done.\n",
    "remote: Counting objects: 100% (5/5), done.\n",
    "remote: Compressing objects: 100% (3/3), done.\n",
    "remote: Total 3 (delta 1), reused 0 (delta 0), pack-reused 0\n",
    "Unpacking objects: 100% (3/3), 435 bytes | 435.00 KiB/s, done.\n",
    "From http://54.212.190.198:5001/student/git_intro_repo\n",
    "   37c5437..c56785e  main       -> origin/main\n",
    "\n",
    "\n",
    "The changes from the origin/main branch have been downloaded to the remote-tracking branch and can be merged into the local main branch. The git merge and git rebase commands can be used to incorporate the fetched changes into a local branch.\n",
    "\n",
    "Observe the current status of the local repository.\n",
    "\n",
    "Notice Git recognizes that the local main branch is behind 'origin/main' by 1 commit. It also indicates that a fast-forward merge can be used. The command below merges the changes from the origin/main branch into the currently active main branch.\n",
    "\n",
    "Merge the changes.\n",
    "\n",
    "The git pull command is used to fetch and merge changes from a remote repository into the current local branch in a single operation.\n",
    "\n",
    "The basic syntax of the git pull command is as follows:\n",
    "\n",
    "git pull [remote_name] [branch_name]\n",
    "\n",
    "The remote_name is an optional parameter specifying the name of the remote repository from which to fetch. The name origin is used if this argument is omitted.\n",
    "\n",
    "The branch_name specifies the remote branch from which changes are pulled. It represents the branch in the remote repository to merge into the current branch.\n",
    "\n",
    "The git pull command combines the git fetch and git merge commands into one action. It serves as a convenient way to update a local branch with the latest changes from the remote repository. It enables users to stay in sync with the remote branch and incorporate changes made by other users.\n",
    "\n",
    "Conflicts can occur during the merge process. These must be resolved manually before the merge process can complete.\n",
    "\n",
    "The following section walks through making a change in the remote in order to demonstrate pulling changes.\n",
    "\n",
    "\n"
   ]
  },
  {
   "cell_type": "markdown",
   "id": "17891b69",
   "metadata": {},
   "source": [
    "#### Exploring Tags\n",
    "\n",
    "Git uses the concept of tags to mark a specific commit as being meaningful. Tags are commonly used to mark specific versions or releases of a project. Example: v1.0.0. They can also be used to denote milestones, such as the end of a multi-commit feature. Tags help to more easily navigate historical commits by highlighting noteworthy snapshots.\n",
    "\n",
    "Git includes two types of tags: lightweight and annotated. Lightweight tags are simply named references to specific commits. They're a reference similar to branches. Annotated tags are actual Git objects that reside in the object database. They include details such as the name and email address of the tag author. They include the date and time the tag was created and an optional message. These allow additional details, such as release notes, to be included. Tags are immutable, which ensures that tagged commits remain fixed and can easily be referenced in the future.\n",
    "\n",
    "The git tag command is used to manage tags.\n",
    "\n",
    "Instructions\n",
    "\n",
    "The following section demonstrates how to tag a historical commit with a lightweight tag. Use the git log command to locate the hash for the commit with the message change 4.\n",
    "\n",
    "Obtain the hash for change 4.\n",
    "\n",
    "Tag change 4 with the following.\n",
    "\n",
    "NOTE: replace HASH1 in the following command with the hash obtained in the step above.\n",
    "\n",
    "Copy code\n",
    "git tag \"v1.0.0\" HASH1\n",
    "\n",
    "Checkout the v1.0.0 snapshot.\n",
    "\n",
    "\n",
    "git checkout \"v1.0.0\"\n",
    "\n",
    "\n",
    "Browsing the files in the work tree reflects the state they were in as of change 4. Checking out any commit that is not a branch head places Git into a special state referred to as a detached HEAD. The HEAD reference commonly points to a branch head. As commits are created, Git automatically changes the branch head to point to the latest commit. In this scenario, there is no branch head for Git to advance because the commit represented by tag v1.0.0 is part of the commit history.\n",
    "\n",
    "New commits made in this state won't be associated with a branch. This can result in a potential loss of changes. A detached HEAD state can be useful in certain scenarios; however, it's generally recommended to create a branch if changes are required. Branches help to maintain a clear commit history and provide a safe environment for ongoing development.\n",
    "\n",
    "The git switch command can be used to switch back to an actual branch.\n",
    "\n",
    "Switch to the main branch.\n",
    "\n",
    "\n",
    "Annotated tags allow for additional details to be specified. The -a flag creates an annotated tag. The -m flag specifies a message. The following command creates an annotated tag with a message.\n",
    "\n",
    "Create an annotated tag for the current commit.\n",
    "\n",
    "git tag -a \"v2.0.0\" -m \"now with 30% more git\"\n",
    "\n",
    "The git show command displays annotated tag details in addition to the commit details.\n",
    "\n",
    "Observe the tagged commit.\n",
    "\n",
    "git show \"v2.0.0\"\n",
    "\n",
    "By default Git doesn't push tags to remotes. The git push command includes mechanisms for pushing one or more tags.\n",
    "\n",
    "The git push --tags command pushes all tags to the default remote. The git push origin [tag_name] command pushes an individual tag.\n",
    "\n",
    "\n",
    "\n"
   ]
  },
  {
   "cell_type": "markdown",
   "id": "25ac5fb2",
   "metadata": {},
   "source": [
    "git ignore\n",
    "\n",
    "Ignoring Local Files\n",
    "There are often local files that reside in the working directory that should not be under version control. Examples: log files, text editor configuration files, build results, etc. The .gitignore file is a text file used by Git to specify files and directories that should be ignored when tracking changes in a Git repository. It enables users to exclude certain files or patterns from being committed to the repository, ensuring they are not accidentally included in version control.\n",
    "\n",
    "The syntax of the .gitignore file is straightforward. Each line represents a pattern or rule to ignore files or directories. Here are some common aspects of the syntax:\n",
    "\n",
    "Lines starting with # are comments and are ignored.\n",
    "Blank lines are also ignored.\n",
    "Patterns can include wildcards:\n",
    "* matches any number of characters within a filename.\n",
    "? matches any single character within a filename.\n",
    "/ specifies a directory separator.\n",
    "! negates the pattern, i.e., includes files that would otherwise be ignored.\n",
    "The / prefix to specify patterns relative to the root directory of the repository.\n",
    "A leading / or **/ matches patterns in any directory or subdirectory.\n",
    "A trailing / matches directories only.\n",
    "Glob-style patterns like *.txt, *.log, or mydir/*.jpg ignore specific file types or files within a directory.\n",
    "\n",
    "Examples:\n",
    "\n",
    "# Ignore compiled binaries\n",
    "*.exe\n",
    "*.o\n",
    "\n",
    "# Ignore log files\n",
    "*.log\n",
    "\n",
    "# Ignore a directory\n",
    "mydir/\n",
    "\n",
    "# Include a specific file even if it matches other patterns\n",
    "!important.txt"
   ]
  }
 ],
 "metadata": {
  "language_info": {
   "name": "python"
  }
 },
 "nbformat": 4,
 "nbformat_minor": 5
}
