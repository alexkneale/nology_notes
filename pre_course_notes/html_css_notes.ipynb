{
 "cells": [
  {
   "cell_type": "markdown",
   "id": "04291b4c",
   "metadata": {},
   "source": [
    "All HTML tags start with < and end with  >\n",
    "\n",
    "HTML elements that serve as containers for other elements/texthave an opening and closing tag\n",
    "\n",
    "The closing tag always has an extra /\n",
    "\n",
    "For example, for the paragraph element <p>, we have the following"
   ]
  },
  {
   "cell_type": "code",
   "execution_count": null,
   "id": "3b907769",
   "metadata": {
    "vscode": {
     "languageId": "html"
    }
   },
   "outputs": [],
   "source": [
    "<p>This is the content</p>"
   ]
  },
  {
   "cell_type": "markdown",
   "id": "fd4a9987",
   "metadata": {},
   "source": [
    "HTML distinguishes between text and tags. Tags can be easily seen because they are enclosed in angle\n",
    "brackets ( and >>). Many (not all) tags appear in pairs which act as containers. The terminating tag uses a\n",
    "forward slash ( (//) character immediately after the opening angle\n",
    "\n",
    "Tag names are not case sensitive, so < and < are exactly equivalent although lower case is\n",
    "now expected. Any text not in tags is literal text which the browser will interpret as a document’s content,\n",
    "appearing on the browser’s screen. The non tag text in the document is displayed without change, except\n",
    "that carriage returns in the HTML are treated like spaces. If you want to insert a line break in the document,\n",
    "there are tags designed for this purpose, one of which is br >>.\n",
    "\n",
    "An HTML document is divided into three sections: the prolog, the head and the body. The Prolog identifies\n",
    "the HTML specification that the document conforms to. This is done with the !DOCTYPE directive. The\n",
    "outermost pair of tags, after the prolog, will be < and </ html>. Within this section the document\n",
    "has the head and body, which, respectively, defines document header information and document content.\n",
    "The head section must contain at least a title, using the < container.\n",
    "\n",
    "Many tags have additional attributes which specify various options. Some attributes are required. Many are\n",
    "optional and have default values if not supplied.\n",
    "\n",
    "Attribute values are usually enclosed in quotes. Quoting is not usually necessary unless the attribute value\n",
    "contains more than one word. In later technologies, such as XML (see later), attribute values must be\n",
    "enclosed in quotes at all times."
   ]
  },
  {
   "cell_type": "code",
   "execution_count": null,
   "id": "0124eca7",
   "metadata": {
    "vscode": {
     "languageId": "html"
    }
   },
   "outputs": [],
   "source": [
    "Elements that aren't meant to store content are called void Elements\n",
    "\n",
    "Some examples are line break elements (<br>)\n",
    "\n",
    "All HTML documents have to start with doc type declaration\n",
    "\n",
    "html element "
   ]
  },
  {
   "cell_type": "code",
   "execution_count": null,
   "id": "1246220f",
   "metadata": {
    "vscode": {
     "languageId": "html"
    }
   },
   "outputs": [],
   "source": [
    "<!DOCTYPE html>"
   ]
  },
  {
   "cell_type": "markdown",
   "id": "75aad987",
   "metadata": {},
   "source": [
    "Then declare language"
   ]
  },
  {
   "cell_type": "code",
   "execution_count": null,
   "id": "270415d9",
   "metadata": {
    "vscode": {
     "languageId": "html"
    }
   },
   "outputs": [],
   "source": [
    "<!DOCTYPE html>\n",
    "<html lang=\"en\">\n",
    "    \n",
    "</html>"
   ]
  },
  {
   "cell_type": "markdown",
   "id": "ffb4fb12",
   "metadata": {},
   "source": [
    "Then use head element, which acts as container for content that isn't displayed on the webpage\n",
    "\n",
    "Here, we set charset (character set). Here utf-8 covers majority of symbols\n",
    "\n",
    "Here, it is contained within meta tag, which defines meta data (information with regard to the page)\n",
    "\n"
   ]
  },
  {
   "cell_type": "code",
   "execution_count": null,
   "id": "59ad57e8",
   "metadata": {
    "vscode": {
     "languageId": "html"
    }
   },
   "outputs": [],
   "source": [
    "<!DOCTYPE html>\n",
    "<html lang=\"en\">\n",
    "    <head>\n",
    "        <meta charset = \"utf-8\">\n",
    "    </head>\n",
    "    \n",
    "</html>"
   ]
  },
  {
   "cell_type": "markdown",
   "id": "23a89953",
   "metadata": {},
   "source": [
    "Below, we declare what type of meta tag we are using"
   ]
  },
  {
   "cell_type": "code",
   "execution_count": null,
   "id": "fe9f4b00",
   "metadata": {
    "vscode": {
     "languageId": "html"
    }
   },
   "outputs": [],
   "source": [
    "<!DOCTYPE html>\n",
    "<html lang=\"en\">\n",
    "    <head>\n",
    "        <meta charset = \"utf-8\">\n",
    "        <meta name = \"description\" content = \"this is the page description\">\n",
    "    </head>\n",
    "    \n",
    "</html>"
   ]
  },
  {
   "cell_type": "markdown",
   "id": "3a942907",
   "metadata": {
    "vscode": {
     "languageId": "html"
    }
   },
   "source": [
    "Now title, which defines what is visible on browser tab for a webpage"
   ]
  },
  {
   "cell_type": "code",
   "execution_count": null,
   "id": "9612e7ff",
   "metadata": {
    "vscode": {
     "languageId": "html"
    }
   },
   "outputs": [],
   "source": [
    "<!DOCTYPE html>\n",
    "<html lang=\"en\">\n",
    "    <head>\n",
    "        <meta charset = \"utf-8\">\n",
    "        <meta name = \"description\" content = \"this is the page description\">\n",
    "        <title>This is the page title </title>\n",
    "    </head>\n",
    "    \n",
    "</html>"
   ]
  },
  {
   "cell_type": "markdown",
   "id": "da40f383",
   "metadata": {},
   "source": [
    "After head element, use body element, which contains all data that will be displayed on webpage\n",
    "\n"
   ]
  },
  {
   "cell_type": "code",
   "execution_count": null,
   "id": "d11c1261",
   "metadata": {
    "vscode": {
     "languageId": "html"
    }
   },
   "outputs": [],
   "source": [
    "<!DOCTYPE html>\n",
    "<html lang=\"en\">\n",
    "    <head>\n",
    "        <meta charset = \"utf-8\">\n",
    "        <meta name = \"description\" content = \"this is the page description\">\n",
    "        <title>This is the page title </title>\n",
    "    </head>\n",
    "    <body>\n",
    "        \n",
    "    </body>\n",
    "    \n",
    "</html>"
   ]
  },
  {
   "cell_type": "markdown",
   "id": "5987352e",
   "metadata": {},
   "source": [
    "##### Commenting in HTML\n",
    "\n",
    "A document can be annotated with the Comment element\n",
    "\n",
    "Comments may be as long as you wish, but bear in mind that they are downloaded by the server to the\n",
    "client even though they are not displayed on screen. Long comments make for wasted bandwidth."
   ]
  },
  {
   "cell_type": "code",
   "execution_count": null,
   "id": "8660e6f0",
   "metadata": {
    "vscode": {
     "languageId": "html"
    }
   },
   "outputs": [],
   "source": [
    "<!DOCTYPE html>\n",
    "<html lang=\"en\">\n",
    "    <head>\n",
    "        <meta charset = \"utf-8\">\n",
    "        <meta name = \"description\" content = \"this is the page description\">\n",
    "        <title>This is the page title </title>\n",
    "    </head>\n",
    "    <body>\n",
    "        \n",
    "    </body>\n",
    "    \n",
    "</html>\n",
    "<!---- Here is an example of a comment----> "
   ]
  },
  {
   "cell_type": "markdown",
   "id": "ec1e80cb",
   "metadata": {},
   "source": [
    "##### Container Tags\n",
    "\n",
    "Containers may be nested but may not overlap. For example, this is correct:\n"
   ]
  },
  {
   "cell_type": "code",
   "execution_count": null,
   "id": "0140fa3e",
   "metadata": {
    "vscode": {
     "languageId": "html"
    }
   },
   "outputs": [],
   "source": [
    "<p>This text is a paragraph containing <b>bold</b> and <\n",
    "i > i > text. Some words are both\n",
    "< i >bold and i ></b>.</p>"
   ]
  },
  {
   "cell_type": "markdown",
   "id": "7d2a07ec",
   "metadata": {},
   "source": [
    "This is incorrect, because the closing\n",
    "</ tag occurs in the middle of a i >>… i block.\n"
   ]
  },
  {
   "cell_type": "code",
   "execution_count": null,
   "id": "760e1fcc",
   "metadata": {
    "vscode": {
     "languageId": "html"
    }
   },
   "outputs": [],
   "source": [
    "<p>The <b>quick brown <i> fox</b> jumps over i > lazy dog.</p>"
   ]
  },
  {
   "cell_type": "markdown",
   "id": "90f1060e",
   "metadata": {},
   "source": [
    "##### Special Characters\n",
    "\n",
    "Since the angle brackets (<< and >>) have a special meaning to HTML, how can they be displayed as part of\n",
    "a document’s contents? HTML provides an escape mechanism for specifying special characters. These\n",
    "escapes are called character entities.\n",
    "These begin with an ampersand, this is followed by the decimal index in the character set or a name and\n",
    "terminated by a semicolon.\n",
    "The most common (and standard) entities are:\n"
   ]
  },
  {
   "cell_type": "code",
   "execution_count": null,
   "id": "8968762f",
   "metadata": {
    "vscode": {
     "languageId": "html"
    }
   },
   "outputs": [],
   "source": [
    "This is the less than symbol: &lt; \n",
    "\n",
    "This is the greater than symbol: &gt; \n",
    "\n",
    "\n",
    "This is the ampersand symbol: &amp; \n",
    "\n",
    "This is the quotation symbol: &quot; \n"
   ]
  },
  {
   "cell_type": "markdown",
   "id": "44d0ea5c",
   "metadata": {},
   "source": [
    "#### Intro to HTML elements\n"
   ]
  },
  {
   "cell_type": "code",
   "execution_count": null,
   "id": "3ba202c7",
   "metadata": {
    "vscode": {
     "languageId": "html"
    }
   },
   "outputs": [],
   "source": [
    "\n",
    "\n",
    "<div> --> short for division, divides page within sections (not to be confused with semantic element section). Section conveys a meaning while div has none\n",
    "\n",
    "div is generic container in html for flow content (the content that gets placed inside of body, to be displayed on webpage)\n"
   ]
  },
  {
   "cell_type": "code",
   "execution_count": null,
   "id": "1459a69e",
   "metadata": {
    "vscode": {
     "languageId": "html"
    }
   },
   "outputs": [],
   "source": [
    "<!DOCTYPE html>\n",
    "<html lang=\"en\">\n",
    "    <head>\n",
    "        <meta charset=\"UTF-8\" />\n",
    "        <meta http-equiv=\"X-UA-Compatible\" content=\"IE=edge\"/>\n",
    "        <title>Cloud Academy</title>\n",
    "    </head>\n",
    "    <body>\n",
    "        <div>\n",
    "            # insert image here, with src (source), equal to a url or file path, alt is text description of image on webpage (to be displayed if image doesn't load)\n",
    "            <img src=\"https://....\" alt=\"dog\">\n",
    "\n",
    "        </div>\n",
    "\n",
    "    </body>\n",
    "\n",
    "\n",
    "\n",
    "\n",
    "\n",
    "\n",
    "</html>"
   ]
  },
  {
   "cell_type": "markdown",
   "id": "472670d2",
   "metadata": {},
   "source": [
    "If you want to link to other website/pages, need to use anchor element\n",
    "\n",
    "href (hypertext reference), s\n",
    "\n",
    "the text that comes after link, is what link is embedded in\n"
   ]
  },
  {
   "cell_type": "code",
   "execution_count": null,
   "id": "f130b624",
   "metadata": {
    "vscode": {
     "languageId": "html"
    }
   },
   "outputs": [],
   "source": [
    "<!DOCTYPE html>\n",
    "<html lang=\"en\">\n",
    "    <head>\n",
    "        <meta charset=\"UTF-8\" />\n",
    "        <meta http-equiv=\"X-UA-Compatible\" content=\"IE=edge\"/>\n",
    "        <title>Cloud Academy</title>\n",
    "    </head>\n",
    "    <body>\n",
    "        <div>\n",
    "            # insert image here, with src (source), equal to a url or file path, alt is text description of image on webpage (to be displayed if image doesn't load)\n",
    "            <img src=\"https://....\" alt=\"dog\">\n",
    "            <a href=\"cloudacademy.com\">Cloud Academy</a>\n",
    "\n",
    "        </div>\n",
    "\n",
    "    </body>\n",
    "\n",
    "\n",
    "\n",
    "\n",
    "\n",
    "\n",
    "</html>"
   ]
  },
  {
   "cell_type": "markdown",
   "id": "9a63ca68",
   "metadata": {},
   "source": [
    "So I'm gonna create another div. And what I'm gonna do is create a group of related items. And in HTML, the element known for grouping related items is called a list, and there are different types of lists available. I'm gonna begin with a unordered list. I will create the opening and closing tag using 'ul', and inside of this list, in order for the list to work, I need to use a element that's called a list item. So I will create the opening and closing tag 'li', short for list item, and the list item will have a content of list item one. And I will create another list item that will have the content of the list two. \n",
    "\n"
   ]
  },
  {
   "cell_type": "code",
   "execution_count": null,
   "id": "96b77075",
   "metadata": {
    "vscode": {
     "languageId": "html"
    }
   },
   "outputs": [],
   "source": [
    "<!DOCTYPE html>\n",
    "<html lang=\"en\">\n",
    "    <head>\n",
    "        <meta charset=\"UTF-8\" />\n",
    "        <meta http-equiv=\"X-UA-Compatible\" content=\"IE=edge\"/>\n",
    "        <title>Cloud Academy</title>\n",
    "    </head>\n",
    "    <body>\n",
    "        <div>\n",
    "            # insert image here, with src (source), equal to a url or file path, alt is text description of image on webpage (to be displayed if image doesn't load)\n",
    "            <img src=\"https://....\" alt=\"dog\">\n",
    "            <a href=\"cloudacademy.com\">Cloud Academy</a>\n",
    "\n",
    "        </div>\n",
    "        <div>\n",
    "            <ul>\n",
    "                <li>\n",
    "                    List Item 1\n",
    "                </li>\n",
    "                <li>\n",
    "                    List Item 2\n",
    "                </li>\n",
    "\n",
    "            </ul>\n",
    "\n",
    "\n",
    "        </div>\n",
    "\n",
    "\n",
    "    </body>\n",
    "\n",
    "\n",
    "</html>"
   ]
  },
  {
   "cell_type": "markdown",
   "id": "fefe9881",
   "metadata": {},
   "source": [
    "Taking a closer look, an unordered lists is considered to be a bulleted list indicated by the two discs to the left of the list item content, which is the default style. There is no order given either numerically or alphabetically. To indicate an order, I need to use an ordered list. Back to the left side in the text editor, I'm gonna replace the letter 'u' in the unordered list with the letter 'o' in order to change this to an ordered list. Back at the right site in the output window, the bullets have been replaced with numerical order values of one and two creating an ordered list. Now you're not tied to numerical values. That's just the default. There are other options such as using alphabetical order, A, B, C, and D, and so forth. That's it."
   ]
  },
  {
   "cell_type": "code",
   "execution_count": null,
   "id": "24630f9c",
   "metadata": {
    "vscode": {
     "languageId": "html"
    }
   },
   "outputs": [],
   "source": [
    "<!DOCTYPE html>\n",
    "<html lang=\"en\">\n",
    "    <head>\n",
    "        <meta charset=\"UTF-8\" />\n",
    "        <meta http-equiv=\"X-UA-Compatible\" content=\"IE=edge\"/>\n",
    "        <title>Cloud Academy</title>\n",
    "    </head>\n",
    "    <body>\n",
    "        <div>\n",
    "            # insert image here, with src (source), equal to a url or file path, alt is text description of image on webpage (to be displayed if image doesn't load)\n",
    "            <img src=\"https://....\" alt=\"dog\">\n",
    "            <a href=\"cloudacademy.com\">Cloud Academy</a>\n",
    "\n",
    "        </div>\n",
    "        <div>\n",
    "            <ol>\n",
    "                <li>\n",
    "                    List Item 1\n",
    "                </li>\n",
    "                <li>\n",
    "                    List Item 2\n",
    "                </li>\n",
    "\n",
    "            </ol>\n",
    "\n",
    "\n",
    "        </div>\n",
    "\n",
    "\n",
    "    </body>\n",
    "\n",
    "\n",
    "</html>"
   ]
  },
  {
   "cell_type": "markdown",
   "id": "773f87d0",
   "metadata": {},
   "source": [
    "##### More on ordered lists\n",
    "\n",
    "For numbering starting at a different number (not 1):"
   ]
  },
  {
   "cell_type": "code",
   "execution_count": null,
   "id": "6cb3e90a",
   "metadata": {
    "vscode": {
     "languageId": "html"
    }
   },
   "outputs": [],
   "source": [
    "<ol start = \"4\">\n",
    "    <li>\n",
    "        List Item 1\n",
    "    </li>\n",
    "    <li>\n",
    "        List Item 2\n",
    "    </li>\n",
    "\n",
    "</ol>"
   ]
  },
  {
   "cell_type": "markdown",
   "id": "9957b9f8",
   "metadata": {
    "vscode": {
     "languageId": "html"
    }
   },
   "source": [
    "<ol start = \"4\">\n",
    "    <li>\n",
    "        List Item 1\n",
    "    </li>\n",
    "    <li>\n",
    "        List Item 2\n",
    "    </li>\n",
    "\n",
    "</ol>"
   ]
  },
  {
   "cell_type": "markdown",
   "id": "10c1f7de",
   "metadata": {},
   "source": [
    "For alphabetical ordering, starting at a given letter:"
   ]
  },
  {
   "cell_type": "code",
   "execution_count": null,
   "id": "df696534",
   "metadata": {
    "vscode": {
     "languageId": "html"
    }
   },
   "outputs": [
    {
     "ename": "",
     "evalue": "",
     "output_type": "error",
     "traceback": [
      "\u001b[1;31mRunning cells with 'Python 3.13.5' requires the ipykernel package.\n",
      "\u001b[1;31m<a href='command:jupyter.createPythonEnvAndSelectController'>Create a Python Environment</a> with the required packages.\n",
      "\u001b[1;31mOr install 'ipykernel' using the command: 'c:/Python313/python.exe -m pip install ipykernel -U --user --force-reinstall'"
     ]
    }
   ],
   "source": [
    "<ol type = \"A\">\n",
    "    <li>\n",
    "        List Item 1\n",
    "    </li>\n",
    "    <li>\n",
    "        List Item 2\n",
    "    </li>\n",
    "\n",
    "</ol>"
   ]
  },
  {
   "cell_type": "markdown",
   "id": "89e680d3",
   "metadata": {},
   "source": [
    "<ol type = \"A\">\n",
    "    <li>\n",
    "        List Item 1\n",
    "    </li>\n",
    "    <li>\n",
    "        List Item 2\n",
    "    </li>\n",
    "</ol>"
   ]
  },
  {
   "cell_type": "markdown",
   "id": "1e218ab2",
   "metadata": {},
   "source": [
    "#### Tables\n",
    "\n",
    "| Tag         | Description                                  |\n",
    "|-------------|----------------------------------------------|\n",
    "| `<table>`   | Starts a table                                |\n",
    "| `<caption>` | (Optional) Table title                        |\n",
    "| `<thead>`   | Table header section (usually bold)           |\n",
    "| `<tbody>`   | Main content of the table                     |\n",
    "| `<tfoot>`   | Footer row (e.g., totals or averages)         |\n",
    "| `<tr>`      | Table row                                     |\n",
    "| `<th>`      | Header cell (bold and centered by default)    |\n",
    "| `<td>`      | Data cell (standard table content)            |\n",
    "| `colspan`   | Attribute to merge cells horizontally         |\n"
   ]
  },
  {
   "cell_type": "code",
   "execution_count": null,
   "id": "da3e8676",
   "metadata": {
    "vscode": {
     "languageId": "html"
    }
   },
   "outputs": [],
   "source": [
    "<table border=\"1\"> <!-- Defines the table and adds a border around it -->\n",
    "  \n",
    "  <caption>Student Grades</caption> <!-- Optional: provides a title for the table -->\n",
    "\n",
    "  <thead> <!-- Table Head: usually contains column headers -->\n",
    "    <tr> <!-- Table Row -->\n",
    "      <th>Name</th>       <!-- Table Header Cell (bold and centered by default) -->\n",
    "      <th>Subject</th>\n",
    "      <th>Grade</th>\n",
    "    </tr>\n",
    "  </thead>\n",
    "\n",
    "  <tbody> <!-- Table Body: contains the main data of the table -->\n",
    "    <tr>\n",
    "      <td>Alice</td>      <!-- Table Data Cell -->\n",
    "      <td>Math</td>\n",
    "      <td>A</td>\n",
    "    </tr>\n",
    "    <tr>\n",
    "      <td>Bob</td>\n",
    "      <td>Science</td>\n",
    "      <td>B+</td>\n",
    "    </tr>\n",
    "    <tr>\n",
    "      <td>Charlie</td>\n",
    "      <td>History</td>\n",
    "      <td>A-</td>\n",
    "    </tr>\n",
    "  </tbody>\n",
    "\n",
    "  <tfoot> <!-- Table Footer: often used for summary rows or totals -->\n",
    "    <tr>\n",
    "      <td colspan=\"2\">Average Grade</td> <!-- colspan merges two columns -->\n",
    "      <td>B+</td>\n",
    "    </tr>\n",
    "  </tfoot>\n",
    "\n",
    "</table>"
   ]
  },
  {
   "cell_type": "markdown",
   "id": "c214a37c",
   "metadata": {},
   "source": [
    "<table border=\"1\"> <!-- Defines the table and adds a border around it -->\n",
    "  \n",
    "  <caption>Student Grades</caption> <!-- Optional: provides a title for the table -->\n",
    "\n",
    "  <thead> <!-- Table Head: usually contains column headers -->\n",
    "    <tr> <!-- Table Row -->\n",
    "      <th>Name</th>       <!-- Table Header Cell (bold and centered by default) -->\n",
    "      <th>Subject</th>\n",
    "      <th>Grade</th>\n",
    "    </tr>\n",
    "  </thead>\n",
    "\n",
    "  <tbody> <!-- Table Body: contains the main data of the table -->\n",
    "    <tr>\n",
    "      <td>Alice</td>      <!-- Table Data Cell -->\n",
    "      <td>Math</td>\n",
    "      <td>A</td>\n",
    "    </tr>\n",
    "    <tr>\n",
    "      <td>Bob</td>\n",
    "      <td>Science</td>\n",
    "      <td>B+</td>\n",
    "    </tr>\n",
    "    <tr>\n",
    "      <td>Charlie</td>\n",
    "      <td>History</td>\n",
    "      <td>A-</td>\n",
    "    </tr>\n",
    "  </tbody>\n",
    "\n",
    "  <tfoot> <!-- Table Footer: often used for summary rows or totals -->\n",
    "    <tr>\n",
    "      <td colspan=\"2\">Average Grade</td> <!-- colspan merges two columns -->\n",
    "      <td>B+</td>\n",
    "    </tr>\n",
    "  </tfoot>\n",
    "\n",
    "</table>"
   ]
  },
  {
   "cell_type": "markdown",
   "id": "1f394bb2",
   "metadata": {},
   "source": [
    "#### Introduction to HTML Text Elements\n",
    "\n",
    "In HTML, other elements can display and contain text such as the div element. But that is not their intended purpose. HTML has specific elements meant to contain and display texts. To demonstrate this, I will begin with 'h1', which is a blocked element, meaning that it will always start a new line. And 'h' is short for heading, and this heading will have text content of, this is heading text. \n",
    "\n",
    "On the next line, I will type 'h6' and this will have a text content of, this is the smallest heading text.\n",
    "\n",
    "So there are six different heading sizes. One through six, 'h1' is the largest while 'h6' is the smallest. Sizing is just the structure of the heading. The importance comes from the hierarchy. 'h1' implies that the system most important title while 'h6' implies the least importance.\n",
    "\n",
    "\n"
   ]
  },
  {
   "cell_type": "code",
   "execution_count": null,
   "id": "2d657936",
   "metadata": {
    "vscode": {
     "languageId": "html"
    }
   },
   "outputs": [],
   "source": [
    "<!DOCTYPE html>\n",
    "<html lang=\"en\">\n",
    "    <head>\n",
    "        <meta charset=\"utf-8\" />\n",
    "        <meta name=\"viewport\" content=\"width=device-width\"/>\n",
    "        <title>Cloud Academy Lab Challenge</title>\n",
    "    </head>\n",
    "    <body>\n",
    "        <h1>This is the heading text</h1>\n",
    "        <h6>This is the smallest heading text</h6>\n",
    "\n",
    "\n",
    "    </body>\n",
    "\n",
    "\n",
    "</html>"
   ]
  },
  {
   "cell_type": "markdown",
   "id": "c0704784",
   "metadata": {},
   "source": [
    "Next is the paragraph text element. A paragraph is a block of text that is separated by a blank line that comes before and after it. A paragraph is created by using the 'p' tag, which I will type. And inside of this paragraph, I will give it the text content of, this is a paragraph.\n",
    "\n"
   ]
  },
  {
   "cell_type": "code",
   "execution_count": null,
   "id": "c6ca9eb7",
   "metadata": {
    "vscode": {
     "languageId": "html"
    }
   },
   "outputs": [],
   "source": [
    "<!DOCTYPE html>\n",
    "<html lang=\"en\">\n",
    "    <head>\n",
    "        <meta charset=\"utf-8\" />\n",
    "        <meta name=\"viewport\" content=\"width=device-width\"/>\n",
    "        <title>Cloud Academy Lab Challenge</title>\n",
    "    </head>\n",
    "    <body>\n",
    "        <h1>This is the heading text</h1>\n",
    "        <h6>This is the smallest heading text</h6>\n",
    "        <p>This is a paragraph</p>\n",
    "\n",
    "\n",
    "    </body>\n",
    "\n",
    "\n",
    "</html>"
   ]
  },
  {
   "cell_type": "markdown",
   "id": "4c603a3e",
   "metadata": {},
   "source": [
    "Comparing the paragraph and the heading, we notice that the heading font is darker than the paragraph font. And that is because the default font weight for the heading is bold. \n",
    "\n",
    "What if I wanted to make part of the paragraph text bold? Well, there is a bold element, but the HTML spec sheet states that this should only be used as the last resort.\n",
    "\n",
    "Now, there are a couple of alternatives. One of them being 'strong'. Inside of the paragraph, I will wrap the word this, with the strong element. The strong element is an inline element, meaning it does not force any surrounding techs to drop down to a new line. On the screen it does make the word, 'this', darker, but the strong element has semantic meaning implying that the word or phrase inside of it has strong importance, causing screen readers to use a different voice or tone when reading a strong element, whereas a bold text might not be visible to the visually impaired.\n",
    "\n"
   ]
  },
  {
   "cell_type": "code",
   "execution_count": null,
   "id": "c478b65e",
   "metadata": {
    "vscode": {
     "languageId": "html"
    }
   },
   "outputs": [],
   "source": [
    "<!DOCTYPE html>\n",
    "<html lang=\"en\">\n",
    "    <head>\n",
    "        <meta charset=\"utf-8\" />\n",
    "        <meta name=\"viewport\" content=\"width=device-width\"/>\n",
    "        <title>Cloud Academy Lab Challenge</title>\n",
    "    </head>\n",
    "    <body>\n",
    "        <h1>This is the heading text</h1>\n",
    "        <h6>This is the smallest heading text</h6>\n",
    "        <p><strong>This</strong> is a paragraph</p>\n",
    "\n",
    "\n",
    "    </body>\n",
    "\n",
    "\n",
    "</html>"
   ]
  },
  {
   "cell_type": "markdown",
   "id": "721e31f6",
   "metadata": {},
   "source": [
    "Another text element that's similar to strong, is called the 'em' element, which italicizes. I will wrap the em element around the word paragraph. "
   ]
  },
  {
   "cell_type": "code",
   "execution_count": null,
   "id": "d135115a",
   "metadata": {
    "vscode": {
     "languageId": "html"
    }
   },
   "outputs": [],
   "source": [
    "<!DOCTYPE html>\n",
    "<html lang=\"en\">\n",
    "    <head>\n",
    "        <meta charset=\"utf-8\" />\n",
    "        <meta name=\"viewport\" content=\"width=device-width\"/>\n",
    "        <title>Cloud Academy Lab Challenge</title>\n",
    "    </head>\n",
    "    <body>\n",
    "        <h1>This is the heading text</h1>\n",
    "        <h6>This is the smallest heading text</h6>\n",
    "        <p><strong>This</strong> is a <em>paragraph</em></p>\n",
    "\n",
    "\n",
    "    </body>\n",
    "\n",
    "\n",
    "</html>"
   ]
  },
  {
   "cell_type": "markdown",
   "id": "1c0e5046",
   "metadata": {},
   "source": [
    "There are texts elements that do absolutely nothing. For example span, I'm gonna wrap the span element around the words, 'is a'. If span has no semantic meaning what's its purpose? It's usually used for targeting purposes. To apply a specific style within a small block of text. That may be in another container such as this paragraph, but demonstrating this is out of scope for this video.\n",
    "\n"
   ]
  },
  {
   "cell_type": "code",
   "execution_count": null,
   "id": "80d7b5ef",
   "metadata": {
    "vscode": {
     "languageId": "html"
    }
   },
   "outputs": [],
   "source": [
    "<!DOCTYPE html>\n",
    "<html lang=\"en\">\n",
    "    <head>\n",
    "        <meta charset=\"utf-8\" />\n",
    "        <meta name=\"viewport\" content=\"width=device-width\"/>\n",
    "        <title>Cloud Academy Lab Challenge</title>\n",
    "    </head>\n",
    "    <body>\n",
    "        <h1>This is the heading text</h1>\n",
    "        <h6>This is the smallest heading text</h6>\n",
    "        <p><strong>This</strong> <span>is a</span> <em>paragraph</em></p>\n",
    "\n",
    "\n",
    "    </body>\n",
    "\n",
    "\n",
    "</html>"
   ]
  },
  {
   "cell_type": "markdown",
   "id": "7e13a25b",
   "metadata": {},
   "source": [
    "#### Semantic HTML Elements\n",
    "\n",
    "Semantic HTML is use of HTML markup that describes the purpose of the webpage's elements. And I'm gonna begin with the header element. And in this video, I'm gonna use paragraphs to loosely mark the location of each element in the browser window to the right.\n",
    "\n",
    "Now the header represents the introductory content of a page or section of a site. This content could be a logo, a heading, a search form, or many other elements, such as navigational aids."
   ]
  },
  {
   "cell_type": "code",
   "execution_count": null,
   "id": "596cb26c",
   "metadata": {
    "vscode": {
     "languageId": "html"
    }
   },
   "outputs": [],
   "source": [
    "<!DOCTYPE html>\n",
    "<html lang=\"en\">\n",
    "    <head>\n",
    "        <meta charset=\"utf-8\" />\n",
    "        <meta name=\"viewport\" content=\"width=device-width\"/>\n",
    "        <title>Cloud Academy Lab Challenge</title>\n",
    "    </head>\n",
    "    <body>\n",
    "        <header><p>This is the header</p></header>\n",
    "\n",
    "\n",
    "    </body>\n",
    "\n",
    "\n",
    "</html>"
   ]
  },
  {
   "cell_type": "markdown",
   "id": "34d16a67",
   "metadata": {},
   "source": [
    "I will add the nav element, which is short for navigation, and this element will contain the anchor elements that will link to different pages of your web application. \n",
    "\n",
    "Not all groups of links on a page need to be in a nav element the element is primarily intended for sections that consist of major navigation blocks.\n",
    "\n",
    "It is common for footers to have a short list of links to various pages of a site, such as the terms of service, the home page, and a copyright page. The footer element alone is sufficient for such cases; while a nav element can be used in such cases, it is usually unnecessary.\n",
    "\n",
    "The footer element represents a footer for its nearest ancestor sectioning content or sectioning root element. A footer typically contains information about its section, such as who wrote it, links to related documents, copyright data, and the like."
   ]
  },
  {
   "cell_type": "code",
   "execution_count": null,
   "id": "ef4760dc",
   "metadata": {
    "vscode": {
     "languageId": "html"
    }
   },
   "outputs": [],
   "source": [
    "<!DOCTYPE html>\n",
    "<html lang=\"en\">\n",
    "    <head>\n",
    "        <meta charset=\"utf-8\" />\n",
    "        <meta name=\"viewport\" content=\"width=device-width\"/>\n",
    "        <title>Cloud Academy Lab Challenge</title>\n",
    "    </head>\n",
    "    <body>\n",
    "        <header>\n",
    "            <p>This is the header</p>\n",
    "            <nav>\n",
    "                <p>This is the navigation</p>\n",
    "            </nav>\n",
    "        </header>\n",
    "\n",
    "\n",
    "\n",
    "    </body>\n",
    "\n",
    "\n",
    "</html>"
   ]
  },
  {
   "cell_type": "markdown",
   "id": "f9e611fd",
   "metadata": {},
   "source": [
    "Now after the header is where I want the main content of the page to be displayed and I will use the main element for this. And this is what main represents, the central topic of this page, whatever that may be.\n",
    "\n"
   ]
  },
  {
   "cell_type": "code",
   "execution_count": null,
   "id": "44fbb378",
   "metadata": {
    "vscode": {
     "languageId": "html"
    }
   },
   "outputs": [],
   "source": [
    "<!DOCTYPE html>\n",
    "<html lang=\"en\">\n",
    "    <head>\n",
    "        <meta charset=\"utf-8\" />\n",
    "        <meta name=\"viewport\" content=\"width=device-width\"/>\n",
    "        <title>Cloud Academy Lab Challenge</title>\n",
    "    </head>\n",
    "    <body>\n",
    "        <header>\n",
    "            <p>This is the header</p>\n",
    "            <nav>\n",
    "                <p>This is the navigation</p>\n",
    "            </nav>\n",
    "        </header>\n",
    "        <main>\n",
    "            <p>This is the main content</p>\n",
    "        </main>\n",
    "\n",
    "\n",
    "\n",
    "    </body>\n",
    "\n",
    "\n",
    "</html>"
   ]
  },
  {
   "cell_type": "markdown",
   "id": "02a888f9",
   "metadata": {},
   "source": [
    "Now if I want to divide my main content into sections for organization purposes, there is a section element and I will create it after the paragraph. Now here's where semantic HTML gets a little tricky. Because of recommended best practices when using section, the section is a generic semantic element, it should only be used when no other semantic elements will fit with their implied meaning. The recommendation is that a section should be defined by including a heading within the element, but there are other scenarios, such as a grouping of buttons where a heading doesn't make sense.\n",
    "\n",
    "The section is used to break semantic articles like the article or nav into smaller chunks. There are a\n",
    "few simple rules in their use:\n",
    "\n",
    "- Do not use it as a container for styling to scripting the div element should be used\n",
    "\n",
    "- Most generic and least meaningful of the other sectioning elements use them when more appropriate\n",
    "\n",
    "- The section must be followed by a h n  element\n",
    "\n",
    "sections, unlike div, provide a child level in the document outline, they are a structural sub level in the hierarchy. A common mistake is new developers to HTML5 think the div tag is obsolete. As we will discuss shortly when you are using a Tag as a container presentational rather than informational structure the section element should not be used.\n",
    "\n",
    "So what are some elements that should be used in place of a section element? One such element is the article element. The article element is meant to represent a self-contained piece of content, for example, an event announcement on your website. Now off to the right of the article content is an informational sidebar. When using semantic markup, the recommended element for this layout is the aside element. Now the aside element doesn't have any defaults that automatically shifts the element to one side or to another of its companion element. You would need to use CSS to achieve this.\n",
    "\n",
    "The aside element is an often misused tag in HTML5. Its purpose is to provide data that is tangential to the main block to assist with related but non essential information. "
   ]
  },
  {
   "cell_type": "code",
   "execution_count": null,
   "id": "ba35a64d",
   "metadata": {
    "vscode": {
     "languageId": "html"
    }
   },
   "outputs": [],
   "source": [
    "<!DOCTYPE html>\n",
    "<html lang=\"en\">\n",
    "    <head>\n",
    "        <meta charset=\"utf-8\" />\n",
    "        <meta name=\"viewport\" content=\"width=device-width\"/>\n",
    "        <title>Cloud Academy Lab Challenge</title>\n",
    "    </head>\n",
    "    <body>\n",
    "        <header>\n",
    "            <p>This is the header</p>\n",
    "            <nav>\n",
    "                <p>This is the navigation</p>\n",
    "            </nav>\n",
    "        </header>\n",
    "        <main>\n",
    "            <p>This is the main content</p>\n",
    "            <section>\n",
    "                <article>\n",
    "                    <p>This is the article</p>\n",
    "                </article>\n",
    "                <aside>\n",
    "                    <p>This is the aside</p>\n",
    "                </aside>\n",
    "            </section>\n",
    "        </main>\n",
    "\n",
    "\n",
    "\n",
    "    </body>\n",
    "\n",
    "\n",
    "</html>"
   ]
  },
  {
   "cell_type": "markdown",
   "id": "283b789e",
   "metadata": {},
   "source": [
    "Now this completes the main section and a common practice is to have informational content such as a copyright, social media links or a navigational menu at the bottom of the page. And after the main element, I will create the footer element where this content will be located. And structurally, this is the end of the content on your website. Now does the footer have to contain the items I mentioned earlier? Absolutely not, but there are common and opinionated practices that will lead you in the right direction. "
   ]
  },
  {
   "cell_type": "code",
   "execution_count": null,
   "id": "9c197574",
   "metadata": {
    "vscode": {
     "languageId": "html"
    }
   },
   "outputs": [],
   "source": [
    "<!DOCTYPE html>\n",
    "<html lang=\"en\">\n",
    "    <head>\n",
    "        <meta charset=\"utf-8\" />\n",
    "        <meta name=\"viewport\" content=\"width=device-width\"/>\n",
    "        <title>Cloud Academy Lab Challenge</title>\n",
    "    </head>\n",
    "    <body>\n",
    "        <header>\n",
    "            <p>This is the header</p>\n",
    "            <nav>\n",
    "                <p>This is the navigation</p>\n",
    "            </nav>\n",
    "        </header>\n",
    "        <main>\n",
    "            <p>This is the main content</p>\n",
    "            <section>\n",
    "                <article>\n",
    "                    <p>This is the article</p>\n",
    "                </article>\n",
    "                <aside>\n",
    "                    <p>This is the aside</p>\n",
    "                </aside>\n",
    "            </section>\n",
    "        </main>\n",
    "        \n",
    "        <footer>\n",
    "\n",
    "        </footer>\n",
    "\n",
    "\n",
    "\n",
    "    </body>\n",
    "\n",
    "\n",
    "</html>"
   ]
  },
  {
   "cell_type": "markdown",
   "id": "84bf815a",
   "metadata": {},
   "source": [
    "#### Select and Option\n",
    "\n",
    "List boxes and drop down lists are created using the select and option tags which define a list and its contents respectively. If the SIZE attribute of select is 1, it is typically shown as a drop down list box with only one item showing. If SIZE is greater than one, it is a list box with scroll bars. MULTIPLE attribute specifies multiple selection list.\n",
    "\n",
    "\n",
    "By default the value returned by the list box will be the text in the option item which was selected when\n",
    "the form was submitted. If you want to display one piece of text but submit a different value, you can use\n",
    "the VALUE property of the option tag, thus:"
   ]
  },
  {
   "cell_type": "code",
   "execution_count": null,
   "id": "dd335b29",
   "metadata": {
    "vscode": {
     "languageId": "html"
    }
   },
   "outputs": [],
   "source": [
    "<select name=\"Drop2\n",
    "SIZE=\"3\">\n",
    "<option value=\"2\">High</option>\n",
    "<option value=\"1\">Medium</option>\n",
    "<option value=\"0\">Low</option>\n",
    "</"
   ]
  },
  {
   "cell_type": "markdown",
   "id": "8b079834",
   "metadata": {},
   "source": [
    "If you want to set up an initial (default) value, an option tag can have the SELECTED attribute."
   ]
  },
  {
   "cell_type": "code",
   "execution_count": null,
   "id": "7e07e496",
   "metadata": {
    "vscode": {
     "languageId": "html"
    }
   },
   "outputs": [],
   "source": [
    "<select name=\"Cars\">\n",
    "    <option>Red</option>\n",
    "    <option selected> myfavourite )</option>\n",
    "    <option>Green</option>\n",
    "</select>"
   ]
  },
  {
   "cell_type": "markdown",
   "id": "b5a5f58b",
   "metadata": {},
   "source": [
    "### Introduction to CSS syntax\n",
    "\n",
    "Below, we have some CSS syntax\n",
    "\n",
    "p  -- selector (element/s which to target, in this example all paragraphs )\n",
    "\n",
    "{} -- inside is\n",
    "\n",
    "inside {} -- all declarations, in this case, we declare all font sizes will be modified\n",
    "\n",
    "after : -- value of what is changed\n",
    "\n",
    "NB, always include ;"
   ]
  },
  {
   "cell_type": "code",
   "execution_count": null,
   "id": "ef82c9f5",
   "metadata": {
    "vscode": {
     "languageId": "html"
    }
   },
   "outputs": [],
   "source": []
  },
  {
   "cell_type": "code",
   "execution_count": null,
   "id": "88a20bc2",
   "metadata": {
    "vscode": {
     "languageId": "html"
    }
   },
   "outputs": [],
   "source": [
    "p { font-size: 26px; }"
   ]
  },
  {
   "cell_type": "markdown",
   "id": "ebc3bdfe",
   "metadata": {},
   "source": [
    "Other example\n",
    "\n"
   ]
  },
  {
   "cell_type": "code",
   "execution_count": null,
   "id": "d616cf03",
   "metadata": {
    "vscode": {
     "languageId": "html"
    }
   },
   "outputs": [],
   "source": [
    "p { font-size: 26px; \n",
    "    color: green;\n",
    "\n",
    "}"
   ]
  },
  {
   "cell_type": "markdown",
   "id": "c570bca6",
   "metadata": {},
   "source": [
    "#### Box Model\n",
    "\n",
    "In CSS, every HTML element is rendered as a box and this is known as the Box Model. And the box model begins with content."
   ]
  },
  {
   "cell_type": "code",
   "execution_count": null,
   "id": "87dff7ab",
   "metadata": {
    "vscode": {
     "languageId": "html"
    }
   },
   "outputs": [],
   "source": [
    "<p>Content</p>"
   ]
  },
  {
   "cell_type": "markdown",
   "id": "cc86011d",
   "metadata": {},
   "source": [
    "The content is the information between the opening and closing tag of an element as seen on the screen. I have an opening paragraph tag, some text that represents content, and the closing paragraph tag. And the content is the center of the box or the box model. Building up the box"
   ]
  },
  {
   "cell_type": "markdown",
   "id": "25a2a102",
   "metadata": {},
   "source": [
    "See box_model.png for visualization of next part.\n",
    "\n",
    "\n",
    "Next is the padding, and the padding is the space between the content and an invisible border. And the border represents the boundary of the box. After the border is the margin, and the margin is the space between one element to another element outside of the border. And each of these box model traits are CSS properties that can be adjusted either on the box as a whole or on a directional basis of top, right, bottom, left. Transitioning to the code editor to demonstrate this.\n",
    "\n"
   ]
  },
  {
   "cell_type": "markdown",
   "id": "7b62bb48",
   "metadata": {},
   "source": [
    "Now on the screen I have a div with a light blue background and a content of box model. I'm going to begin by adding a border around the div. By default, the border is invisible and there are many ways to apply borders using CSS. I'm going to use the border shorthand property. Inside of the CSS declaration block, I will type 'border' and this shorthand property takes three values. The first value represents the border width. And I will give this a width of five pixels, and the border is still invisible. The next value represents the border style and I will give this a value of solid. And now the border is visible on the page and there are many different border styles.\n",
    "\n"
   ]
  },
  {
   "cell_type": "code",
   "execution_count": null,
   "id": "6eb8d2ad",
   "metadata": {
    "vscode": {
     "languageId": "html"
    }
   },
   "outputs": [],
   "source": [
    "div.box {\n",
    "    background-color: lightblue;\n",
    "    width: 200px;\n",
    "    height: 200px;\n",
    "    text-align: center;\n",
    "    border: 5px solid purple;\n",
    "}"
   ]
  },
  {
   "cell_type": "markdown",
   "id": "c35804ec",
   "metadata": {},
   "source": [
    "Let's go over padding and margin CSS structure."
   ]
  },
  {
   "cell_type": "code",
   "execution_count": null,
   "id": "8c442665",
   "metadata": {
    "vscode": {
     "languageId": "html"
    }
   },
   "outputs": [],
   "source": [
    "padding:"
   ]
  },
  {
   "cell_type": "markdown",
   "id": "163e850f",
   "metadata": {},
   "source": [
    "Both padding and margin have a shorthand CSS property which is created when simply writing the property name, in this example padding, but there are CSS properties that allow you to target a certain direction, such as padding-top."
   ]
  },
  {
   "cell_type": "code",
   "execution_count": null,
   "id": "f0279f25",
   "metadata": {
    "vscode": {
     "languageId": "html"
    }
   },
   "outputs": [],
   "source": [
    "padding: 10px;"
   ]
  },
  {
   "cell_type": "markdown",
   "id": "d3918c0d",
   "metadata": {},
   "source": [
    "Going back to the shorthand operator, I have padding: 10px; on the screen. The first value as written alone represents all four directions. As this is written, I am stating that I want the padding on all four sites to be of equal with 10 pixels."
   ]
  },
  {
   "cell_type": "code",
   "execution_count": null,
   "id": "e11784f7",
   "metadata": {
    "vscode": {
     "languageId": "html"
    }
   },
   "outputs": [],
   "source": [
    "paddingL 10px 25px;"
   ]
  },
  {
   "cell_type": "markdown",
   "id": "5e61889c",
   "metadata": {},
   "source": [
    "If I add a second value, the first value only represents the top and bottom, while the second value represents the right and left direction. As written, I am stating that I want the top and bottom padding to be 10 pixels wide and I want the right and left padding to be 25 pixels wide.\n",
    "\n"
   ]
  },
  {
   "cell_type": "code",
   "execution_count": null,
   "id": "91ac7ad7",
   "metadata": {
    "vscode": {
     "languageId": "html"
    }
   },
   "outputs": [],
   "source": [
    "padding: 10px 25px 5px 20px;"
   ]
  },
  {
   "cell_type": "markdown",
   "id": "dc24f898",
   "metadata": {},
   "source": [
    "The final version of the shorthand involves four values, one for each side. Going clockwise, the first value represents the top, the second value represents the right, the third value represents the bottom, and the last value represents the left. And the margin shorthand works in the exact same manner."
   ]
  },
  {
   "cell_type": "markdown",
   "id": "be89e494",
   "metadata": {},
   "source": [
    "Using padding to move content around on page\n",
    "\n",
    "I'm going to begin by adding some padding. So, I will type padding and I will give the padding a value of 50 pixels. And the content has shifted down a little bit. I'm going to increase the padding from 50 to 100 pixels.\n",
    "\n",
    "Now, the content is further downward. What's causing this to happen? When I increase the padding, the padding fills up the empty space, still maintaining the distance of 100 pixels from the right bottom and left border to the content. There is no shifting because there's more than enough space. The content starts at the top of the box and there is no space between the content and the top portion of the border. The top padding expands to 100 pixels, creating the space between the top border and the content, forcing the content to shift downward in the process.\n",
    "\n",
    "Padding can be a way of forcing content into a certain location within a div. \n"
   ]
  },
  {
   "cell_type": "markdown",
   "id": "2d82b565",
   "metadata": {},
   "source": [
    "#### Introduction to CSS Selectors and Properties \n",
    "\n",
    "There are millions of selectors and properties\n"
   ]
  },
  {
   "cell_type": "markdown",
   "id": "16258d1a",
   "metadata": {},
   "source": [
    "On the left, I have an HTML page and this page contains a div that has three paragraphs. The first paragraph has an ID of main paragraph. The second paragraph has a class of info paragraph and the last paragraph has no attributes. There is a CSS panel, which I'm gonna enter in CSS and the output panel, which mimics the browser and will render any changes as they happen. Now, to begin, I'm gonna select all the paragraphs on the page.\n",
    "\n",
    "In the CSS panel, I will type P for paragraph. When dealing with tag selectors, you only need to write the tag name. It will select all of the elements of that same tag name and apply the CSS given. In this case, I wish to increase the font size of the paragraph. So, inside of the curly brackets, I will type, font-size: 26px, px is short for pixels and then terminate this with a semicolon. And to the right, all the paragraphs are of a larger font size."
   ]
  },
  {
   "cell_type": "code",
   "execution_count": null,
   "id": "9ddf456d",
   "metadata": {
    "vscode": {
     "languageId": "html"
    }
   },
   "outputs": [],
   "source": [
    "<!DOCTYPE html>\n",
    "<html>\n",
    "    \n",
    "    <head>\n",
    "        <meta charset = \"utf-8\">\n",
    "        ...\n",
    "    </head>\n",
    "\n",
    "    <body>\n",
    "        <div class=\"container\">\n",
    "            <p id=\"main-paragraph\">\n",
    "                main paragraph\n",
    "            </p>\n",
    "            <p id=\"info-paragraph\">\n",
    "                info paragraph\n",
    "            </p>\n",
    "            <p>\n",
    "                another paragraph\n",
    "            </p>\n",
    "        </div>\n",
    "    </body>\n",
    "</html>"
   ]
  },
  {
   "cell_type": "code",
   "execution_count": null,
   "id": "946aae0f",
   "metadata": {
    "vscode": {
     "languageId": "html"
    }
   },
   "outputs": [],
   "source": [
    "p {\n",
    "    font-size: 26px;\n",
    "}"
   ]
  },
  {
   "cell_type": "markdown",
   "id": "6d6d5427",
   "metadata": {},
   "source": [
    "Next, I like to select all the paragraphs inside of any div and this may seem redundant but I'm demonstrating the use case here. I will begin by typing, div > p. The greater than sign is a selector that is used to select a element within a specific parent. What I'm stating with the selector is that I wanna target every paragraph that's inside of every div. If there are any paragraphs that are outside of any div, this CSS will not target them. And what I'm gonna do here is give every paragraph a font color of teal, color: so the color property sets the font color. And I will give it a value of teal and there are many options to designate a color.\n",
    "\n"
   ]
  },
  {
   "cell_type": "code",
   "execution_count": null,
   "id": "6e42f0a2",
   "metadata": {
    "vscode": {
     "languageId": "html"
    }
   },
   "outputs": [],
   "source": [
    "p {\n",
    "    font-size: 26px;\n",
    "}\n",
    "\n",
    "div > p {\n",
    "    color: teal;\n",
    "}"
   ]
  },
  {
   "cell_type": "markdown",
   "id": "087bb8a3",
   "metadata": {},
   "source": [
    "Now, what I like to do is target the paragraph with the ID of main-paragraph. So, I will begin by typing, paragraph, and ID selectors always begin with the pound symbol or hashtag, however you call it, main-paragraph, and I'm gonna give it a font-weight of bold. And now to the right, the main paragraph is bold.\n",
    "\n",
    "\n"
   ]
  },
  {
   "cell_type": "code",
   "execution_count": null,
   "id": "3f2ff808",
   "metadata": {
    "vscode": {
     "languageId": "html"
    }
   },
   "outputs": [],
   "source": [
    "p {\n",
    "    font-size: 26px;\n",
    "}\n",
    "\n",
    "div > p {\n",
    "    color: teal;\n",
    "}\n",
    "\n",
    "p#main-paragraph{\n",
    "    font-weight:bold;\n",
    "}"
   ]
  },
  {
   "cell_type": "markdown",
   "id": "f9f6ae7e",
   "metadata": {},
   "source": [
    "Now, because this is an ID, there's something I'd like to point out. IDs are meant to be unique. And because they're unique, they're only used once on the page. I can remove the paragraph tag from the CSS selector, and this will still work. So, how would this work with a class? I'm gonna do same as before but with the info paragraph class. P and class selectors always begin with the dot period. So, .info-paragraph. And I'm gonna give this a CSS property, a font size with a value of 16 pixels. And to the right, the info paragraph font size is smaller than the other paragraphs.\n"
   ]
  },
  {
   "cell_type": "code",
   "execution_count": null,
   "id": "02b1acc9",
   "metadata": {
    "vscode": {
     "languageId": "html"
    }
   },
   "outputs": [],
   "source": [
    "p {\n",
    "    font-size: 26px;\n",
    "}\n",
    "\n",
    "div > p {\n",
    "    color: teal;\n",
    "}\n",
    "\n",
    "#main-paragraph{\n",
    "    font-weight:bold;\n",
    "}\n",
    "\n",
    "p.info-paragraph{\n",
    "    font-size: 16px;\n",
    "}\n"
   ]
  },
  {
   "cell_type": "markdown",
   "id": "824b0572",
   "metadata": {},
   "source": [
    "You may be wondering why this is working when earlier in the CSS page, I had set the font size to all the paragraphs to be 26 pixels. There's a precedent system based on the selector type. A class selector has more specificity than an element selector, thus will have precedence over it. Unlike IDs, classes do not have to be unique. Classes can be placed repeatedly, all over the page, on different and multiple elements. \n",
    "\n",
    "I'm gonna create an h1 element, with the text content of this is the h1. And I'm gonna give it the class of info paragraph. And even though it has this class, the font size is not 16 pixels. And now I'm gonna remove the paragraph from the CSS selector.\n",
    "\n",
    "\n"
   ]
  },
  {
   "cell_type": "code",
   "execution_count": null,
   "id": "42d0373a",
   "metadata": {
    "vscode": {
     "languageId": "html"
    }
   },
   "outputs": [],
   "source": [
    "p {\n",
    "    font-size: 26px;\n",
    "}\n",
    "\n",
    "div > p {\n",
    "    color: teal;\n",
    "}\n",
    "\n",
    "#main-paragraph{\n",
    "    font-weight:bold;\n",
    "}\n",
    "\n",
    ".info-paragraph{\n",
    "    font-size: 16px;\n",
    "}\n"
   ]
  },
  {
   "cell_type": "markdown",
   "id": "c00fa36b",
   "metadata": {},
   "source": [
    "As a result of doing this, every element with the class all have the font size of 16 pixels, including the h1 on the screen. When the class CSS selector is not attached to an element, I'm stating that any element with this class will have a font size of 16 pixels. By leaving the element on the CSS selector, I'm stating that only the paragraphs with this class will get the CSS property.\n",
    "\n",
    "Now, there is another approach that will lead to the same result. I'm gonna place the paragraph back on the selector and I'm gonna remove the class from the h1 element. Now, CSS has an option to use multiple selectors to apply the same CSS. I simply need to separate 'em with a comma. So, after the info-paragraph class, I'm gonna add a comma and I'm gonna add the h1 element. And once again, both the paragraph and the h1 are the same font size, 16. And if I wanted to add another selector, I simply need to add another comma. And I'm gonna go ahead and remove the extra comma.\n",
    "\n",
    "\n"
   ]
  },
  {
   "cell_type": "code",
   "execution_count": null,
   "id": "3e8af8bf",
   "metadata": {
    "vscode": {
     "languageId": "html"
    }
   },
   "outputs": [],
   "source": [
    "p {\n",
    "    font-size: 26px;\n",
    "}\n",
    "\n",
    "div > p {\n",
    "    color: teal;\n",
    "}\n",
    "\n",
    "#main-paragraph{\n",
    "    font-weight:bold;\n",
    "}\n",
    "\n",
    "p.info-paragraph, h1{\n",
    "    font-size: 16px;\n",
    "}\n",
    "\n"
   ]
  },
  {
   "cell_type": "markdown",
   "id": "b40c566f",
   "metadata": {},
   "source": [
    "Now, for the next demonstration, I want all the paragraphs to have the smaller 16 pixel font size. So, I'm gonna remove the info paragraph class to apply this font size to all paragraphs and h1 elements. Next, I'm gonna give the div that contains all the text elements, a black background. I'm gonna type, div, and use the CSS property of background-color. And I will give it a value of black. I'm gonna make the CSS panel a little wider. Now, there is one problem. The h1 text isn't viewable because it is also black. I'm gonna go up to the div greater than paragraph CSS selector and add a comma and type h1. And now the h1 element is teal. I'm doing this to demonstrate that you can mix and match multiple CSS selectors for targeting purposes.\n",
    "\n"
   ]
  },
  {
   "cell_type": "code",
   "execution_count": null,
   "id": "79145e59",
   "metadata": {
    "vscode": {
     "languageId": "html"
    }
   },
   "outputs": [],
   "source": [
    "p {\n",
    "    font-size: 26px;\n",
    "}\n",
    "\n",
    "div > p, h1 {\n",
    "    color: teal;\n",
    "}\n",
    "\n",
    "#main-paragraph{\n",
    "    font-weight:bold;\n",
    "}\n",
    "\n",
    "p, h1{\n",
    "    font-size: 16px;\n",
    "}\n",
    "\n",
    "div {\n",
    "    background-color: black;\n",
    "}\n"
   ]
  },
  {
   "cell_type": "markdown",
   "id": "a9f7506b",
   "metadata": {},
   "source": [
    "Now, I'm gonna change the div's background color by deleting the CSS property value and the word color and replace it with the word image. The background image value begins with the word, url, then parentheses then quotes. And in between the quotes will be the URL of the background image, which I'm just going to paste in. And to the right is the background image for the div. And this is the typical approach whenever wanting to add a background image to an element. And that's it. Thanks for watching at Cloud Academy.\n",
    "\n"
   ]
  },
  {
   "cell_type": "code",
   "execution_count": null,
   "id": "c5c6467e",
   "metadata": {
    "vscode": {
     "languageId": "html"
    }
   },
   "outputs": [],
   "source": [
    "p {\n",
    "    font-size: 26px;\n",
    "}\n",
    "\n",
    "div > p, h1 {\n",
    "    color: teal;\n",
    "}\n",
    "\n",
    "#main-paragraph{\n",
    "    font-weight:bold;\n",
    "}\n",
    "\n",
    "p, h1{\n",
    "    font-size: 16px;\n",
    "}\n",
    "\n",
    "div {\n",
    "    background-image: url(\"...\");\n",
    "}\n"
   ]
  },
  {
   "cell_type": "markdown",
   "id": "3146a97a",
   "metadata": {},
   "source": [
    "Some useful CSS properties\n"
   ]
  },
  {
   "cell_type": "code",
   "execution_count": null,
   "id": "87dbc3cc",
   "metadata": {
    "vscode": {
     "languageId": "html"
    }
   },
   "outputs": [],
   "source": [
    "#sentence {\n",
    "  color: yellow;\n",
    "  font-family: Arial;\n",
    "}\n",
    "\n",
    "#word {\n",
    "  color: blue;\n",
    "  font-size: 200%;\n",
    "}\n",
    "\n",
    "body {\n",
    "  background-color: grey;\n",
    "  background-image: url(https://assets.labs.platform.qa.com/understanding-and-using-css-properties/lake.jpg);\n",
    "}\n",
    "\n"
   ]
  },
  {
   "cell_type": "markdown",
   "id": "a5a3642b",
   "metadata": {},
   "source": [
    "#### Explaining child, sibling, older/younger sibling in HTML\n",
    "\n",
    "In HTML and CSS, the terms siblings, children, parents, and descendants refer to the relationships between elements in the document's structure (called the DOM — Document Object Model).\n",
    "\n",
    "Let’s break it down using a simple example:\n",
    "\n"
   ]
  },
  {
   "cell_type": "code",
   "execution_count": null,
   "id": "3c421573",
   "metadata": {
    "vscode": {
     "languageId": "html"
    }
   },
   "outputs": [],
   "source": [
    "<div>\n",
    "  <h1>Heading</h1>\n",
    "  <p>Paragraph 1</p>\n",
    "  <p>Paragraph 2</p>\n",
    "</div>\n"
   ]
  },
  {
   "cell_type": "markdown",
   "id": "9424f21d",
   "metadata": {},
   "source": [
    "1. Parent and Children\n",
    "The div is the parent of all elements inside it (h1, both p s).\n",
    "\n",
    "h1, both p are the children of the div.\n",
    "\n",
    "CSS can't directly style parents based on children, but you can style children easily:\n"
   ]
  },
  {
   "cell_type": "code",
   "execution_count": null,
   "id": "74c59131",
   "metadata": {
    "vscode": {
     "languageId": "html"
    }
   },
   "outputs": [],
   "source": [
    "div > p {\n",
    "  color: blue;  /* Targets all <p> elements directly inside a <div> */\n",
    "}"
   ]
  },
  {
   "cell_type": "markdown",
   "id": "f2304678",
   "metadata": {},
   "source": [
    "Siblings share the same parent.\n",
    "\n",
    "In the above example:\n",
    "\n",
    "h1 and the two p tags are siblings (they all share div as their parent).\n",
    "\n",
    "Paragraph 1 is the next sibling of h1.\n",
    "\n",
    "h1 is the previous (older) sibling of Paragraph 1.\n",
    "\n"
   ]
  },
  {
   "cell_type": "markdown",
   "id": "fc47888b",
   "metadata": {},
   "source": [
    "##### Sibling Selectors in CSS\n",
    "\n",
    "Adjacent sibling (+), Selects the immediate next sibling:\n"
   ]
  },
  {
   "cell_type": "code",
   "execution_count": null,
   "id": "50f3913f",
   "metadata": {
    "vscode": {
     "languageId": "html"
    }
   },
   "outputs": [],
   "source": [
    "h1 + p {\n",
    "  color: green; /* Targets only the first <p> after <h1>. */\n",
    "}\n"
   ]
  },
  {
   "cell_type": "markdown",
   "id": "057a5863",
   "metadata": {},
   "source": [
    "General sibling (~). Selects any following sibling (not just the next one):\n"
   ]
  },
  {
   "cell_type": "code",
   "execution_count": null,
   "id": "48a3410f",
   "metadata": {
    "vscode": {
     "languageId": "html"
    }
   },
   "outputs": [],
   "source": [
    "h1 ~ p {\n",
    "  color: orange;\n",
    "}\n"
   ]
  },
  {
   "cell_type": "markdown",
   "id": "26dfb1f6",
   "metadata": {},
   "source": [
    "An example of many selectors:"
   ]
  },
  {
   "cell_type": "code",
   "execution_count": null,
   "id": "537e8c1b",
   "metadata": {
    "vscode": {
     "languageId": "html"
    }
   },
   "outputs": [],
   "source": [
    "<!DOCTYPE html>\n",
    "<html>\n",
    "<head>\n",
    "    <title>Quick Lab 6 - CSS Selectors</title>\n",
    "    <style>\n",
    "        em { color: fuchsia; }     /** Anything emboldened **/\n",
    "        p > em { color: midnightblue; }        /** Anything emboldened inside a paragraph **/\n",
    "        body > footer { color: purple; }      /** Any footer that is a direct child of body **/\n",
    "        h1 + p { color: teal; }        /** Any paragraph that is a direct sibling of a heading 1 **/\n",
    "        h1 ~ p { color: yellow; }      /** Any paragraph that is a younger sibling of a heading 1 **/\n",
    "        p.interactive{ color: navy; }        /** Any paragraph that has a class of interactive **/\n",
    "        p.interactive:hover{ color: lime;}         /** Any paragraph that has a class of interactive and hovered over **/\n",
    "        #special{ color: red;}          /** An element with an id of special **/\n",
    "        \n",
    "        article, header, nav, ul, li, footer {                       /** Any articles, headers, navs, uls, lis and footers **/\n",
    "            margin: 1em;\n",
    "            padding: 1em;\n",
    "            outline: 4px dashed black;\n",
    "        }\n",
    "        \n",
    "        a {                       /** Any links **/\n",
    "            color: blue;\n",
    "        }\n",
    "\n",
    "        nav > ul {                       /** Any unordered list that is a child of a nav **/\n",
    "            list-style: none;\n",
    "        }\n",
    "\n",
    "        li:first-child{ background-color: #0094ff; }        /** First-child list items **/\n",
    "        li:last-child{ background-color: #0094ff; }        /** Last-child list items **/ \n",
    "        li:nth-child(3){ background-color: #0094ff; }        /** Third-child list items **/\n",
    "        li:nth-child(odd){ background-color: #b6ff00; }        /** Odd-children list items **/\n",
    "        li:nth-child(even){ background-color: #1d1bc6; }        /** Even-children list items **/\n",
    "        li:not(:first-child){ background-color: #ff0000; }        /** Everything but the first-child list item **/\n",
    "        p:first-of-type{ background-color: #00ff00; }        /** The first paragraph **/\n",
    "        p:last-of-type{ background-color: #0000ff; }        /** The last paragraph **/\n",
    "        label[for=\"name\"]{ background-color: aquamarine; }     /** A label with a for attribute of name **/\n",
    "        input[type=\"email\"]{ background-color: hotpink; }        /** An input with a type attribute of email **/\n",
    "    </style>\n",
    "</head>\n",
    "<body>\n",
    "    <h1> A <em>heading</em></h1>\n",
    "    <p>A paragraph <em>with emphasis</em></p>\n",
    "    <header>\n",
    "        <h1>Header</h1>\n",
    "        <nav>\n",
    "            <ul>\n",
    "                <li><a href=\"#item1\">Item 1</a></li>\n",
    "                <li><a href=\"#item2\">Item 2</a></li>\n",
    "                <li><a href=\"#item3\">Item 3</a></li>\n",
    "                <li><a href=\"#item4\">Item 4</a></li>\n",
    "                <li><a href=\"#item5\">Item 5</a></li>\n",
    "                <li><a href=\"#item6\">Item 6</a></li>\n",
    "            </ul>\n",
    "        </nav>\n",
    "    </header>\n",
    "    <article>\n",
    "            <h1>Article</h1>\n",
    "            <p>paragraph 1</p>\n",
    "            <p>paragraph 2</p>\n",
    "            <img src=\"QA_text_blue.png\">\n",
    "            <footer>Article footer</footer>\n",
    "    </article>\n",
    "    <footer>\n",
    "           Body footer\n",
    "    </footer>\n",
    "    <p class=\"interactive\">hover me</p>\n",
    "    <article>\n",
    "        <h1>Article</h1>\n",
    "        <p>Paragraph 1</p>\n",
    "        <p>Paragraph 2</p>\n",
    "        <blockquote>Quote</blockquote>\n",
    "        <p id=\"special\">Paragraph 3</p>\n",
    "        <footer>Article footer</footer>\n",
    "    </article>\n",
    "    <article>\n",
    "        <p><a href=\"#news1\">Jump to New content 1</a></p>\n",
    "        <p><a href=\"#news2\">Jump to New content 2</a></p>\n",
    "        <p id=\"news1\">New content 1</p>\n",
    "        <p id=\"news2\">New content 2</p>\n",
    "    </article>\n",
    "    <footer>Body footer</footer>\n",
    "</body>\n",
    "</html>"
   ]
  },
  {
   "cell_type": "markdown",
   "id": "905bf387",
   "metadata": {},
   "source": [
    "Examples with different text colour and sizing"
   ]
  },
  {
   "cell_type": "code",
   "execution_count": null,
   "id": "17c3b7e9",
   "metadata": {
    "vscode": {
     "languageId": "html"
    }
   },
   "outputs": [],
   "source": [
    "header > h1 {\n",
    "    text-shadow: 5px 3px hotpink;                  /* Adds a pink shadow 5px right, 3px down from the text */\n",
    "    color: darkblue;                               /* Sets the text color to dark blue */\n",
    "    font-family: Helvetica, sans-serif;            /* Uses Helvetica font, with sans-serif as a fallback */\n",
    "    background-color: rgba(200, 200, 200, 1);       /* Solid grey background (RGB 200,200,200 at full opacity) */\n",
    "    font-size: 48pt;                                /* Sets font size to 48 points */\n",
    "    text-align: center;                             /* Centers the text horizontally */\n",
    "}\n",
    "\n",
    "h1 {\n",
    "    font-family: Arial, sans-serif;                /* Sets font for all <h1> to Arial, with sans-serif fallback */\n",
    "    font-size: 2rem;                               /* Sets font size to 2 rem units (relative to root font size) */\n",
    "    /* Note: These styles may be overridden by the more specific 'header > h1' selector */\n",
    "}\n",
    "\n",
    "p.first {\n",
    "    text-indent: 30px;                             /* Indents the first line of the paragraph by 30px */\n",
    "    color: rgba(255, 0, 0, 0.5);                   /* Sets text color to semi-transparent red (50% opacity) */\n",
    "}\n",
    "\n",
    "h2, h3 {\n",
    "    font-family: \"Courier New\", Courier, monospace; /* Uses monospaced fonts, with Courier New as preferred */\n",
    "    background-color: rgba(128, 128, 128, 0.5);     /* Sets a semi-transparent mid-grey background */\n",
    "}\n",
    "\n",
    "p#highlightme {\n",
    "    color: hsla(45, 100%, 50%, 0.5);               /* Sets a translucent yellow-gold text color (50% opacity) */\n",
    "    line-height: 30px;                             /* Spaces each line of text by 30px vertically */\n",
    "    width: 50%;                                    /* Paragraph will take up 50% of its parent’s width */\n",
    "}\n",
    "\n",
    "footer > p {\n",
    "    background-color: hotpink;                     /* Bright pink background for <p> inside <footer> */\n",
    "    font-family: sans-serif;                       /* Uses a sans-serif font */\n",
    "    text-align: center;                            /* Centers the text horizontally */\n",
    "    text-transform: uppercase;                     /* Converts all text to uppercase */\n",
    "}\n"
   ]
  },
  {
   "cell_type": "markdown",
   "id": "5f53adaa",
   "metadata": {},
   "source": [
    "Class and ID selectors\n",
    "\n",
    "In the CSS editor of the JS Bin environment, add the following CSS rule declaration blocks:\n",
    "\n",
    "A rule that selects all div elements and Contains a background-color property with the value green\n",
    "\n",
    "A rule that selects div elements with the class blue and Contains a background-color property with the value blue\n",
    "\n",
    "A rule that selects div elements with the id second and Contains a background-color property with the value red\n"
   ]
  },
  {
   "cell_type": "code",
   "execution_count": null,
   "id": "1e2d3772",
   "metadata": {
    "vscode": {
     "languageId": "html"
    }
   },
   "outputs": [],
   "source": [
    "/home/project/default.css\n",
    "\n",
    "div {\n",
    "  background-color: green;\n",
    "  \n",
    "}\n",
    "\n",
    "div.blue {\n",
    "  background-color: blue;\n",
    "}\n",
    "\n",
    "div#second {\n",
    "  \n",
    "  background-color: red;\n",
    "}"
   ]
  },
  {
   "cell_type": "markdown",
   "id": "73f78882",
   "metadata": {},
   "source": [
    "A rule that selects p elements whose parent element is div and Contains a property named color with the value white\n",
    "\n",
    "A rule that selects div and p elements and Contains a property named padding with the value 10px"
   ]
  },
  {
   "cell_type": "code",
   "execution_count": null,
   "id": "7af8f161",
   "metadata": {
    "vscode": {
     "languageId": "html"
    }
   },
   "outputs": [],
   "source": [
    "div > p {\n",
    "  color: white;\n",
    "}\n",
    "\n",
    "div, p {\n",
    "  padding: 10px;\n",
    "}"
   ]
  },
  {
   "cell_type": "markdown",
   "id": "6bdbf35d",
   "metadata": {},
   "source": [
    "Floating\n",
    "\n",
    "In this lab step, you will use the float CSS property to arrange text and image elements.\n",
    "\n",
    "In the CSS editor of the JS Bin environment, add the following CSS rule declaration blocks:\n",
    "\n",
    "A rule that selects the img elements with an Id of right that contains:\n",
    "\n",
    "A float property with a value of right\n",
    "\n",
    "A rule that selects div elements with the count class that contains:\n",
    "\n",
    "A float property with a value of left"
   ]
  },
  {
   "cell_type": "code",
   "execution_count": null,
   "id": "3f5ad2a7",
   "metadata": {
    "vscode": {
     "languageId": "html"
    }
   },
   "outputs": [],
   "source": [
    "img#right {\n",
    "  float: right;\n",
    "}\n",
    "\n",
    "div.count {\n",
    "  float: left;\n",
    "}\n"
   ]
  },
  {
   "cell_type": "markdown",
   "id": "92a5a720",
   "metadata": {},
   "source": [
    "Other properties\n",
    "\n",
    "clear\n",
    "\n",
    "z-index\n"
   ]
  },
  {
   "cell_type": "markdown",
   "id": "356f13c3",
   "metadata": {},
   "source": [
    "#### Intro to HTML Forms\n",
    "\n",
    "HTML forms are a way to capture input and create interaction for your web application. I will begin by creating an empty form element. "
   ]
  },
  {
   "cell_type": "code",
   "execution_count": null,
   "id": "a1e22c68",
   "metadata": {
    "vscode": {
     "languageId": "html"
    }
   },
   "outputs": [],
   "source": [
    "<form>\n",
    "    \n",
    "</form>"
   ]
  },
  {
   "cell_type": "markdown",
   "id": "85a9c05a",
   "metadata": {},
   "source": [
    "Now, inside of the form I want to create a label element for the input. The label represents a caption for the input. Inside of the label, I'm gonna use the for attribute, and set it equal to firstName. The for attribute is just a referencing mechanism to state what input or element this label is tied to. Now, I will give the label a text content of First Name:, and I will create the closing label tag, and on the screen to the right we can see 'First Name:'. \n",
    "\n"
   ]
  },
  {
   "cell_type": "code",
   "execution_count": null,
   "id": "7928b34d",
   "metadata": {
    "vscode": {
     "languageId": "html"
    }
   },
   "outputs": [],
   "source": [
    "<form>\n",
    "    <label for=\"firstName\">First Name:</label>  \n",
    "    \n",
    "</form>"
   ]
  },
  {
   "cell_type": "markdown",
   "id": "7234f62c",
   "metadata": {},
   "source": [
    "<form>\n",
    "    <label for=\"firstName\">First Name:</label>  \n",
    "    \n",
    "</form>"
   ]
  },
  {
   "cell_type": "markdown",
   "id": "5cf170b1",
   "metadata": {},
   "source": [
    "Next, I will create the corresponding input element. Now, input elements have a type attribute, which, in a literal sense, states the type of input that's being used, and depending on the type of input, the input will gain access to certain behaviors and attributes. I will set the input type equal to text. Next, I will add the placeholder attribute. As the name implies, this attribute sets the placeholder text for the input, and I will set placeholder equal to enter first name, and inside of the input box, there's the placeholder text.\n",
    "\n",
    "Inputs are self-closing elements so there's no need for a closing tag. Now this input is ready to be used and I can type in my name easily. To capture the data that's inside of an input requires the use of web APIs and a little bit of JavaScript, which is out of scope for this video. "
   ]
  },
  {
   "cell_type": "code",
   "execution_count": null,
   "id": "fd9602d6",
   "metadata": {
    "vscode": {
     "languageId": "html"
    }
   },
   "outputs": [],
   "source": [
    "<form>\n",
    "    <label for=\"firstName\">First Name:</label>  \n",
    "    <input type=\"text\" placeholder=\"enter first name\">\n",
    "</form>"
   ]
  },
  {
   "cell_type": "markdown",
   "id": "524b2ec2",
   "metadata": {},
   "source": [
    "<form>\n",
    "    <label for=\"firstName\">First Name:</label>  \n",
    "    <input type=\"text\" placeholder=\"enter first name\">\n",
    "</form>"
   ]
  },
  {
   "cell_type": "markdown",
   "id": "fea25341",
   "metadata": {},
   "source": [
    "So now I have an email type input, and on the screen, outside of the label and placeholder text, visually, there is no difference. I can type in an email address, but I could also type in an email address inside of the text type input, so why would one choose one input type over another? There is a large list of input types, and, depending on the type, as I mentioned earlier, they may have different attributes and features based on that input type. For example, the email input offers pattern recognition and the option to accept multiple emails. These features aren't available with a text type input. "
   ]
  },
  {
   "cell_type": "code",
   "execution_count": null,
   "id": "4154da63",
   "metadata": {
    "vscode": {
     "languageId": "html"
    }
   },
   "outputs": [],
   "source": [
    "<form>\n",
    "    <label for=\"email\">email:</label>  \n",
    "    <input type=\"email\" placeholder=\"enter email\">\n",
    "</form>"
   ]
  },
  {
   "cell_type": "markdown",
   "id": "866a2b72",
   "metadata": {},
   "source": [
    "<form>\n",
    "    <label for=\"email\">email:</label>  \n",
    "    <input type=\"email\" placeholder=\"enter email\">\n",
    "</form>"
   ]
  },
  {
   "cell_type": "markdown",
   "id": "d27831b6",
   "metadata": {},
   "source": [
    "Now i have a password type input. The password input has a different behavior set than the previous two inputs. I'm gonna type password inside of the input field, and on the screen to the right, the text, as it's being typed, is hidden, and this is the default behavior of this input. "
   ]
  },
  {
   "cell_type": "code",
   "execution_count": null,
   "id": "7423fce8",
   "metadata": {
    "vscode": {
     "languageId": "html"
    }
   },
   "outputs": [],
   "source": [
    "<form>\n",
    "    <label for=\"password\">password:</label>  \n",
    "    <input type=\"password\" placeholder=\"enter password\">\n",
    "</form>"
   ]
  },
  {
   "cell_type": "markdown",
   "id": "503683a4",
   "metadata": {},
   "source": [
    "<form>\n",
    "    <label for=\"password\">password:</label>  \n",
    "    <input type=\"password\" placeholder=\"enter password\">\n",
    "</form>"
   ]
  },
  {
   "cell_type": "markdown",
   "id": "c137d78f",
   "metadata": {},
   "source": [
    "I'm going to add two additional attributes to this input. I will type name and set it equal to password. The name attribute is used as a referencing tool. When the form is submitted, the corresponding name attribute value will be part of the submission.\n",
    "\n",
    "When working with multiple inputs this helps with matching the captured value with the correct input. The next attribute I will type is value, and I'm gonna set it equal to password. Now looking at the input to the right, the password box has text content. Value's the default text value of an input. Now using this for the password input isn't a best practice.\n",
    "\n"
   ]
  },
  {
   "cell_type": "code",
   "execution_count": null,
   "id": "cf2bd10d",
   "metadata": {
    "vscode": {
     "languageId": "html"
    }
   },
   "outputs": [],
   "source": [
    "<form>\n",
    "    <label for=\"password\">password:</label>  \n",
    "    <input type=\"password\" placeholder=\"enter password\" name=\"password\" value=\"password\">\n",
    "</form>"
   ]
  },
  {
   "cell_type": "markdown",
   "id": "e8053a53",
   "metadata": {},
   "source": [
    "<form>\n",
    "    <label for=\"password\">password:</label>  \n",
    "    <input type=\"password\" placeholder=\"enter password\" name=\"password\" value=\"password\">\n",
    "</form>"
   ]
  },
  {
   "cell_type": "markdown",
   "id": "d8559552",
   "metadata": {},
   "source": [
    "So what are use cases for value? Well, as seen here, value can be used to load preexisting data into a form, typically forms where the data is gonna be updated, such as changing an email address. Value is also used to set the values for form controls such as check boxes and selection menus. So if the form is complete, what about form submission? I'm gonna create a new input, and the type will equal submit. It will also have a value equal to submit. What essentially has been created here is a submit button for the form, and value represents the button text. Now, this doesn't work in its current state. As I mentioned earlier in the video, this does require the use of web APIs and JavaScript"
   ]
  },
  {
   "cell_type": "code",
   "execution_count": null,
   "id": "c935fa28",
   "metadata": {
    "vscode": {
     "languageId": "html"
    }
   },
   "outputs": [],
   "source": [
    "<form>\n",
    "    <label for=\"password\">password:</label>  \n",
    "    <input type=\"password\" placeholder=\"enter password\" name=\"password\" value=\"password\">\n",
    "    <input type=\"submit\" value=\"submit\">\n",
    "</form>"
   ]
  },
  {
   "cell_type": "markdown",
   "id": "7dde7794",
   "metadata": {},
   "source": [
    "<form>\n",
    "    <label for=\"password\">password:</label>  \n",
    "    <input type=\"password\" placeholder=\"enter password\" name=\"password\" value=\"password\">\n",
    "    <input type=\"submit\" value=\"submit\">\n",
    "</form>"
   ]
  },
  {
   "cell_type": "markdown",
   "id": "bce12723",
   "metadata": {},
   "source": [
    "##### More complicated forms\n",
    "\n",
    "forms can have action and method. The action attribute tells browser what to do with info when user submits it, the method tells browser how to do the action. \n",
    "\n",
    "Common method --> GET or POST "
   ]
  },
  {
   "cell_type": "code",
   "execution_count": null,
   "id": "8bc3ee9c",
   "metadata": {
    "vscode": {
     "languageId": "html"
    }
   },
   "outputs": [],
   "source": [
    "<form method = \"get\" action = \"https://....\" ></form>"
   ]
  },
  {
   "cell_type": "markdown",
   "id": "1d8aafec",
   "metadata": {},
   "source": [
    "#### Introduction to CSS Floats\n",
    "\n",
    "On the screen, I have a div with a class of floating that contains an image and a paragraph. In this div has a border so it could be seeing clearly on the screen. Currently, the image is stacked on top of the paragraph. And what I like to do is pull the image to one side of the div and have the paragraph on the other side beside the image."
   ]
  },
  {
   "cell_type": "code",
   "execution_count": null,
   "id": "40e9b1c0",
   "metadata": {
    "vscode": {
     "languageId": "html"
    }
   },
   "outputs": [],
   "source": [
    ".image {\n",
    "    height: 50px;\n",
    "}\n",
    ".floating {\n",
    "    border: 2px solid black;\n",
    "    margin: 5px;\n",
    "    padding: 5px;\n",
    "    text-align: center;\n",
    "}"
   ]
  },
  {
   "cell_type": "markdown",
   "id": "ce768488",
   "metadata": {},
   "source": [
    "The image has a CSS class called image, and in the image CSS block, I'm going to add a float property and give it a value of right. And the image is pulled to the right of the div with the paragraph now to the left of the image. And I'm going to switch right to left and now the image is to the left and the paragraph is to the right of the image."
   ]
  },
  {
   "cell_type": "code",
   "execution_count": null,
   "id": "3ca0ab81",
   "metadata": {
    "vscode": {
     "languageId": "html"
    }
   },
   "outputs": [],
   "source": [
    ".image {\n",
    "    height: 50px;\n",
    "    float: right;\n",
    "}\n",
    ".floating {\n",
    "    border: 2px solid black;\n",
    "    margin: 5px;\n",
    "    padding: 5px;\n",
    "    text-align: center;\n",
    "}"
   ]
  },
  {
   "cell_type": "markdown",
   "id": "aeb3c205",
   "metadata": {},
   "source": [
    "The CSS property float places an element on the right or left side of its container, allowing text in line elements to wrap around it. This changes the directional flow of the web page. Now, when using float, there could be some unintended changes to the design of the web page. The first issue is that the containing div is now smaller than its contents, and this can be seen by looking at the images boundary as it now goes beyond the border of the div. The other issue is that all elements after the floated element will be affected by the pull of the float. Even noticed my intention to have the paragraph be affected by the float. I'm going to use this element to demonstrate how to ignore the effect of the float.\n",
    "\n",
    "The paragraph has a class of text. So, in the CSS panel, I will create a text class CSS block. And inside of the CSS block, I will add the CSS property clear. And clear is for clearing the float, and I will give this a value of left. Now, the paragraph is no longer acting like an in line element and it has dropped down to the next line, expanding the size of the container. Now, clear is directional and should match the direction of the float. So, if I change clear from left to right, it no longer works.\n",
    "\n"
   ]
  },
  {
   "cell_type": "code",
   "execution_count": null,
   "id": "1a5531ea",
   "metadata": {
    "vscode": {
     "languageId": "html"
    }
   },
   "outputs": [],
   "source": [
    ".image {\n",
    "    height: 50px;\n",
    "    float: left;\n",
    "}\n",
    ".floating {\n",
    "    border: 2px solid black;\n",
    "    margin: 5px;\n",
    "    padding: 5px;\n",
    "    text-align: center;\n",
    "}\n",
    ".text {\n",
    "    clear: left;\n",
    "}"
   ]
  },
  {
   "cell_type": "markdown",
   "id": "1b5d4072",
   "metadata": {},
   "source": [
    "Hypothetically, what if I had another element after the paragraph that had a float value of right? There is an option for clear to clear both sides. So, I will change 'right' to 'both'. And because both covers both sides, this does work with regards to the left float. "
   ]
  },
  {
   "cell_type": "code",
   "execution_count": null,
   "id": "b21240ec",
   "metadata": {
    "vscode": {
     "languageId": "html"
    }
   },
   "outputs": [],
   "source": [
    ".image {\n",
    "    height: 50px;\n",
    "    float: left;\n",
    "}\n",
    ".floating {\n",
    "    border: 2px solid black;\n",
    "    margin: 5px;\n",
    "    padding: 5px;\n",
    "    text-align: center;\n",
    "}\n",
    ".text {\n",
    "    clear: both;\n",
    "}"
   ]
  },
  {
   "cell_type": "markdown",
   "id": "379b7d76",
   "metadata": {},
   "source": [
    "Now, I still want the paragraph to be in line with the image, but at the same time I don't want all these unintended consequences due to the use of floating. I'm going to implement what is known as the clear fix hack, and I'm using a slightly different approach. Typically this hack is done by creating a class called clear fix, but I'm going to apply this to the floating class instead.\n",
    "\n",
    "I'm going to comment out the text CSS block and below that I will type .floating:after. After is a pseudo element that matches with a virtual last child element of the selected element. Virtual as in that the browser will act as if this element actually exists, but it does not, nor is it part of the dom. One other thing to note I wrote after with one colon. It could either be written with one or two colons and that depends on the version of CSS and text you wish to support and the browsers you are targeting. Older browsers will not support the two colon syntax, but that may not matter based on your client base.\n",
    "\n"
   ]
  },
  {
   "cell_type": "code",
   "execution_count": null,
   "id": "e34154d6",
   "metadata": {
    "vscode": {
     "languageId": "html"
    }
   },
   "outputs": [],
   "source": [
    ".image {\n",
    "    height: 50px;\n",
    "    float: left;\n",
    "}\n",
    ".floating {\n",
    "    border: 2px solid black;\n",
    "    margin: 5px;\n",
    "    padding: 5px;\n",
    "    text-align: center;\n",
    "}\n",
    "\n",
    "/*\n",
    ".text {\n",
    "    clear: both;\n",
    "} */\n",
    "\n",
    ".floating:after {\n",
    "    \n",
    "}"
   ]
  },
  {
   "cell_type": "markdown",
   "id": "8398ea1e",
   "metadata": {},
   "source": [
    "Inside of the CSS block, I will type 'content' and I will give it a value of quotes signifying an empty string, display with a value of table, and clear with the value of both. Content allows you to insert cosmetic content to an element. Here, there's no need, we're using this as a fix to the float issue. Display table causes this element to behave like a table and clear is to clear the floats. As a reminder, this is a virtual element, but the CSS properties attached to it will have an effect on the page. Now, looking to the right, the div is its proper size, it's not distorted. The image fits correctly and the paragraph is in line with the image. So, the clear fix hack works, but I'm not going to dive into a deep discussion on how it works because surprisingly, there's a large and long historical perspective on the clear fix and its evolution, which is out of scope for this video. "
   ]
  },
  {
   "cell_type": "code",
   "execution_count": null,
   "id": "4c8421e4",
   "metadata": {
    "vscode": {
     "languageId": "html"
    }
   },
   "outputs": [],
   "source": [
    ".image {\n",
    "    height: 50px;\n",
    "    float: left;\n",
    "}\n",
    ".floating {\n",
    "    border: 2px solid black;\n",
    "    margin: 5px;\n",
    "    padding: 5px;\n",
    "    text-align: center;\n",
    "}\n",
    "\n",
    "/*\n",
    ".text {\n",
    "    clear: both;\n",
    "} */\n",
    "\n",
    ".floating:after {\n",
    "    content: \"\";\n",
    "    display: table;\n",
    "    clear: both;\n",
    "\n",
    "    \n",
    "}"
   ]
  },
  {
   "cell_type": "markdown",
   "id": "efe33b3e",
   "metadata": {},
   "source": [
    "#### Positioning and clearing\n",
    "\n",
    "\n",
    "| Element or group | Items to set | Values to use |\n",
    "| -------- | ------- | ------- |\n",
    "| Elements of type header and footer | background-colour, text-align, clear | rgba(200, 200, 200, 1), center, both |\n",
    "| Elements of type nav | width, height | 100%, 46px |\n",
    "| Links in a nav | float, display, color, text-align, padding, text-decoration | Left, block, hsla(300, 100%, 71%, 1), center, 14px, 16px, none |\n",
    "| Hovered links in a nav | background-color, color | black, hsla(300, 100%, 71%, 1), 8 |\n",
    "| Element with id of row | clear | both |\n",
    "| Elements with class of column | float, width, background-color | left, 33.33% , hsla(300, 100%, 71%, 1)|\n",
    "\n",
    "\n"
   ]
  },
  {
   "cell_type": "markdown",
   "id": "07cb35b5",
   "metadata": {},
   "source": [
    "##### When and when not to use >\n",
    "\n",
    "Let's look at following key difference:"
   ]
  },
  {
   "cell_type": "code",
   "execution_count": null,
   "id": "4101a0f5",
   "metadata": {
    "vscode": {
     "languageId": "html"
    }
   },
   "outputs": [
    {
     "ename": "",
     "evalue": "",
     "output_type": "error",
     "traceback": [
      "\u001b[1;31mRunning cells with 'Python 3.13.5' requires the ipykernel package.\n",
      "\u001b[1;31m<a href='command:jupyter.createPythonEnvAndSelectController'>Create a Python Environment</a> with the required packages.\n",
      "\u001b[1;31mOr install 'ipykernel' using the command: 'c:/Python313/python.exe -m pip install ipykernel -U --user --force-reinstall'"
     ]
    }
   ],
   "source": [
    "nav a {\n",
    "    /* selects all a elements inside nav, at any depth (children, grandchildren, etc.).*/\n",
    "}\n",
    "\n",
    "nav > a {\n",
    "    /* selects only a elements that are direct chidlren of nav */\n",
    "}"
   ]
  },
  {
   "cell_type": "markdown",
   "id": "49986f25",
   "metadata": {},
   "source": [
    "### Example of positioning elements"
   ]
  },
  {
   "cell_type": "code",
   "execution_count": null,
   "id": "9b11d1af",
   "metadata": {
    "vscode": {
     "languageId": "html"
    }
   },
   "outputs": [],
   "source": [
    "<!DOCTYPE html>\n",
    "<html lang=\"en\">\n",
    "<head>\n",
    "    <meta charset=\"UTF-8\">\n",
    "    <meta name=\"viewport\" content=\"width=device-width, initial-scale=1.0\">\n",
    "    <meta http-equiv=\"X-UA-Compatible\" content=\"ie=edge\">\n",
    "    <title>QuickLab 09 - Positioning Elements</title>\n",
    "    <style>\n",
    "        header,footer {\n",
    "            background-color: rgba(200,200,200,1);\n",
    "            text-align: center;\n",
    "            clear:both;\n",
    "        }\n",
    "        nav {\n",
    "            width:100%;\n",
    "            height:46px;\n",
    "        }\n",
    "        nav a {\n",
    "            float:right;\n",
    "            display:block;\n",
    "            color:hsla(300,100%, 71%, 1);\n",
    "            text-align:right;\n",
    "            padding:14px;\n",
    "            text-decoration: none;\n",
    "        }\n",
    "\n",
    "        nav a:hover {\n",
    "            color:black;\n",
    "            background-color:hsla(200,100%, 71%, 1);\n",
    "        }\n",
    "\n",
    "        #row{\n",
    "            clear:both;\n",
    "        }\n",
    "        \n",
    "        .column {\n",
    "            float: left;\n",
    "            width: 33.33%;\n",
    "            background-color:hsla(300,100%, 71%, 1);\n",
    "\n",
    "        }\n",
    "\n",
    "        \n",
    "        \n",
    "    </style>\n",
    "</head>\n",
    "<body>\n",
    "    <header>\n",
    "        <h1>Positioning Elements</h1>\n",
    "        <nav>\n",
    "            <a href=\"#\">Link</a>\n",
    "            <a href=\"#\">Link</a>\n",
    "            <a href=\"#\">Link</a>\n",
    "        </nav>\n",
    "    </header>\n",
    "    <div id=\"row\">\n",
    "        <div class=\"column\">\n",
    "            <h2>Column</h2>\n",
    "            <p>\n",
    "                Lorem ipsum dolor sit amet, consectetur adipiscing elit. Maecenas sit amet pretium urna. Vivamus venenatis velit\n",
    "                nec neque ultricies, eget elementum magna tristique. Quisque vehicula, risus eget aliquam placerat, purus leo\n",
    "                tincidunt eros, eget luctus quam orci in velit. Praesent scelerisque tortor sed accumsan convallis.\n",
    "            </p>\n",
    "        </div>\n",
    "        <div class=\"column\">\n",
    "            <h2>Column</h2>\n",
    "            <p>\n",
    "                Lorem ipsum dolor sit amet, consectetur adipiscing elit. Maecenas sit amet pretium urna. Vivamus venenatis velit\n",
    "                nec neque ultricies, eget elementum magna tristique. Quisque vehicula, risus eget aliquam placerat, purus leo\n",
    "                tincidunt eros, eget luctus quam orci in velit. Praesent scelerisque tortor sed accumsan convallis.\n",
    "            </p>\n",
    "        </div>\n",
    "        <div class=\"column\">\n",
    "            <h2>Column</h2>\n",
    "            <p>\n",
    "                Lorem ipsum dolor sit amet, consectetur adipiscing elit. Maecenas sit amet pretium urna. Vivamus venenatis velit\n",
    "                nec neque ultricies, eget elementum magna tristique. Quisque vehicula, risus eget aliquam placerat, purus leo\n",
    "                tincidunt eros, eget luctus quam orci in velit. Praesent scelerisque tortor sed accumsan convallis.\n",
    "            </p>\n",
    "        </div>\n",
    "    </div>\n",
    "    <footer>\n",
    "        <p>Well styled and positioned</p>\n",
    "    </footer>\n",
    "</body>\n",
    "</html>"
   ]
  },
  {
   "cell_type": "markdown",
   "id": "1b3e0bf0",
   "metadata": {},
   "source": [
    "## Web Fundamentals\n",
    "\n",
    "#### Client-Server Model\n",
    "\n",
    "The client-server model is at the heart of how the internet works\n",
    "\n",
    "Users access internet via client (any device that can access internt) through browser/app\n",
    "\n",
    "How does browser access the internet (via server)\n",
    "\n",
    "You put URL of page you want to visit, then request gets through to server, which then sends info back to client\n",
    "\n",
    "https:// --> part of url that makes request\n",
    "\n",
    "#### URL (Uniform Resource Locators)\n",
    "\n",
    "\n",
    "URL contains all the information your browser needs to send a request to a server and tells the server what resources you're looking for. So what are the different elements of a URL and how does it work? URLs are divided into two essential parts, separated by a colon. Basic syntax of a URL is:\n",
    "\n",
    "-  scheme:path:resource\n",
    "\n",
    "- e.g. https://qa.com/coures-catalogue/\n",
    "\n",
    "- above, scheme = https, path = //qa.com/, resource = coures-catalogue/\n",
    "\n",
    "The scheme tells the browser which protocol it needs to use to retrieve a resource, and the path gives the location of the server and the resource. Protocols include things like HTTP, HTTPS and FTP, and email protocols like POP3, and IMAP. \n",
    "\n",
    "\n",
    "So that's the generic form of URL syntax but HTTP and HTTPS has its own specific syntax which is important because the web uses HTTP to retrieve resources. The HTTP URL syntax is :\n",
    "\n",
    "- http://Hostname[:Port]/Document-Path\n",
    "\n",
    "The Hostname is always the name of the website you're accessing and while they often start with www, this is actually more of a convention than anything else. Hostnames can be followed by a colon and a port number. Common port numbers include 80, 443 and 8080. And if no port number or protocol is included, URLs will assume you're using HTTP and default to 80. Port numbers are important because they work as a kind of gateway that lets data in or rejects it. \n",
    "\n",
    "Firewalls work with open ports to let data pass through if they're sent to the right port. All data not directed to an open port is rejected. Port 80 is used to allow HTTP data to end, 443 is used to allow HTTPS data and 25 is used to allow email through. \n",
    "\n",
    "The document path is the location of the resource in the web service directory. If you leave the document path out of your URL, it will just default the home page of the site. Home pages are server and configuration dependent. And this means they could refer to a document path like index.html or just default.html. And that's it for this video. URLs have a specific kind of syntax that they must always follow if they're gonna work. Same is true of HTML-based URLs, which also have their own unique syntax.\n",
    "\n",
    "#### HTTP and its interactions\n",
    "\n",
    "HTTP is at the heart of the client server model. So what is it and how does it work? HTTP is a lightweight application level protocol which builds hypermedia or web systems. \n",
    "\n",
    "Another unique feature of HTTP is that it's stateless. This means that each HTTP request stands alone, and no information is retained about the request in the browser, or on the server. While this is fine for simple document requests, does create problems for applications which need to track a user's identity. When you're trying to access a website, you enter the URL into your browser and hit Enter. And within a few moments, the website loads and it's as easy as that. But what actually happens between your clients and the server during this process? The client connects to the server and sends a request with a method, a Uniform Resource Identifier or URI and the HTTP protocol version. \n",
    "\n",
    "The client will also send a mind type header and a message. The server will respond to your client with a status line, including the protocol version and an internet standard error code.\n",
    "\n",
    "Last up, the server sends a mime like message with the requested resource in it.\n",
    "\n",
    "#### Client Requests in Details\n",
    "\n",
    "HTTP client requests are made up of:\n",
    "\n",
    "- a method\n",
    "- a URI\n",
    "- the HTTP version\n",
    "- a MIME-like message.\n",
    "\n",
    "There are three common types of method:\n",
    "\n",
    "- get: simply retrieves whatever information the URI identifies\n",
    "- head: gets header information about the request URI\n",
    "- post: submits a stream of information to the resource identified by the URI\n",
    "\n",
    "\n",
    "As you can see, the action the server takes will depend on the URI, so what is a URI? URIs are formatted strings that identify a networked resource. We say resource because HTTP servers can deal with many types of resources not just, for instance, files. \n",
    "\n",
    "\n",
    "There are two types of URI:\n",
    "\n",
    "- Abolute: contain all the information to get to the resource, including the scheme, host name and port number\n",
    "- Relative: start with the path and the other elements, like the scheme and host name are taken relative to where the page is hosted.\n",
    "\n",
    "It's best practice to use relative URIs in your own pages when you're trying to point users to a resource within your own site because if anything about the scheme or host name changes, it'll still work. \n",
    "\n",
    "\n",
    "Next up, the HTTP version. HTTP version numbers are made up of a major and a minor part and look like this. \n",
    "\n",
    "1.1 \n",
    "\n",
    "(Above, first '1' is major, the next one is minor)\n",
    "\n",
    "\n",
    "Higher minor numbers basically means it's a more advanced iteration without changing the way in which the request is dealt with. Major numbers, on the other hand, change when the format of the message is changed. Versions 1.1 and 2.0 are the most common versions at the moment, with 1.1. being the most popular.\n",
    "\n",
    "\n",
    "Last up, we have MIME-like messages. This contains things like modifiers and forms data. Basically, any other data that is sent as part of the request that isn't in one of the other parts. MIME-like messages allow us to send attachments, like audio, video, images and applications as part of the transfer, so it's a powerful and useful part of a client request. \n",
    "\n",
    "#### Server Response\n",
    "\n",
    "Once a client makes an HTTP request to a server, that server will send an HTTP response. There are different kinds of response a server can send, and different elements can make up the response.\n",
    "\n",
    "First up, the server can either send a simple or a full response. A simple response happens when the server only supports HTTP 0.9 and would be a file or some data. In a full response, for a server using HTTP 1.0 and above, the first line will always be a status line. The status line includes three things.\n",
    "\n",
    "- HTTP version (either 1.0, 1.1 or 2.0)\n",
    "\n",
    "- standard status code (a standard three-letter internet server format)\n",
    "\n",
    "- reason phrase (a textual representation of the code)\n",
    "\n",
    "So if a server returned a 404 status code, it's accompanied by a message that says that the resource is not found. Other popular codes are 200, which means the request was OK. 304 which means the resource has not been modified. 403 which means the request was forbidden and 503 which means that the server encountered some form of error processing the request. \n",
    "\n",
    "The second part of a full response is the MIME-like message, which is generated by the server itself. This will have various header fields separated from the message body by a carriage return line feed, or CRLF, pair. The header information doesn't relate to the content of the message and gives context to the response. \n",
    "\n",
    "These can describe aspects of the resource, like its content type, which could be text or plain or application, JSON, an expiry date, and the software the server uses. The header type information can be useful in helping security. The message body contains the requested resource. If the resource is an HTML file, the header information can be modified using the meta tag. The MIME message can also be generated dynamically if the resource is a backend server script. These scripts often use information supplied by a client like query parameters or form data, and may interact with other programs or resources running on the web server. An example of this is creating new information in a database. \n",
    "\n",
    "It's important to generate a valid MIME message as a response, complete with all the appropriate header fields. So it's necessary to have some knowledge of the MIME message format to write scripts. \n",
    "\n",
    "#### MIME and HTTP\n",
    "\n",
    "We often need to be able to send rich media like images and videos through websites. But how do websites actually manage to do this? The answer is Multipurpose Internet Mail Extensions, or MIME.\n",
    "\n",
    "Let's take a closer look at how this works. Modern day web applications use loads of resources to build rich interactive experiences. These often include things like images, videos and animations. Delivering these assets along with the HTML and CSS, requires the capability to attach them to HTTP requests. Since attaching items of different types is commonplace when sending emails, the technology developed to allow this has been adapted for use with HTTP. \n",
    "\n",
    "\n",
    "MIME, was designed as a flexible message format for sending multimedia objects through email. The HTTP version does add a few features that are different from the email version though. For instance, there isn't a need to send the message body as a seven bit ASCII data as required by some email systems. The MIME message consists of a header, which is made up of a few colon separated fields. The simplest document could be nothing more than a content-type line, followed by a carriage return line feed, CRLF pair and the message body. The content-type header line identifies the data in the body and it's made up of a type and subtype field. And could be something like content-type, text forward slash HTML. It's used by the browser to select the right application to display the returned data.\n",
    "\n",
    "\n",
    "HTTP usage differs from email in that each submessage can contain a full set of HTTP header fields, not just the content field. For example, if you wanted to upload multiple photos to a website, it will provide the interface to select and upload files. Each file to be uploaded will have its own part of the message to include the file data that is clearly defined. Without multipart messages, you'd only be allowed to upload a single photo at a time.\n",
    "\n",
    "#### Security Issues and HTTPS\n",
    "\n",
    "what are some of the security issues we have to deal with and how is HTTP evolved to stop them? HTTPS is the obvious answer. If a web application simply uses HTTP, then all data sent over the internet can be intercepted and read easily. HTTPS, on the other hand, encrypts the data at the source, which can only be decrypted using the encryption key.\n",
    "\n",
    "To enable HTTPS, web servers have to have a secure socket layer, SSL, certificate purchased from a reputable certification authority, which provide encryption keys.\n",
    "\n",
    "The server holds a private key that is never sent anywhere and a public key, which is returned to any client when a request is made to the server. Further communications can then use the public key on the client to encrypt the data to be sent. This can only be decrypted with the use of the private key, which should be safely stored on the server. At the client end, the public key will only decrypt data that has been encrypted by the private key. This means that the client can be sure that the data received has come from the server."
   ]
  },
  {
   "cell_type": "code",
   "execution_count": null,
   "id": "25ffff70",
   "metadata": {
    "vscode": {
     "languageId": "html"
    }
   },
   "outputs": [],
   "source": [
    "\n"
   ]
  },
  {
   "cell_type": "markdown",
   "id": "63770103",
   "metadata": {},
   "source": []
  }
 ],
 "metadata": {
  "kernelspec": {
   "display_name": "Python 3",
   "language": "python",
   "name": "python3"
  },
  "language_info": {
   "name": "python",
   "version": "3.13.5"
  }
 },
 "nbformat": 4,
 "nbformat_minor": 5
}
