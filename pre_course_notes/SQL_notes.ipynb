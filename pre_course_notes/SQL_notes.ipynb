{
 "cells": [
  {
   "cell_type": "markdown",
   "id": "1d0bc280",
   "metadata": {},
   "source": [
    "### Select/count/distinct\n",
    "\n",
    "The LIMIT will reduce the number of rows to return\n",
    "\n",
    "OFFSET will specify where to begin counting the number rows from.\n"
   ]
  },
  {
   "cell_type": "code",
   "execution_count": null,
   "id": "7e1fd1ee",
   "metadata": {
    "vscode": {
     "languageId": "sql"
    }
   },
   "outputs": [],
   "source": [
    "-- counting number of rows\n",
    "SELECT COUNT(*) FROM FilmLocations;\n",
    "-- We want to count the number of locations of the films. But we also want to restrict the output result set so that we only retrieve the number of locations of the films written by a certain writer.\n",
    "SELECT COUNT(Locations) FROM FilmLocations WHERE Writer=\"James Cameron\";\n",
    "-- Finding titles of all distinct films\n",
    "SELECT DISTINCT Title FROM FilmLocations;\n",
    "--We want to retrieve the count of release years of the films produced by a specific company so that duplicate release years of those films will be discarded in the count.\n",
    "SELECT COUNT(DISTINCT ReleaseYear) FROM FilmLocations WHERE ProductionCompany=\"Warner Bros. Pictures\";\n",
    "--Retrieve only the first 25 rows from the table so that rows other than those are not in the output result set.\n",
    "SELECT * FROM FilmLocations LIMIT 25;\n",
    "--Now, we want to retrieve 15 rows from the table starting from row 11.\n",
    "SELECT * FROM FilmLocations LIMIT 15 OFFSET 10\n"
   ]
  },
  {
   "cell_type": "markdown",
   "id": "48192eed",
   "metadata": {},
   "source": [
    "### Queries with constraints\n",
    "\n",
    "##### Numbers\n",
    "\n"
   ]
  },
  {
   "cell_type": "code",
   "execution_count": null,
   "id": "c87760a6",
   "metadata": {
    "vscode": {
     "languageId": "sql"
    }
   },
   "outputs": [],
   "source": [
    "-- standard numerical operators\n",
    "\n",
    "col_name = 4\n",
    "col_name != 4\n",
    "col_name > 4\n",
    "col_name <= 4\n",
    "\n",
    "-- number between a range of two values (inclusive)\n",
    "\n",
    "col_name BETWEEN 1.5 AND 10.5\n",
    "\n",
    "-- number NOT between a range of two values (inclusive)\n",
    "\n",
    "col_name NOT BETWEEN 1.5 AND 10.5\n",
    "\n",
    "-- number exists in a list\n",
    "\n",
    "col_name IN (2,4,6)\n",
    "\n",
    "-- number DOESN'T exist in a list\n",
    "\n",
    "col_name NOT IN (2,4,6)\n"
   ]
  },
  {
   "cell_type": "markdown",
   "id": "24640914",
   "metadata": {},
   "source": [
    "##### Strings"
   ]
  },
  {
   "cell_type": "code",
   "execution_count": null,
   "id": "4798280e",
   "metadata": {
    "vscode": {
     "languageId": "sql"
    }
   },
   "outputs": [],
   "source": [
    "-- case sensitive exact string comparison (single equals)\n",
    "\n",
    "col_name = \"abc\"\n",
    "\n",
    "-- case sensitive exact string inequality comparison\n",
    "\n",
    "col_name != \"abc\"\n",
    "col_name <> \"abc\"\n",
    "\n",
    "-- case insensitive exact string comparison\n",
    "\n",
    "col_name LIKE \"abc\"\n",
    "\n",
    "-- case insensitive exact string inequality comparison\n",
    "\n",
    "col_name NOT LIKE \"abcd\"\n",
    "\n",
    "-- used anywhere in a string to match a sequence of zero or more characters (only with LIKE or NOT LIKE)\n",
    "\n",
    "col_name LIKE \"%AT%\" -- matches \"AT\", \"ATTIC\", \"CAT\", or even \"BATS\". Any word with \"AT\" somewhere inside it\n",
    "\n",
    "-- used anywhere in a string to match a single character (only with LIKE or NOT LIKE) \n",
    "\n",
    "col_name LIKE \"AN_\" -- matches \"AND\", but not \"AN\"\n",
    "\n",
    "-- string exists in a list\n",
    "\n",
    "col_name IN (\"A\", \"B\", \"C\")\n",
    "\n",
    "-- string does not exist in a list\n",
    "\n",
    "col_name NOT IN (\"A\", \"B\", \"C\")\n"
   ]
  },
  {
   "cell_type": "markdown",
   "id": "cd9ab6b7",
   "metadata": {},
   "source": [
    "##### INSERT / UPDATE / DELETE"
   ]
  },
  {
   "cell_type": "code",
   "execution_count": null,
   "id": "284409a4",
   "metadata": {
    "vscode": {
     "languageId": "sql"
    }
   },
   "outputs": [],
   "source": [
    "-- Insert\n",
    "INSERT INTO table_name (column1, column2, ... )\n",
    "VALUES (value1, value2, ... )\n",
    ";\n",
    "-- Example. Insert two new instructor records into the “Instructor” table. First record with id 5 for John Doe who lives in Sydney, AU. Second record with id 6 for Jane Doe who lives in Dhaka, BD.\n",
    "INSERT INTO Instructor(ins_id, lastname, firstname, city, country)\n",
    "VALUES(5, 'Doe', 'John', 'Sydney', 'AU'), (6, 'Doe', 'Jane', 'Dhaka', 'BD');\n",
    "\n",
    "-- Update\n",
    "UPDATE table_name\n",
    "SET column1 = value1, column2 = value2, ...\n",
    "WHERE condition\n",
    ";\n",
    "-- Example\n",
    "UPDATE Instructor \n",
    "SET city='Dubai', country='AE' \n",
    "WHERE ins_id=5;\n",
    "\n",
    "-- Delete\n",
    "DELETE FROM table_name\n",
    "WHERE condition\n",
    ";\n",
    "-- Example\n",
    "DELETE FROM instructor\n",
    "WHERE ins_id = 6;\n"
   ]
  },
  {
   "cell_type": "markdown",
   "id": "51d66c1e",
   "metadata": {},
   "source": [
    "#### DDL Statements\n",
    "\n",
    "##### Create\n"
   ]
  },
  {
   "cell_type": "code",
   "execution_count": null,
   "id": "5176df9c",
   "metadata": {
    "vscode": {
     "languageId": "sql"
    }
   },
   "outputs": [],
   "source": [
    "-- create a table for canadian provinces. Below, id must have two characters and can't be null,\n",
    "-- name can have max number of 24 characters\n",
    "\n",
    "CREATE TABLE provinces(\n",
    "    id char(2) PRIMARY KEY NOT NULL,\n",
    "    name varchar(24)\n",
    ")\n",
    "\n",
    "-- create a table for authors\n",
    "\n",
    "CREATE TABLE author (\n",
    "    author_id CHAR(2) PRIMARY KEY NOT NULL,\n",
    "    lastname VARCHAR(15) NOT NULL,\n",
    "    firstname VARCHAR(15) NOT NULL,\n",
    "    email VARCHAR(40),\n",
    "    city VARCHAR(15),\n",
    "    country CHAR(2)\n",
    ")\n",
    "\n",
    "-- create table if doesn't already exist\n",
    "\n",
    "CREATE TABLE IF NOT EXISTS mytable (\n",
    "    ... \n",
    ")"
   ]
  },
  {
   "cell_type": "markdown",
   "id": "8ff94ce1",
   "metadata": {},
   "source": [
    "##### Data types\n",
    "\n",
    "- INTEGER/BOOLEAN --> in some implementation, the boolean values is just represented as an integer  value of just 0 or 1.\n",
    "\n",
    "- FLOAT / DOUBLE / REAL --> for storing floating point numbers\n",
    "\n",
    "- CHARACTER(max_num_chars) / VARCHAR(max_num_chars) / TEXT --> for storing text\n",
    "\n",
    "- DATE / DATETIME --> for time \n",
    "\n",
    "- BLOB --> can store binary data in blobs right in the database. \n",
    "\n",
    "##### Constraints\n",
    "\n",
    "- PRIMARY KEY --> means that values in this column are unique, and each value can be used to identify a single row in this table\n",
    "\n",
    "- AUTOINCREMENT --> for integer values, this means that the value is automatically filled in and incremented with each row insertion. Not supported in all databases.\n",
    "\n",
    "- UNIQUE --> this means that the values in this column have to be unique, so you can't insert another row with the same value in this column as another row in the table. Differs from the 'PRIMARY KEY' in that it doesn't have to be a key for a row in the table.\n",
    "\n",
    "- NOT NULL --> this means that the inserted value can not be 'NULL'\n",
    "\n",
    "- CHECK (expression) --> this allows you to turn a more complex expression to test whether the values inserted are valid. for example, you can check that values are positive, or greater than a specific size, or start with a certain prefix, etc.\n",
    "\n",
    "- FOREIGN KEY --> this is a consistency check which ensures that each values in this column corresponds to another value in a column in another table.\n",
    "\n",
    "\n",
    "\n"
   ]
  },
  {
   "cell_type": "markdown",
   "id": "d29b8c67",
   "metadata": {},
   "source": [
    "##### Alter --> no parantheses\n"
   ]
  },
  {
   "cell_type": "code",
   "execution_count": null,
   "id": "4514c112",
   "metadata": {
    "vscode": {
     "languageId": "sql"
    }
   },
   "outputs": [],
   "source": [
    "-- adding a column with alter\n",
    "\n",
    "ALTER TABLE table_name\n",
    "ADD COLUMN column_name data_type;\n",
    "\n",
    "-- modifying column data type\n",
    "\n",
    "ALTER TABLE table_name\n",
    "MODIFY column_name data_type\n",
    "\n",
    "-- removing columns\n",
    "\n",
    "ALTER TABLE mytable\n",
    "DROP column_to_be_deleted;\n",
    "\n",
    "-- renaming table\n",
    "ALTER TABLE mytable\n",
    "RENAME TO new_table_name;"
   ]
  },
  {
   "cell_type": "markdown",
   "id": "19ca2ac6",
   "metadata": {},
   "source": [
    "Truncate --> used to delete all rows of a table"
   ]
  },
  {
   "cell_type": "code",
   "execution_count": null,
   "id": "bbca27bf",
   "metadata": {
    "vscode": {
     "languageId": "sql"
    }
   },
   "outputs": [],
   "source": [
    "TRUNCATE TABLE table_name;"
   ]
  },
  {
   "cell_type": "markdown",
   "id": "eb24ba4c",
   "metadata": {},
   "source": [
    "CREATE TABLE -> to create a table"
   ]
  },
  {
   "cell_type": "code",
   "execution_count": null,
   "id": "ce1c657d",
   "metadata": {
    "vscode": {
     "languageId": "sql"
    }
   },
   "outputs": [],
   "source": [
    "CREATE TABLE TableName (\n",
    "    COLUMN1 datatype,\n",
    "    COLUMN2 dataype,\n",
    "    ...\n",
    ");\n",
    "\n",
    "-- example\n",
    "\n",
    "CREATE TABLE COUNTRY (\n",
    "    ID int,\n",
    "    CCDOE char(2),\n",
    "    Name varchar(60)\n",
    ");"
   ]
  },
  {
   "cell_type": "markdown",
   "id": "84c68cb9",
   "metadata": {},
   "source": [
    "Creating a table using data from another table, in the same schema (data_mart)"
   ]
  },
  {
   "cell_type": "code",
   "execution_count": null,
   "id": "9a06c150",
   "metadata": {
    "vscode": {
     "languageId": "sql"
    }
   },
   "outputs": [],
   "source": [
    "CREATE TABLE data_mart.clean_weekly_sales AS\n",
    "SELECT\n",
    "    TO_DATE(raw_date, 'FMDD/FMMM/YY') AS sale_date,\n",
    "    product_id,\n",
    "    weekly_sales\n",
    "FROM\n",
    "    data_mart.raw_sales_data;\n"
   ]
  },
  {
   "cell_type": "markdown",
   "id": "a428c765",
   "metadata": {},
   "source": [
    "DROP --> to delete a table"
   ]
  },
  {
   "cell_type": "code",
   "execution_count": null,
   "id": "a21b8aad",
   "metadata": {
    "vscode": {
     "languageId": "sql"
    }
   },
   "outputs": [],
   "source": [
    "-- example of dropping a table before creating a new table with the same name\n",
    "\n",
    "DROP TABLE COUNTRY;\n",
    "CREATE TABLE COUNTRY (\n",
    "    ID int,\n",
    "    CCDOE char(2),\n",
    "    Name varchar(60)\n",
    ");"
   ]
  },
  {
   "cell_type": "markdown",
   "id": "413da742",
   "metadata": {},
   "source": [
    "#### String Patterns\n",
    "\n",
    "Using ‘like’ predicate\n",
    "\n"
   ]
  },
  {
   "cell_type": "code",
   "execution_count": null,
   "id": "7fbb35c4",
   "metadata": {
    "vscode": {
     "languageId": "sql"
    }
   },
   "outputs": [],
   "source": [
    "-- Selecting all surnames/names of employees living in ‘Elgin, IL’\n",
    "\n",
    "SELECT F_NAME, L_NAME\n",
    "FROM EMPLOYEES\n",
    "WHERE ADDRESS LIKE '%Elgin,IL%';\n",
    "\n",
    "-- identify the employees who were born during the 70s\n",
    "SELECT F_NAME, L_NAME\n",
    "FROM EMPLOYEES\n",
    "WHERE B_DATE LIKE '197%';\n",
    "\n",
    "-- Let us retrieve all employee records in department 5 where salary is between 60000 and 70000\n",
    "SELECT *\n",
    "FROM EMPLOYEES\n",
    "WHERE (SALARY BETWEEN 60000 AND 70000) AND DEP_ID = 5;\n",
    "\n"
   ]
  },
  {
   "cell_type": "markdown",
   "id": "8b149a6f",
   "metadata": {},
   "source": [
    "##### Sorting\n"
   ]
  },
  {
   "cell_type": "code",
   "execution_count": null,
   "id": "097cb6dd",
   "metadata": {
    "vscode": {
     "languageId": "sql"
    }
   },
   "outputs": [],
   "source": [
    "-- Using order by clause\n",
    "\n",
    "SELECT F_NAME, L_NAME, DEP_ID \n",
    "FROM EMPLOYEES\n",
    "ORDER BY DEP_ID;\n",
    "\n",
    "-- Adding ‘DESC’ after feature → descending order\n",
    "\n",
    "SELECT F_NAME, L_NAME, DEP_ID \n",
    "FROM EMPLOYEES\n",
    "ORDER BY DESC DEP_ID;\n"
   ]
  },
  {
   "cell_type": "markdown",
   "id": "0db7ffe1",
   "metadata": {},
   "source": [
    "##### Grouping"
   ]
  },
  {
   "cell_type": "code",
   "execution_count": null,
   "id": "40e74c22",
   "metadata": {
    "vscode": {
     "languageId": "sql"
    }
   },
   "outputs": [],
   "source": [
    "-- For each department ID, we wish to retrieve the number of employees in the department.\n",
    "SELECT DEP_ID, COUNT(*)\n",
    "FROM EMPLOYEES\n",
    "GROUP BY DEP_ID;\n",
    "\n",
    "--for each department, retrieve the number of employees in the department and the average \n",
    "-- employee salary in the department\n",
    "\n",
    "SELECT DEP_ID, COUNT(*), AVG(SALARY)\n",
    "FROM EMPLOYEES\n",
    "GROUP BY DEP_ID;\n",
    "\n",
    "-- Label the computed columns in the result set of the last problem as NUM_EMPLOYEES and AVG_SALARY.\n",
    "\n",
    "SELECT DEP_ID, COUNT(*) AS \"NUM_EMPLOYEES\", AVG(SALARY) AS \"AVG_SALARY\"\n",
    "FROM EMPLOYEES\n",
    "GROUP BY DEP_ID;\n",
    "\n",
    "--In the previous example, if we wish to limit the result to departments with fewer than 4 employees,\n",
    "-- We will have to use HAVING after the GROUP BY, and use the count() function in the HAVING clause instead\n",
    "-- of the column label.\n",
    "SELECT DEP_ID, COUNT(*) AS \"NUM_EMPLOYEES\", AVG(SALARY) AS \"AVG_SALARY\"\n",
    "FROM EMPLOYEES\n",
    "GROUP BY DEP_ID\n",
    "HAVING count(*) < 4\n",
    "ORDER BY AVG_SALARY;\n"
   ]
  },
  {
   "cell_type": "markdown",
   "id": "02463f12",
   "metadata": {},
   "source": [
    "##### PARTITION BY\n",
    "\n",
    "- it divides result set rows into partitions for independent window function application, unlike grouping as it doesn't collapse rows.\n"
   ]
  },
  {
   "cell_type": "code",
   "execution_count": null,
   "id": "161d2276",
   "metadata": {
    "vscode": {
     "languageId": "sql"
    }
   },
   "outputs": [],
   "source": [
    "ROW_NUMBER() OVER (PARTITION BY customer_id ORDER BY order_date) AS rn\n"
   ]
  },
  {
   "cell_type": "markdown",
   "id": "51848beb",
   "metadata": {},
   "source": [
    "This does the following:\n",
    "\n",
    "- Partition: It divides the data into groups based on each customer_id.\n",
    "\n",
    "- Order: Within each customer_id group, it orders the rows by order_date.\n",
    "\n",
    "- Calculation: It then assigns a row number (rn) to each row within its respective partition, starting at 1 for the earliest order_date in each customer group.\n",
    "\n",
    "- ROW_NUMBER() : gives a window function that assigns a unique sequential integer to each row within a result set or within a defined partition of the result set.\n"
   ]
  },
  {
   "cell_type": "markdown",
   "id": "debd92b0",
   "metadata": {},
   "source": [
    "##### Aggregation Functions\n",
    "\n",
    "- SUM\n",
    "\n",
    "- MAX\n",
    "\n",
    "- MIN\n",
    "\n",
    "- AVG\n",
    "\n",
    "- ROUND(COLUMN_NAME, NUMBER_OF_DECIMALS)\n",
    "\n",
    "- LENGTH(COLUMN_NAME) (gives length of element in column)\n",
    "\n",
    "- Upper case /lower case : UCASE/LCASE\n",
    "\n"
   ]
  },
  {
   "cell_type": "code",
   "execution_count": null,
   "id": "e0c381c2",
   "metadata": {
    "vscode": {
     "languageId": "sql"
    }
   },
   "outputs": [],
   "source": [
    "-- example: Calculate the total cost of all animal rescues in the PETRESCUE table, then display it as ‘SUM_OF_COST’\n",
    "SELECT SUM(COST) AS SUM_OF_COST FROM PETRESCUE;\n"
   ]
  },
  {
   "cell_type": "markdown",
   "id": "e7339a34",
   "metadata": {},
   "source": [
    "##### Date functions\n",
    "\n",
    "- DAY()\n",
    "\n",
    "- MONTH()\n",
    "\n",
    "- YEAR()\n",
    "\n",
    "- DATE_ADD(DATE, INTERVAL number TIMEFRAME).\n",
    "\n",
    "- DATE_SUB(DATE, INTERVAL number TIMEFRAME)\n",
    "\n",
    "- DATEDIFF(Date 1, Date 2)\n",
    "\n"
   ]
  },
  {
   "cell_type": "code",
   "execution_count": null,
   "id": "1f462e5f",
   "metadata": {
    "vscode": {
     "languageId": "sql"
    }
   },
   "outputs": [],
   "source": [
    "-- Animals rescued should see the vet within three days of arrival. Write a query that displays the third day of each rescue.\n",
    "SELECT DATE_ADD(RESCUEDATE, INTERVAL 3 DAY) FROM PETRESCUE\n",
    "\n",
    "-- Similarly, we can retrieve a date before the one given in the column by a given number using the function DATE_SUB\n",
    "SELECT DATE_SUB(RESCUEDATE, INTERVAL 3 DAY) FROM PETRESCUE\n",
    "\n",
    "-- using DATEDIFF \n",
    "SELECT DATEDIFF(CURRENT_DATE, RESCUEDATE) FROM PETRESCUE\n",
    "\n",
    "-- To present the output in a YYYY-MM-DD format, another function FROM_DAYS(number_of_days) can be used. \n",
    "-- This function takes a number of days and returns the required formatted output. The query above would thus be modified to\n",
    "SELECT FROM_DAYS(DATEDIFF(CURRENT_DATE, RESCUEDATE)) FROM PETRESCUE\n"
   ]
  },
  {
   "cell_type": "markdown",
   "id": "cac6bdf4",
   "metadata": {},
   "source": [
    "#### Sub-queries: a query inside another query\n",
    "\n",
    "Useful as often can’t call functions directly outside of sub-queries.\n"
   ]
  },
  {
   "cell_type": "code",
   "execution_count": null,
   "id": "d6b29cbe",
   "metadata": {
    "vscode": {
     "languageId": "sql"
    }
   },
   "outputs": [],
   "source": [
    "-- This command will generate an error:\n",
    "SELECT * \n",
    "FROM EMPLOYEES \n",
    "WHERE salary < AVG(salary);\n",
    "\n",
    "--Instead do\n",
    "SELECT *\n",
    "FROM EMPLOYEES\n",
    "WHERE SALARY < (SELECT AVG(SALARY) FROM EMPLOYEES);\n",
    "\n",
    "\n",
    "-- Now, consider executing a query that retrieves all employee records with EMP_ID, SALARY, and maximum salary as MAX_SALARY in every row.\n",
    "SELECT EMP_ID, SALARY, (SELECT MAX(SALARY) FROM EMPLOYEES) AS MAX_SALARY \n",
    "FROM EMPLOYEES;\n",
    "\n",
    "\n",
    "-- Now, consider that you wish to extract the first and last names of the oldest employee\n",
    "SELECT F_NAME, L_NAME\n",
    "FROM EMPLOYEES\n",
    "WHERE B_DATE = (SELECT MIN(B_DATE) FROM EMPLOYEES);\n",
    "\n",
    "\n",
    "-- Using sub-queries to create derived table. E.g. you want to know the average salary of the top 5 earners in the company. \n",
    "SELECT AVG(SALARY) \n",
    "FROM (SELECT SALARY \n",
    "      FROM EMPLOYEES \n",
    "      ORDER BY SALARY DESC \n",
    "      LIMIT 5) AS SALARY_TABLE;\n",
    "\n"
   ]
  },
  {
   "cell_type": "markdown",
   "id": "0023b746",
   "metadata": {},
   "source": [
    "##### Accessing multiple tables with same query\n",
    "\n",
    "- Inner join: a process that matches rows from the first table and the second table which have the same key (as defined by the ON constraint) to create a result row with the combined columns from both tables. \n"
   ]
  },
  {
   "cell_type": "code",
   "execution_count": null,
   "id": "96511b41",
   "metadata": {
    "vscode": {
     "languageId": "sql"
    }
   },
   "outputs": [],
   "source": [
    "-- syntax\n",
    "SELECT column, another_table_column, …\n",
    "FROM mytable\n",
    "INNER JOIN another_table \n",
    "    ON mytable.id = another_table.id\n",
    "WHERE condition(s)\n",
    "ORDER BY column, … ASC/DESC\n",
    "LIMIT num_limit OFFSET num_offset;\n",
    "\n",
    "\n",
    "-- example\n",
    "SELECT * FROM Movies INNER JOIN Boxoffice ON Movies.Id = Boxoffice.Movie_id ORDER BY Rating DESC;\n"
   ]
  },
  {
   "cell_type": "markdown",
   "id": "ebbd2d14",
   "metadata": {},
   "source": [
    "If two tables have asymmetric data, can’t just use INNER JOIN. HAVE TO USE LEFT/RIGHT/FULL JOIN\n",
    "\n",
    "When joining table A to table B, a LEFT JOIN simply includes rows from A regardless of whether a matching row is found in B. The RIGHT JOIN is the same, but reversed, keeping rows in B regardless of whether a match is found in A. Finally, a FULL JOIN simply means that rows from both tables are kept, regardless of whether a matching row exists in the other table.\n"
   ]
  },
  {
   "cell_type": "markdown",
   "id": "57f535da",
   "metadata": {},
   "source": [
    "##### Note on NULLs\n",
    "\n",
    "Often useful to use NULLs with such Expressions\n",
    "Nulls: empty space\n"
   ]
  },
  {
   "cell_type": "code",
   "execution_count": null,
   "id": "f3ade183",
   "metadata": {
    "vscode": {
     "languageId": "sql"
    }
   },
   "outputs": [],
   "source": [
    "SELECT * FROM employees WHERE Building IS NULL;\n"
   ]
  },
  {
   "cell_type": "markdown",
   "id": "294e6846",
   "metadata": {},
   "source": [
    "Note on aliases (in PostgreSQL) → if you are working with a subquery, must always use alias. See below:"
   ]
  },
  {
   "cell_type": "code",
   "execution_count": null,
   "id": "474f9cd1",
   "metadata": {
    "vscode": {
     "languageId": "sql"
    }
   },
   "outputs": [],
   "source": [
    "SELECT joined_data.region_name, COUNT(DISTINCT joined_data.customer_id) FROM \n",
    "(SELECT \n",
    "  r.region_id, r.region_name, \n",
    "  c.customer_id, c.node_id, c.start_date, c.end_date\n",
    "FROM \n",
    "  data_bank.regions r\n",
    "INNER JOIN \n",
    "  data_bank.customer_nodes c \n",
    "  ON r.region_id = c.region_id) AS joined_data GROUP BY joined_data.region_name;\n"
   ]
  },
  {
   "cell_type": "markdown",
   "id": "afbac0ef",
   "metadata": {},
   "source": [
    "Retrieve only the EMPLOYEES records corresponding to jobs in the JOBS table.\n"
   ]
  },
  {
   "cell_type": "code",
   "execution_count": null,
   "id": "9eed55b5",
   "metadata": {
    "vscode": {
     "languageId": "sql"
    }
   },
   "outputs": [],
   "source": [
    "SELECT * FROM EMPLOYEES WHERE JOB_ID IN (SELECT JOB_IDENT FROM JOBS);\n"
   ]
  },
  {
   "cell_type": "code",
   "execution_count": null,
   "id": "210fcb4e",
   "metadata": {
    "vscode": {
     "languageId": "sql"
    }
   },
   "outputs": [],
   "source": [
    "-- Retrieve JOB information for employees earning over $70,000. For this example, retrieve the details from the \n",
    "-- JOBS table, which has common IDs with those available in the EMPLOYEES table, provided the salary in the EMPLOYEES \n",
    "-- table is greater than $70,000.\n",
    "\n",
    "SELECT JOB_TITLE, MIN_SALARY, MAX_SALARY, JOB_IDENT\n",
    "FROM JOBS\n",
    "WHERE JOB_IDENT IN (select JOB_ID from EMPLOYEES where SALARY > 70000 );\n"
   ]
  },
  {
   "cell_type": "markdown",
   "id": "4e766ea2",
   "metadata": {},
   "source": [
    "Implicit Joins\n"
   ]
  },
  {
   "cell_type": "code",
   "execution_count": null,
   "id": "5581d572",
   "metadata": {
    "vscode": {
     "languageId": "sql"
    }
   },
   "outputs": [],
   "source": [
    "-- Retrieve only the EMPLOYEES records corresponding to jobs in the JOBS table.\n",
    "SELECT *\n",
    "FROM EMPLOYEES, JOBS\n",
    "WHERE EMPLOYEES.JOB_ID = JOBS.JOB_IDENT;\n",
    "\n",
    "\n",
    "-- Query above, but using shorter aliases (E and J)\n",
    "SELECT *\n",
    "FROM EMPLOYEES E, JOBS J\n",
    "WHERE E.JOB_ID = J.JOB_IDENT;\n",
    "\n",
    "\n",
    "-- In the previous query, retrieve only the Employee ID, Name, and Job Title\n",
    "SELECT E.EMP_ID, E.F_NAME, E.L_NAME, J.JOB_TITLE\n",
    "FROM EMPLOYEES E, JOBS J\n",
    "WHERE E.JOB_ID = J.JOB_IDENT;\n"
   ]
  },
  {
   "cell_type": "markdown",
   "id": "009a39ce",
   "metadata": {},
   "source": [
    "##### Order of queries\n"
   ]
  },
  {
   "cell_type": "code",
   "execution_count": null,
   "id": "f4278b89",
   "metadata": {
    "vscode": {
     "languageId": "sql"
    }
   },
   "outputs": [],
   "source": [
    "SELECT DISTINCT column, AGG_FUNC(column_or_expression), …\n",
    "FROM mytable\n",
    "    JOIN another_table\n",
    "      ON mytable.column = another_table.column\n",
    "    WHERE constraint_expression\n",
    "    GROUP BY column\n",
    "    HAVING constraint_expression\n",
    "    ORDER BY column ASC/DESC\n",
    "    LIMIT count OFFSET COUNT;"
   ]
  },
  {
   "cell_type": "markdown",
   "id": "bf45be0b",
   "metadata": {},
   "source": [
    "### Unions, Intersections and Exceptions\n",
    "\n",
    "\n",
    "the UNION and UNION ALL operator allows you to append the results of one query to another assuming that they have the same column count, order and data type. If you use the UNION without the ALL, duplicate rows between the tables will be removed from the result.\n"
   ]
  },
  {
   "cell_type": "code",
   "execution_count": null,
   "id": "c9dec1dd",
   "metadata": {
    "vscode": {
     "languageId": "sql"
    }
   },
   "outputs": [],
   "source": [
    "SELECT column, another_column\n",
    "   FROM mytable\n",
    "UNION / UNION ALL / INTERSECT / EXCEPT\n",
    "SELECT other_column, yet_another_column\n",
    "   FROM another_table\n",
    "ORDER BY column DESC\n",
    "LIMIT n;\n"
   ]
  },
  {
   "cell_type": "markdown",
   "id": "35a7e871",
   "metadata": {},
   "source": [
    "#### Accessing databases using python\n"
   ]
  },
  {
   "cell_type": "code",
   "execution_count": null,
   "id": "d02f4133",
   "metadata": {},
   "outputs": [],
   "source": [
    "## Code for creating database using SQLite\n",
    "!pip install sqlite3  ##Uncomment this code only if you are working in a local environment to install sqlite3\n",
    "import sqlite3\n",
    "# Connecting to sqlite\n",
    "# connection object\n",
    "conn = sqlite3.connect('INSTRUCTOR.db')\n",
    "# cursor object: Cursor class is an instance using which you can invoke methods that execute SQLite statements, fetch data from the result sets of the queries. You can create Cursor object using the cursor() method of the Connection object/class.\n",
    "cursor_obj = conn.cursor()\n",
    "# Creating table\n",
    "table = \"\"\" create table IF NOT EXISTS INSTRUCTOR(ID INTEGER PRIMARY KEY NOT NULL, FNAME VARCHAR(20), LNAME VARCHAR(20), CITY VARCHAR(20), CCODE CHAR(2));\"\"\"\n",
    "cursor_obj.execute(table)\n",
    "# inserting first row\n",
    "cursor_obj.execute('''insert into INSTRUCTOR values (1, 'Rav', 'Ahuja', 'TORONTO', 'CA')''')\n",
    "# fetching all data\n",
    "statement = '''SELECT * FROM INSTRUCTOR'''\n",
    "cursor_obj.execute(statement)\n",
    "# If you want to fetch few rows from the table we use fetchmany(numberofrows) and mention the number how many rows you want to fetch\n",
    "output_many = cursor_obj.fetchmany(2) \n",
    "for row_many in output_many:\n",
    "  print(row_many)\n",
    "print(\"All the data\")\n",
    "output_all = cursor_obj.fetchall()\n",
    "for row_all in output_all:\n",
    "  print(row_all)\n",
    "Retrieving data using pandas\n",
    "import pandas as pd\n",
    "#retrieve the query results into a pandas dataframe\n",
    "df = pd.read_sql_query(\"select * from instructor;\", conn)\n",
    "# Close the connection\n",
    "conn.close()\n"
   ]
  },
  {
   "cell_type": "markdown",
   "id": "a26accc2",
   "metadata": {},
   "source": [
    "Reading .csv files --> To query columns in a table: use backticks ``\n"
   ]
  },
  {
   "cell_type": "code",
   "execution_count": null,
   "id": "371bba63",
   "metadata": {},
   "outputs": [],
   "source": [
    "# Using pandas to convert csv file to a table in SQLite\n",
    "import pandas\n",
    "df = pandas.read_csv(\"https://cf-courses-data.s3.us.cloud-object-storage.appdomain.cloud/IBMDeveloperSkillsNetwork-DB0201EN-SkillsNetwork/labs/FinalModule_Coursera_V5/data/ChicagoPublicSchools.csv\")\n",
    "df.to_sql(\"CHICAGO_PUBLIC_SCHOOLS_DATA\", con, if_exists='replace', index=False, method=\"multi\")\n",
    "\n",
    "# Getting list of all tables in database\n",
    "%sql SELECT name FROM sqlite_master WHERE type='table'\n",
    "\n",
    "# Finding number of columns in SCHOOLS table\n",
    "%sql SELECT count(name) FROM PRAGMA_TABLE_INFO('CHICAGO_PUBLIC_SCHOOLS_DATA');\n",
    "\n",
    "# Getting list of columns and column type in SCHOOLS table\n",
    "%sql SELECT name,type,length(type) FROM PRAGMA_TABLE_INFO('CHICAGO_PUBLIC_SCHOOLS_DATA');\n",
    "\n",
    "# Saving a pseudo-table you've configured from other tables\n",
    " WITH FULL_TABLE AS (SELECT query) \n"
   ]
  },
  {
   "cell_type": "markdown",
   "id": "c018cea3",
   "metadata": {},
   "source": [
    "#### PARTITION BY : We can use the SQL PARTITION BY clause with ROW_NUMBER() function to have a row number of each row\n",
    "\n"
   ]
  },
  {
   "cell_type": "code",
   "execution_count": null,
   "id": "6656c2a0",
   "metadata": {
    "vscode": {
     "languageId": "sql"
    }
   },
   "outputs": [],
   "source": [
    "-- Example\n",
    "SELECT customer_id, product_id, ROW_NUMBER() OVER (PARTITION BY customer_id ORDER BY product_id) AS rn FROM FULL_TABLE;\n"
   ]
  },
  {
   "cell_type": "markdown",
   "id": "9f13a47c",
   "metadata": {},
   "source": [
    "Output:\n",
    "\n",
    "| customer_id    | product_id | rn | \n",
    "| -------- | ------- | ------- |\n",
    "| A  | 1    | 1    |\n",
    "| A  | 2    | 2    |\n",
    "| A  | 2    | 3    |\n",
    "| A  | 3    | 4    |\n",
    "| A  | 3    | 5    |\n",
    "| A  | 3    | 6    |\n",
    "| B  | 1    | 1    |\n",
    "| B  | 1    | 2    |\n",
    "| B  | 2    | 3    |\n",
    "| B  | 2    | 4    |\n",
    "| B  | 3    | 5    |\n",
    "| B  | 3    | 6    |\n",
    "| C  | 3    | 1    |\n",
    "| C  | 3    | 2    |\n",
    "| C  | 3    | 3    |\n",
    "\n",
    "\n",
    "\n",
    "\n"
   ]
  },
  {
   "cell_type": "markdown",
   "id": "9d788d5e",
   "metadata": {},
   "source": [
    "#### RANK()\n",
    "functions assign a unique rank to each distinct row in the result set, with tied rows receiving the same rank and leaving gaps in subsequent ranks. For example, if two rows tie for first place, the next row will receive a rank of 3.\n"
   ]
  },
  {
   "cell_type": "code",
   "execution_count": null,
   "id": "1bf59bb7",
   "metadata": {
    "vscode": {
     "languageId": "sql"
    }
   },
   "outputs": [],
   "source": [
    "RANK() OVER (PARTITION BY column1, column2, ... ORDER BY sort_column1, sort_column2, ...)\n"
   ]
  },
  {
   "cell_type": "markdown",
   "id": "b0027e7a",
   "metadata": {},
   "source": [
    "DENSE_RANK() also assigns ranks based on criteria, but it does not leave gaps between ranks in case of tied rows. \n"
   ]
  },
  {
   "cell_type": "markdown",
   "id": "914da5d8",
   "metadata": {},
   "source": [
    "Another use for partition by\n",
    "\n",
    "\n",
    "I have three columns in my dataset. One is called platform, and takes binary values \"retail\" or \"shopify\". The other column is called sales. the last column gives the month. I want to find the percentage of sales for Retail vs Shopify for each month."
   ]
  },
  {
   "cell_type": "code",
   "execution_count": null,
   "id": "2cc6759f",
   "metadata": {
    "vscode": {
     "languageId": "sql"
    }
   },
   "outputs": [],
   "source": [
    "SELECT\n",
    "    month,\n",
    "    platform,\n",
    "    SUM(sales) AS platform_sales,\n",
    "    ROUND(100.0 * SUM(sales) / SUM(SUM(sales)) OVER (PARTITION BY month), 2) AS percentage_of_month_sales\n",
    "FROM\n",
    "    your_table_name\n",
    "GROUP BY\n",
    "    month,\n",
    "    platform\n",
    "ORDER BY\n",
    "    month,\n",
    "    platform;\n",
    "\n",
    "-- explanation \n",
    "-- SUM(sales): sums sales per platform and month.\n",
    "-- SUM(SUM(sales)) OVER (PARTITION BY month): computes total sales for each month across both platforms.\n",
    "-- The percentage is computed by dividing platform sales by total monthly sales.\n",
    "-- ROUND(..., 2) limits it to two decimal places.\n",
    "\n"
   ]
  },
  {
   "cell_type": "markdown",
   "id": "55a38cdf",
   "metadata": {},
   "source": [
    "Using GROUP BY and ORDER BY on multiple features at the same time\n"
   ]
  },
  {
   "cell_type": "code",
   "execution_count": null,
   "id": "abb85fc0",
   "metadata": {
    "vscode": {
     "languageId": "sql"
    }
   },
   "outputs": [],
   "source": [
    "ORDER BY column1 DESC, column2\n",
    "\n",
    "-- This sorts everything by column1 (descending) first, and then by column2 (ascending, which is the default) \n",
    "-- whenever the column1 fields for two or more rows are equal.\n",
    "\n",
    "Group BY X, Y \n",
    "\n",
    "-- means put all those with the same values for both X and Y in the one group.\n",
    "\n",
    "-- So for example below, partition set into unique (customer_id, product_name) combinations, \n",
    "-- counting frequency of each, and then order firstly by customer_id, and then then internally by count\n",
    "SELECT customer_id,product_name,count(*) FROM FULL_TABLE\n",
    "GROUP BY 1,2\n",
    "ORDER BY 1,3 DESC;\n"
   ]
  },
  {
   "cell_type": "markdown",
   "id": "e93ba975",
   "metadata": {},
   "source": [
    "Output:\n",
    "\n",
    "| customer_id    | product_id | rn | \n",
    "| -------- | ------- | ------- |\n",
    "| A  | ramen    | 3    |\n",
    "| A  | curry   | 2    |\n",
    "| A  | sushi    | 1    |\n",
    "| B  | sushi    | 2    |\n",
    "| B  | curry    | 2    |\n",
    "| B  | ramen    | 2    |\n",
    "| C  | ramen    | 3    |\n"
   ]
  },
  {
   "cell_type": "markdown",
   "id": "d7ec8321",
   "metadata": {},
   "source": [
    "## ‘temp’\n",
    "\n",
    "have to add it after a temporary table you’ve created, like below \n"
   ]
  },
  {
   "cell_type": "code",
   "execution_count": null,
   "id": "9fd1dcd5",
   "metadata": {
    "vscode": {
     "languageId": "sql"
    }
   },
   "outputs": [],
   "source": [
    "SELECT customer_id,\n",
    "       product_name\n",
    "FROM (\n",
    "    SELECT customer_id,\n",
    "           product_name as most_popular_item,\n",
    "           DENSE_RANK() OVER (\n",
    "               PARTITION BY customer_id\n",
    "               ORDER BY COUNT(*) DESC\n",
    "           ) AS dn\n",
    "    FROM CTE\n",
    "    GROUP BY 1, 2\n",
    ") temp\n",
    "WHERE dn = 1\n",
    "ORDER BY 1;\n",
    "\n",
    "\n"
   ]
  },
  {
   "cell_type": "markdown",
   "id": "d6bb92f2",
   "metadata": {},
   "source": [
    "\n",
    "##### CASE\n",
    "The CASE expression goes through conditions and returns a value when the first condition is met (like an if-then-else statement). So, once a condition is true, it will stop reading and return the result. If no conditions are true, it returns the value in the ELSE clause.\n",
    "\n",
    "If there is no ELSE part and no conditions are true, it returns NULL.\n",
    "\n",
    "Below, in example, we can see how this function is useful for creating mappings between one column and a new column."
   ]
  },
  {
   "cell_type": "code",
   "execution_count": null,
   "id": "4cf889ca",
   "metadata": {
    "vscode": {
     "languageId": "sql"
    }
   },
   "outputs": [],
   "source": [
    "-- Syntax\n",
    "CASE\n",
    "    WHEN condition1 THEN result1\n",
    "    WHEN condition2 THEN result2\n",
    "    WHEN conditionN THEN resultN\n",
    "    ELSE result\n",
    "END;\n",
    "\n",
    "\n",
    "-- Example\n",
    "SELECT \n",
    "  txn_amount,\n",
    "  CASE \n",
    "    WHEN txn_amount > 1000 THEN 'High'\n",
    "    WHEN txn_amount > 500 THEN 'Medium'\n",
    "    ELSE 'Low'\n",
    "  END AS txn_category\n",
    "FROM customer_transactions;\n",
    "\n",
    "-- Above, name of feature/column (‘txn_category’) is assigned after all cases (after ‘END AS’)\n"
   ]
  },
  {
   "cell_type": "markdown",
   "id": "1803e3c6",
   "metadata": {},
   "source": [
    "#### Working with times and dates\n",
    "\n",
    "When working with dd-mm-yyyy hh:mm:ss format, can use Extract function\n"
   ]
  },
  {
   "cell_type": "code",
   "execution_count": null,
   "id": "f3da0c08",
   "metadata": {
    "vscode": {
     "languageId": "sql"
    }
   },
   "outputs": [],
   "source": [
    "SELECT Name, Extract(YEAR FROM BirthTime)\n",
    "AS BirthYear FROM Test;\n",
    "SELECT Name, Extract(DAY FROM\n",
    "BirthTime) AS BirthDay FROM Test;\n",
    "SELECT Name, Extract(SECOND FROM\n",
    "BirthTime) AS BirthSecond FROM Test;\n"
   ]
  },
  {
   "cell_type": "markdown",
   "id": "ecc41368",
   "metadata": {},
   "source": [
    "The DATE_ADD() function allows you to add a specified time interval to a date.\n"
   ]
  },
  {
   "cell_type": "code",
   "execution_count": null,
   "id": "ca9aad78",
   "metadata": {
    "vscode": {
     "languageId": "sql"
    }
   },
   "outputs": [],
   "source": [
    "DATE_ADD(date, INTERVAL expr type);\n"
   ]
  },
  {
   "cell_type": "markdown",
   "id": "d07a8373",
   "metadata": {},
   "source": [
    "Converting string 'dd/mm/yyyy' to proper DATE format:"
   ]
  },
  {
   "cell_type": "code",
   "execution_count": null,
   "id": "de4ada7c",
   "metadata": {
    "vscode": {
     "languageId": "sql"
    }
   },
   "outputs": [],
   "source": [
    "--syntax\n",
    "SELECT TO_DATE('9/9/20', 'FMDD/FMMM/YY')::DATE;\n",
    "\n",
    "--example\n",
    "SELECT week_date, TO_DATE(week_date, 'FMDD/FMMM/YY') AS converted_date\n",
    "FROM data_mart.weekly_sales\n",
    "LIMIT 10;\n",
    "\n",
    "--above, w/out raw date\n",
    "SELECT TO_DATE(week_date, 'FMDD/FMMM/YY') AS converted_date\n",
    "FROM data_mart.weekly_sales\n",
    "LIMIT 10;\n"
   ]
  },
  {
   "cell_type": "markdown",
   "id": "01167b68",
   "metadata": {},
   "source": [
    "Finding day of year (out of 365) given a date"
   ]
  },
  {
   "cell_type": "code",
   "execution_count": null,
   "id": "0733514b",
   "metadata": {
    "vscode": {
     "languageId": "sql"
    }
   },
   "outputs": [],
   "source": [
    "EXTRACT(DOY FROM TO_DATE(week_date, 'FMDD/FMMM/YY'))::INT AS day_of_year,"
   ]
  },
  {
   "cell_type": "markdown",
   "id": "6806524f",
   "metadata": {},
   "source": [
    "Finding week_number: for example any value from the 1st of January to 7th of January will be 1, 8th to 14th will be 2 etc\n",
    "\n"
   ]
  },
  {
   "cell_type": "code",
   "execution_count": null,
   "id": "ebfdaea2",
   "metadata": {
    "vscode": {
     "languageId": "sql"
    }
   },
   "outputs": [],
   "source": [
    "CEIL(EXTRACT(DOY FROM week_date)::NUMERIC / 7) AS custom_week\n",
    "--Breakdown:\n",
    "-- EXTRACT(DOY FROM week_date) gives the day of year (1–365/366).\n",
    "\n",
    "-- Dividing by 7 and using CEIL(...) groups days into 7-day blocks starting from Jan 1.\n",
    "\n",
    "-- he result: Jan 1–7 → Week 1, Jan 8–14 → Week 2, etc.\n",
    "\n"
   ]
  },
  {
   "cell_type": "markdown",
   "id": "717953a2",
   "metadata": {},
   "source": [
    "Extracting day of the week (monday, tuesday,..) given a date in DATE format (dd-mm-yyyy)"
   ]
  },
  {
   "cell_type": "code",
   "execution_count": null,
   "id": "68693c62",
   "metadata": {
    "vscode": {
     "languageId": "sql"
    }
   },
   "outputs": [],
   "source": [
    "--if date_column contains dates in DATE format\n",
    "SELECT TO_CHAR(date_column, 'Day') AS day_name\n",
    "FROM your_table;"
   ]
  },
  {
   "cell_type": "markdown",
   "id": "e8e817ba",
   "metadata": {},
   "source": [
    "Division with floats\n",
    "\n"
   ]
  },
  {
   "cell_type": "code",
   "execution_count": null,
   "id": "aa5438cf",
   "metadata": {
    "vscode": {
     "languageId": "sql"
    }
   },
   "outputs": [],
   "source": [
    "SELECT CAST(1 AS float) / CAST(3 AS float)\n"
   ]
  },
  {
   "cell_type": "markdown",
   "id": "fc846081",
   "metadata": {},
   "source": [
    "#### LAG\n",
    "\n",
    "The LAG() function belongs to a category of functions known as window functions. This means it is possible to retrieve the value of the previous row from the current row of the result set. While aggregate functions are used to return a single value for a certain group of rows, for example, the LAG() function does not collapse and returns values for each row over a fixed set of rows.\n"
   ]
  },
  {
   "cell_type": "code",
   "execution_count": null,
   "id": "0b4aa592",
   "metadata": {
    "vscode": {
     "languageId": "sql"
    }
   },
   "outputs": [],
   "source": [
    "-- Syntax\n",
    "LAG (scalar_expression [, offset [, default ]]) OVER ( [ partition_by_clause ] order_by_clause )\n",
    "\n",
    "-- Example\n",
    "SELECT Organisation, [Year], Revenue,\n",
    "LAG (Revenue, 1, 0) \n",
    "OVER (PARTITION BY Organisation ORDER BY [Year]) AS PrevYearRevenue  \n",
    "FROM Org \n",
    "ORDER BY Organisation, [Year];\n"
   ]
  },
  {
   "cell_type": "markdown",
   "id": "f6fba410",
   "metadata": {},
   "source": [
    "Output\n",
    "\n",
    "\n",
    "| Organisation    | Year | Revenue | PrevYearRevenue | \n",
    "| -------- | ------- | ------- | ------- |\n",
    "| ABCD News  | 2013    | 440000    | 0    |  \n",
    "| ABCD News  | 2014    | 480000    | 440000    |  \n",
    "| ABCD News  | 2015    | 490000    | 480000    |  \n",
    "| ABCD News  | 2016    | 500000    | 490000    |  \n",
    "| ABCD News  | 2017    | 520000    | 500000    |  \n",
    "| ABCD News  | 2018    | 525000    | 5200000    |  \n",
    "| ABCD News  | 2019    | 540000    | 525000    |  \n",
    "| ABCD News  | 2020    | 550000    | 540000    |  \n",
    "| Z News  | 2016    | 720000    | 0    |  \n",
    "| Z News  | 2017    | 750000    | 720000    |  \n",
    "| Z News  | 2018    | 780000    | 750000    |  \n",
    "| Z News  | 2019    | 880000    | 780000    |  \n",
    "| Z News  | 2020    | 910000    | 880000    |  \n",
    "\n"
   ]
  },
  {
   "cell_type": "markdown",
   "id": "64fdafe1",
   "metadata": {},
   "source": [
    "##### LEAD()\n",
    "\n",
    "The LEAD() window function takes a column and an integer offset as arguments and returns the value of the cell in that column that is the specified number of rows after the current row. A third argument can be added to fill cells that do not have a corresponding row.\n"
   ]
  },
  {
   "cell_type": "code",
   "execution_count": null,
   "id": "14b556ee",
   "metadata": {
    "vscode": {
     "languageId": "sql"
    }
   },
   "outputs": [],
   "source": [
    "LEAD(column1_name, offset) OVER(\n",
    "  ORDER BY column2_name\n",
    ")"
   ]
  },
  {
   "cell_type": "markdown",
   "id": "e50dc7c9",
   "metadata": {},
   "source": [
    "Example. For this data table\n",
    "\n",
    "| Month    | Sales | \n",
    "| -------- | ------- | \n",
    "| 1  | 1000    |\n",
    "| 2  | 500    |\n",
    "| 3  | 750    |\n",
    "| 4  | 800    |\n",
    "\n",
    "\n",
    "\n"
   ]
  },
  {
   "cell_type": "code",
   "execution_count": null,
   "id": "e67a1f57",
   "metadata": {
    "vscode": {
     "languageId": "sql"
    }
   },
   "outputs": [],
   "source": [
    "SELECT month,\n",
    " sales,\n",
    " LEAD(sales, 1, \"NA\") OVER(\n",
    "   ORDER BY month\n",
    " ) AS next_month_sales\n",
    "FROM yearly_sales;\n",
    "\n",
    "\n"
   ]
  },
  {
   "cell_type": "markdown",
   "id": "fc4c1a5e",
   "metadata": {},
   "source": [
    "output\n",
    "\n",
    "| Month    | Sales | next_month_sales | \n",
    "| -------- | ------- | ------- | \n",
    "| 1  | 1000    | 500    |\n",
    "| 2  | 500    | 750    |\n",
    "| 3  | 750    | 800    |\n"
   ]
  },
  {
   "cell_type": "markdown",
   "id": "4ade72a0",
   "metadata": {},
   "source": [
    "#### Median, 80th, 95th percentiles\n",
    "\n"
   ]
  },
  {
   "cell_type": "code",
   "execution_count": null,
   "id": "65c9687b",
   "metadata": {
    "vscode": {
     "languageId": "sql"
    }
   },
   "outputs": [],
   "source": [
    "WITH days_table as (select (end_date-start_date) as days from customer_nodes where end_date != '9999-12-31')\n",
    "SELECT \n",
    "  percentile_cont(0.5) WITHIN GROUP (ORDER BY days) AS median,\n",
    "  percentile_cont(0.8) WITHIN GROUP (ORDER BY days) AS percentile80,\n",
    "  percentile_cont(0.95) WITHIN GROUP (ORDER BY days) AS percentile95\n",
    "FROM days_table"
   ]
  },
  {
   "cell_type": "markdown",
   "id": "3172045c",
   "metadata": {},
   "source": [
    "##### FILTER\n",
    "\n"
   ]
  },
  {
   "cell_type": "code",
   "execution_count": null,
   "id": "ea0b1902",
   "metadata": {
    "vscode": {
     "languageId": "sql"
    }
   },
   "outputs": [],
   "source": [
    "COUNT(*) FILTER (WHERE condition)\n",
    "\n",
    "-- This means: \"Count the rows that match this condition.\""
   ]
  },
  {
   "cell_type": "markdown",
   "id": "9997cc97",
   "metadata": {},
   "source": [
    "##### Common Table Expression (CTE)\n",
    "\n",
    "Consider the following query. Note, how call the function TO_DATE(week_date, 'FMDD/FMMM/YY') three times on three separate occasions. How can we fix this?"
   ]
  },
  {
   "cell_type": "code",
   "execution_count": null,
   "id": "7c41267c",
   "metadata": {
    "vscode": {
     "languageId": "sql"
    }
   },
   "outputs": [],
   "source": [
    "CREATE TABLE data_mart.clean_weekly_sales AS\n",
    "SELECT\n",
    "    TO_DATE(week_date, 'FMDD/FMMM/YY') AS week_date_converted,\n",
    "    EXTRACT(DOY FROM TO_DATE(week_date, 'FMDD/FMMM/YY'))::INT AS day_of_year,\n",
    "    CEIL(EXTRACT(DOY FROM TO_DATE(week_date, 'FMDD/FMMM/YY'))::NUMERIC / 7) AS custom_week\n",
    "FROM\n",
    "    data_mart.weekly_sales;\n",
    "\n",
    "SELECT * FROM data_mart.clean_weekly_sales;"
   ]
  },
  {
   "cell_type": "markdown",
   "id": "8f9592e4",
   "metadata": {},
   "source": [
    "We CANNOT simply use week_date_converted as an alias for TO_DATE(week_date, 'FMDD/FMMM/YY') after we declare it in seelct clause, as this would result in error"
   ]
  },
  {
   "cell_type": "code",
   "execution_count": null,
   "id": "432d960c",
   "metadata": {
    "vscode": {
     "languageId": "sql"
    }
   },
   "outputs": [],
   "source": [
    "CREATE TABLE data_mart.clean_weekly_sales AS\n",
    "SELECT\n",
    "    TO_DATE(week_date, 'FMDD/FMMM/YY') AS week_date_converted,\n",
    "    -- below would result in ERROR\n",
    "    EXTRACT(DOY FROM week_date_converted)::INT AS day_of_year,\n",
    "    CEIL(EXTRACT(DOY FROM week_date_converted)::NUMERIC / 7) AS custom_week\n",
    "FROM\n",
    "    data_mart.weekly_sales;\n",
    "\n",
    "SELECT * FROM data_mart.clean_weekly_sales;"
   ]
  },
  {
   "cell_type": "markdown",
   "id": "b9c1e8da",
   "metadata": {},
   "source": [
    "Instead use Commont Table Expression (CTE).  CTE is a way to define a temporary result set (a kind of named subquery) that exists only within the scope of a single query. \n",
    "\n",
    "It's useful when:\n",
    "\n",
    "- You want to avoid repeating complex expressions (e.g., TO_DATE(...)) multiple times.\n",
    "\n",
    "- You want to break your query into logical, readable steps.\n",
    "\n",
    "- You need to reference a calculated value multiple times in the same query.\n",
    "\n",
    "❓ So why can’t you reuse an alias like week_date_converted directly in the same SELECT?\n",
    "\n",
    "Because in standard SQL (including PostgreSQL), column aliases are only visible in the ORDER BY clause, not in other expressions within the same SELECT clause.\n",
    "\n",
    "The CTE evaluates TO_DATE(...) once, assigns it the name week_date_converted, and makes it reusable like a temporary table:\n",
    "\n",
    "\n",
    "\n"
   ]
  },
  {
   "cell_type": "code",
   "execution_count": null,
   "id": "33a0c06a",
   "metadata": {
    "vscode": {
     "languageId": "sql"
    }
   },
   "outputs": [],
   "source": [
    "CREATE TABLE data_mart.clean_weekly_sales AS\n",
    "WITH converted AS (\n",
    "    SELECT\n",
    "        TO_DATE(week_date, 'FMDD/FMMM/YY') AS week_date_converted\n",
    "    FROM\n",
    "        data_mart.weekly_sales\n",
    ")\n",
    "SELECT\n",
    "    week_date_converted,\n",
    "    EXTRACT(DOY FROM week_date_converted)::INT AS day_of_year,\n",
    "    CEIL(EXTRACT(DOY FROM week_date_converted)::NUMERIC / 7) AS custom_week\n",
    "FROM\n",
    "    converted;"
   ]
  },
  {
   "cell_type": "markdown",
   "id": "568ff9fa",
   "metadata": {},
   "source": [
    "##### Generating Series\n",
    "\n",
    "If we want to create a series of all numbers within a certain range, use generate_series()"
   ]
  },
  {
   "cell_type": "code",
   "execution_count": null,
   "id": "59418e8b",
   "metadata": {
    "vscode": {
     "languageId": "sql"
    }
   },
   "outputs": [],
   "source": [
    "SELECT * FROM generate_series(2,4);\n",
    " generate_series\n",
    "-----------------\n",
    "               2\n",
    "               3\n",
    "               4\n",
    "(3 rows)\n",
    "\n",
    "SELECT * FROM generate_series(5,1,-2);\n",
    " generate_series\n",
    "-----------------\n",
    "               5\n",
    "               3\n",
    "               1\n",
    "(3 rows)\n",
    "\n",
    "SELECT * FROM generate_series(4,3);\n",
    " generate_series\n",
    "-----------------\n",
    "(0 rows)\n",
    "\n",
    "SELECT generate_series(1.1, 4, 1.3);\n",
    " generate_series\n",
    "-----------------\n",
    "             1.1\n",
    "             2.4\n",
    "             3.7\n",
    "(3 rows)\n",
    "\n",
    "-- this example relies on the date-plus-integer operator:\n",
    "SELECT current_date + s.a AS dates FROM generate_series(0,14,7) AS s(a);\n",
    "   dates\n",
    "------------\n",
    " 2004-02-05\n",
    " 2004-02-12\n",
    " 2004-02-19\n",
    "(3 rows)\n",
    "\n",
    "SELECT * FROM generate_series('2008-03-01 00:00'::timestamp,\n",
    "                              '2008-03-04 12:00', '10 hours');\n",
    "   generate_series\n",
    "---------------------\n",
    " 2008-03-01 00:00:00\n",
    " 2008-03-01 10:00:00\n",
    " 2008-03-01 20:00:00\n",
    " 2008-03-02 06:00:00\n",
    " 2008-03-02 16:00:00\n",
    " 2008-03-03 02:00:00\n",
    " 2008-03-03 12:00:00\n",
    " 2008-03-03 22:00:00\n",
    " 2008-03-04 08:00:00\n",
    "(9 rows)\n",
    "\n",
    "-- this example assumes that TimeZone is set to UTC; note the DST transition:\n",
    "SELECT * FROM generate_series('2001-10-22 00:00 -04:00'::timestamptz,\n",
    "                              '2001-11-01 00:00 -05:00'::timestamptz,\n",
    "                              '1 day'::interval, 'America/New_York');\n",
    "    generate_series\n",
    "------------------------\n",
    " 2001-10-22 04:00:00+00\n",
    " 2001-10-23 04:00:00+00\n",
    " 2001-10-24 04:00:00+00\n",
    " 2001-10-25 04:00:00+00\n",
    " 2001-10-26 04:00:00+00\n",
    " 2001-10-27 04:00:00+00\n",
    " 2001-10-28 04:00:00+00\n",
    " 2001-10-29 05:00:00+00\n",
    " 2001-10-30 05:00:00+00\n",
    " 2001-10-31 05:00:00+00\n",
    " 2001-11-01 05:00:00+00\n",
    "(11 rows)\n"
   ]
  },
  {
   "cell_type": "code",
   "execution_count": null,
   "id": "c30f10d1",
   "metadata": {
    "vscode": {
     "languageId": "sql"
    }
   },
   "outputs": [],
   "source": [
    "CREATE TABLE data_mart.clean_weekly_sales AS\n",
    "SELECT\n",
    "    TO_DATE(week_date, 'FMDD/FMMM/YY') AS week_date_converted,\n",
    "    CEIL(EXTRACT(DOY FROM TO_DATE(week_date, 'FMDD/FMMM/YY'))::NUMERIC / 7) AS week_number,\n",
    "    Extract(MONTH FROM TO_DATE(week_date, 'FMDD/FMMM/YY')) AS month_number,\n",
    "    Extract(YEAR FROM TO_DATE(week_date, 'FMDD/FMMM/YY')) AS calender_year,\n",
    "    segment,\n",
    "    CASE\n",
    "    \tWHEN segment LIKE '%1' THEN 'Young Adults'\n",
    "        WHEN segment LIKE '%2' THEN 'Middle Aged'\n",
    "        WHEN segment LIKE '%3' THEN 'Retirees'\n",
    "        WHEN segment LIKE '%4' THEN 'Retirees'\n",
    "        ELSE null\n",
    "    END AS age_band,\n",
    "    CASE\n",
    "    \tWHEN segment LIKE 'C%' THEN 'Couples'\n",
    "        WHEN segment LIKE 'F%' THEN 'Families'\n",
    "        ELSE null\n",
    "    END AS demographic, \n",
    "    ROUND(sales::NUMERIC/transactions, 2) AS avg_transaction\n",
    "FROM\n",
    "    data_mart.weekly_sales;\n",
    "    \n",
    "WITH all_weeks AS (\n",
    "    SELECT generate_series(1, 52) AS week_number\n",
    ")\n",
    "\n",
    "\n",
    "SELECT\n",
    "    all_weeks.week_number\n",
    "FROM\n",
    "    all_weeks\n",
    "LEFT JOIN data_mart.clean_weekly_sales ON data_mart.clean_weekly_sales.week_number = all_weeks.week_number\n",
    "WHERE\n",
    "    data_mart.clean_weekly_sales.week_number IS NULL;\n"
   ]
  },
  {
   "cell_type": "markdown",
   "id": "3a7817f1",
   "metadata": {},
   "source": []
  }
 ],
 "metadata": {
  "language_info": {
   "name": "python"
  }
 },
 "nbformat": 4,
 "nbformat_minor": 5
}
